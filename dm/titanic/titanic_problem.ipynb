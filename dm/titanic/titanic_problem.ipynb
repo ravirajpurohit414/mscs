{
 "cells": [
  {
   "cell_type": "markdown",
   "id": "2387ca7a",
   "metadata": {},
   "source": [
    "# <center> Titanic - Machine Learning from Disaster </center>\n"
   ]
  },
  {
   "cell_type": "markdown",
   "id": "b060fbea",
   "metadata": {},
   "source": [
    "----\n",
    "## Brief about the problem\n",
    "\n",
    "I am trying hands on basics of machine learning and found this Titanic problem as one of the best to practice on. This is one the legendary problems on Kaggle platform. \n",
    "\n",
    "The challenge is about one of the most infamous events in history - Titanic shipwreck. During its first journey on April 15, 1912, the RMS Titanic, which was thought to be invincible, sank after hitting an iceberg. Regrettably, the insufficient number of lifeboats available on board resulted in the loss of 1502 out of 2224 passengers and crew.\n",
    "\n",
    "Although luck played a role in determining survival, it appears that certain groups had a higher chance of surviving than others. The task at hand is to construct a forecasting model that answers the query, \"Which groups of individuals had a greater likelihood of surviving?\" by utilizing passenger data such as name, age, gender, socio-economic class, and other relevant factors.\n"
   ]
  },
  {
   "cell_type": "markdown",
   "id": "48320273",
   "metadata": {},
   "source": [
    "------------------\n",
    "## About the dataset\n",
    "\n",
    "We have been provided with two datasets, train.csv and test.csv, which contain comparable passenger information such as name, age, gender, socio-economic class, and more. \n",
    "\n",
    "**train.csv** dataset contains information about a subset of passengers who were onboard (specifically, 891 individuals) and is crucial as it indicates whether or not they survived, which is commonly referred to as the \"ground truth.\"\n",
    "\n",
    "**test.csv** dataset contains similar information except the “ground truth” for each passenger. Using the pattern found in the train.csv dataset, we need to predict whether the other 418 passengers on board found in test.csv dataset survived or not."
   ]
  },
  {
   "cell_type": "markdown",
   "id": "f0b41ada",
   "metadata": {},
   "source": [
    "----\n",
    "## **Reference**\n",
    "\n",
    "I have referred from the notebook provided by Alexis Cook in the official competition on Kaggle.\n",
    "\n",
    "Link - https://www.kaggle.com/code/alexisbcook/titanic-tutorial/notebook\n"
   ]
  },
  {
   "cell_type": "markdown",
   "id": "d672fef8",
   "metadata": {},
   "source": [
    "---\n",
    "## Execution"
   ]
  },
  {
   "cell_type": "code",
   "execution_count": 22,
   "id": "d29c5252",
   "metadata": {},
   "outputs": [],
   "source": [
    "## import required libraries\n",
    "import numpy as np # linear algebra\n",
    "import pandas as pd # data processing"
   ]
  },
  {
   "cell_type": "markdown",
   "id": "1e11432d",
   "metadata": {},
   "source": [
    "### load data\n",
    "\n",
    "Load the data into the workspace to process into a usable format and use for training machine learning model."
   ]
  },
  {
   "cell_type": "code",
   "execution_count": 2,
   "id": "a94cd3ad",
   "metadata": {},
   "outputs": [
    {
     "data": {
      "text/html": [
       "<div>\n",
       "<style scoped>\n",
       "    .dataframe tbody tr th:only-of-type {\n",
       "        vertical-align: middle;\n",
       "    }\n",
       "\n",
       "    .dataframe tbody tr th {\n",
       "        vertical-align: top;\n",
       "    }\n",
       "\n",
       "    .dataframe thead th {\n",
       "        text-align: right;\n",
       "    }\n",
       "</style>\n",
       "<table border=\"1\" class=\"dataframe\">\n",
       "  <thead>\n",
       "    <tr style=\"text-align: right;\">\n",
       "      <th></th>\n",
       "      <th>PassengerId</th>\n",
       "      <th>Survived</th>\n",
       "      <th>Pclass</th>\n",
       "      <th>Name</th>\n",
       "      <th>Sex</th>\n",
       "      <th>Age</th>\n",
       "      <th>SibSp</th>\n",
       "      <th>Parch</th>\n",
       "      <th>Ticket</th>\n",
       "      <th>Fare</th>\n",
       "      <th>Cabin</th>\n",
       "      <th>Embarked</th>\n",
       "    </tr>\n",
       "  </thead>\n",
       "  <tbody>\n",
       "    <tr>\n",
       "      <th>886</th>\n",
       "      <td>887</td>\n",
       "      <td>0</td>\n",
       "      <td>2</td>\n",
       "      <td>Montvila, Rev. Juozas</td>\n",
       "      <td>male</td>\n",
       "      <td>27.0</td>\n",
       "      <td>0</td>\n",
       "      <td>0</td>\n",
       "      <td>211536</td>\n",
       "      <td>13.00</td>\n",
       "      <td>NaN</td>\n",
       "      <td>S</td>\n",
       "    </tr>\n",
       "    <tr>\n",
       "      <th>887</th>\n",
       "      <td>888</td>\n",
       "      <td>1</td>\n",
       "      <td>1</td>\n",
       "      <td>Graham, Miss. Margaret Edith</td>\n",
       "      <td>female</td>\n",
       "      <td>19.0</td>\n",
       "      <td>0</td>\n",
       "      <td>0</td>\n",
       "      <td>112053</td>\n",
       "      <td>30.00</td>\n",
       "      <td>B42</td>\n",
       "      <td>S</td>\n",
       "    </tr>\n",
       "    <tr>\n",
       "      <th>888</th>\n",
       "      <td>889</td>\n",
       "      <td>0</td>\n",
       "      <td>3</td>\n",
       "      <td>Johnston, Miss. Catherine Helen \"Carrie\"</td>\n",
       "      <td>female</td>\n",
       "      <td>NaN</td>\n",
       "      <td>1</td>\n",
       "      <td>2</td>\n",
       "      <td>W./C. 6607</td>\n",
       "      <td>23.45</td>\n",
       "      <td>NaN</td>\n",
       "      <td>S</td>\n",
       "    </tr>\n",
       "    <tr>\n",
       "      <th>889</th>\n",
       "      <td>890</td>\n",
       "      <td>1</td>\n",
       "      <td>1</td>\n",
       "      <td>Behr, Mr. Karl Howell</td>\n",
       "      <td>male</td>\n",
       "      <td>26.0</td>\n",
       "      <td>0</td>\n",
       "      <td>0</td>\n",
       "      <td>111369</td>\n",
       "      <td>30.00</td>\n",
       "      <td>C148</td>\n",
       "      <td>C</td>\n",
       "    </tr>\n",
       "    <tr>\n",
       "      <th>890</th>\n",
       "      <td>891</td>\n",
       "      <td>0</td>\n",
       "      <td>3</td>\n",
       "      <td>Dooley, Mr. Patrick</td>\n",
       "      <td>male</td>\n",
       "      <td>32.0</td>\n",
       "      <td>0</td>\n",
       "      <td>0</td>\n",
       "      <td>370376</td>\n",
       "      <td>7.75</td>\n",
       "      <td>NaN</td>\n",
       "      <td>Q</td>\n",
       "    </tr>\n",
       "  </tbody>\n",
       "</table>\n",
       "</div>"
      ],
      "text/plain": [
       "     PassengerId  Survived  Pclass                                      Name  \\\n",
       "886          887         0       2                     Montvila, Rev. Juozas   \n",
       "887          888         1       1              Graham, Miss. Margaret Edith   \n",
       "888          889         0       3  Johnston, Miss. Catherine Helen \"Carrie\"   \n",
       "889          890         1       1                     Behr, Mr. Karl Howell   \n",
       "890          891         0       3                       Dooley, Mr. Patrick   \n",
       "\n",
       "        Sex   Age  SibSp  Parch      Ticket   Fare Cabin Embarked  \n",
       "886    male  27.0      0      0      211536  13.00   NaN        S  \n",
       "887  female  19.0      0      0      112053  30.00   B42        S  \n",
       "888  female   NaN      1      2  W./C. 6607  23.45   NaN        S  \n",
       "889    male  26.0      0      0      111369  30.00  C148        C  \n",
       "890    male  32.0      0      0      370376   7.75   NaN        Q  "
      ]
     },
     "execution_count": 2,
     "metadata": {},
     "output_type": "execute_result"
    }
   ],
   "source": [
    "train_data = pd.read_csv(\"./data/train.csv\")\n",
    "train_data.tail()"
   ]
  },
  {
   "cell_type": "code",
   "execution_count": 3,
   "id": "fe064e3e",
   "metadata": {},
   "outputs": [
    {
     "data": {
      "text/html": [
       "<div>\n",
       "<style scoped>\n",
       "    .dataframe tbody tr th:only-of-type {\n",
       "        vertical-align: middle;\n",
       "    }\n",
       "\n",
       "    .dataframe tbody tr th {\n",
       "        vertical-align: top;\n",
       "    }\n",
       "\n",
       "    .dataframe thead th {\n",
       "        text-align: right;\n",
       "    }\n",
       "</style>\n",
       "<table border=\"1\" class=\"dataframe\">\n",
       "  <thead>\n",
       "    <tr style=\"text-align: right;\">\n",
       "      <th></th>\n",
       "      <th>PassengerId</th>\n",
       "      <th>Pclass</th>\n",
       "      <th>Name</th>\n",
       "      <th>Sex</th>\n",
       "      <th>Age</th>\n",
       "      <th>SibSp</th>\n",
       "      <th>Parch</th>\n",
       "      <th>Ticket</th>\n",
       "      <th>Fare</th>\n",
       "      <th>Cabin</th>\n",
       "      <th>Embarked</th>\n",
       "    </tr>\n",
       "  </thead>\n",
       "  <tbody>\n",
       "    <tr>\n",
       "      <th>413</th>\n",
       "      <td>1305</td>\n",
       "      <td>3</td>\n",
       "      <td>Spector, Mr. Woolf</td>\n",
       "      <td>male</td>\n",
       "      <td>NaN</td>\n",
       "      <td>0</td>\n",
       "      <td>0</td>\n",
       "      <td>A.5. 3236</td>\n",
       "      <td>8.0500</td>\n",
       "      <td>NaN</td>\n",
       "      <td>S</td>\n",
       "    </tr>\n",
       "    <tr>\n",
       "      <th>414</th>\n",
       "      <td>1306</td>\n",
       "      <td>1</td>\n",
       "      <td>Oliva y Ocana, Dona. Fermina</td>\n",
       "      <td>female</td>\n",
       "      <td>39.0</td>\n",
       "      <td>0</td>\n",
       "      <td>0</td>\n",
       "      <td>PC 17758</td>\n",
       "      <td>108.9000</td>\n",
       "      <td>C105</td>\n",
       "      <td>C</td>\n",
       "    </tr>\n",
       "    <tr>\n",
       "      <th>415</th>\n",
       "      <td>1307</td>\n",
       "      <td>3</td>\n",
       "      <td>Saether, Mr. Simon Sivertsen</td>\n",
       "      <td>male</td>\n",
       "      <td>38.5</td>\n",
       "      <td>0</td>\n",
       "      <td>0</td>\n",
       "      <td>SOTON/O.Q. 3101262</td>\n",
       "      <td>7.2500</td>\n",
       "      <td>NaN</td>\n",
       "      <td>S</td>\n",
       "    </tr>\n",
       "    <tr>\n",
       "      <th>416</th>\n",
       "      <td>1308</td>\n",
       "      <td>3</td>\n",
       "      <td>Ware, Mr. Frederick</td>\n",
       "      <td>male</td>\n",
       "      <td>NaN</td>\n",
       "      <td>0</td>\n",
       "      <td>0</td>\n",
       "      <td>359309</td>\n",
       "      <td>8.0500</td>\n",
       "      <td>NaN</td>\n",
       "      <td>S</td>\n",
       "    </tr>\n",
       "    <tr>\n",
       "      <th>417</th>\n",
       "      <td>1309</td>\n",
       "      <td>3</td>\n",
       "      <td>Peter, Master. Michael J</td>\n",
       "      <td>male</td>\n",
       "      <td>NaN</td>\n",
       "      <td>1</td>\n",
       "      <td>1</td>\n",
       "      <td>2668</td>\n",
       "      <td>22.3583</td>\n",
       "      <td>NaN</td>\n",
       "      <td>C</td>\n",
       "    </tr>\n",
       "  </tbody>\n",
       "</table>\n",
       "</div>"
      ],
      "text/plain": [
       "     PassengerId  Pclass                          Name     Sex   Age  SibSp  \\\n",
       "413         1305       3            Spector, Mr. Woolf    male   NaN      0   \n",
       "414         1306       1  Oliva y Ocana, Dona. Fermina  female  39.0      0   \n",
       "415         1307       3  Saether, Mr. Simon Sivertsen    male  38.5      0   \n",
       "416         1308       3           Ware, Mr. Frederick    male   NaN      0   \n",
       "417         1309       3      Peter, Master. Michael J    male   NaN      1   \n",
       "\n",
       "     Parch              Ticket      Fare Cabin Embarked  \n",
       "413      0           A.5. 3236    8.0500   NaN        S  \n",
       "414      0            PC 17758  108.9000  C105        C  \n",
       "415      0  SOTON/O.Q. 3101262    7.2500   NaN        S  \n",
       "416      0              359309    8.0500   NaN        S  \n",
       "417      1                2668   22.3583   NaN        C  "
      ]
     },
     "execution_count": 3,
     "metadata": {},
     "output_type": "execute_result"
    }
   ],
   "source": [
    "test_data = pd.read_csv(\"./data/test.csv\")\n",
    "test_data.tail()"
   ]
  },
  {
   "cell_type": "code",
   "execution_count": 4,
   "id": "c5f9ab3a",
   "metadata": {},
   "outputs": [
    {
     "name": "stdout",
     "output_type": "stream",
     "text": [
      "Shape Train data (891, 12), Test data (418, 11)\n"
     ]
    }
   ],
   "source": [
    "print(\"Shape Train data {}, Test data {}\".format(train_data.shape, test_data.shape))"
   ]
  },
  {
   "cell_type": "markdown",
   "id": "aa90399d",
   "metadata": {},
   "source": [
    "----\n",
    "## Data Processing\n",
    "\n",
    "Process the data to get it in a usable format, clean it and replace/remove NaN values if required"
   ]
  },
  {
   "cell_type": "code",
   "execution_count": 5,
   "id": "d797d397",
   "metadata": {},
   "outputs": [],
   "source": [
    "## Drop the useless columns\n",
    "train_data.drop(['Name','Cabin','Ticket'], axis=1, inplace=True)\n",
    "test_data.drop(['Name','Cabin','Ticket'], axis=1, inplace=True)"
   ]
  },
  {
   "cell_type": "code",
   "execution_count": 6,
   "id": "d75ca433",
   "metadata": {},
   "outputs": [
    {
     "data": {
      "text/plain": [
       "PassengerId      0\n",
       "Survived         0\n",
       "Pclass           0\n",
       "Sex              0\n",
       "Age            177\n",
       "SibSp            0\n",
       "Parch            0\n",
       "Fare             0\n",
       "Embarked         2\n",
       "dtype: int64"
      ]
     },
     "execution_count": 6,
     "metadata": {},
     "output_type": "execute_result"
    }
   ],
   "source": [
    "## check if data contains nan values\n",
    "train_data.isna().sum()"
   ]
  },
  {
   "cell_type": "code",
   "execution_count": 7,
   "id": "bc8b4818",
   "metadata": {},
   "outputs": [
    {
     "data": {
      "text/plain": [
       "PassengerId     0\n",
       "Pclass          0\n",
       "Sex             0\n",
       "Age            86\n",
       "SibSp           0\n",
       "Parch           0\n",
       "Fare            1\n",
       "Embarked        0\n",
       "dtype: int64"
      ]
     },
     "execution_count": 7,
     "metadata": {},
     "output_type": "execute_result"
    }
   ],
   "source": [
    "test_data.isna().sum()"
   ]
  },
  {
   "cell_type": "code",
   "execution_count": 8,
   "id": "d5645278",
   "metadata": {},
   "outputs": [],
   "source": [
    "## Fill na for Embarked column using most frequent value\n",
    "train_data['Embarked'].fillna(train_data['Embarked'].mode()[0], inplace = True)\n",
    "test_data['Embarked'].fillna(test_data['Embarked'].mode()[0], inplace = True)"
   ]
  },
  {
   "cell_type": "code",
   "execution_count": 9,
   "id": "614edf88",
   "metadata": {},
   "outputs": [],
   "source": [
    "## Fill na for Fare column using median value\n",
    "test_data['Fare'].fillna(test_data['Fare'].median(), inplace = True)"
   ]
  },
  {
   "cell_type": "code",
   "execution_count": 10,
   "id": "547c571c",
   "metadata": {},
   "outputs": [],
   "source": [
    "## Fill na for Age column using mean-std, mean+std range\n",
    "mean_train_data = train_data[\"Age\"].mean()\n",
    "std_train_data = train_data[\"Age\"].std()\n",
    "\n",
    "missing_count = train_data[\"Age\"].isna().sum()\n",
    "## generate random numbers in the range of mean-std , mean_std to fill NaNs\n",
    "random_gen_age = np.random.randint(mean_train_data - std_train_data, \n",
    "                                   mean_train_data + std_train_data, \n",
    "                                   size = missing_count)\n",
    "\n",
    "## fill nan\n",
    "train_data_age = train_data[\"Age\"].copy()\n",
    "train_data_age[np.isnan(train_data_age)] = random_gen_age\n",
    "train_data[\"Age\"] = train_data_age\n",
    "\n",
    "## convert data type to int\n",
    "train_data[\"Age\"] = train_data[\"Age\"].astype(int)"
   ]
  },
  {
   "cell_type": "code",
   "execution_count": 11,
   "id": "a6dcf018",
   "metadata": {},
   "outputs": [],
   "source": [
    "## Fill na for Age column using mean-std, mean+std range\n",
    "mean_test_data = test_data[\"Age\"].mean()\n",
    "std_test_data = test_data[\"Age\"].std()\n",
    "\n",
    "missing_count = test_data[\"Age\"].isnull().sum()\n",
    "## generate random numbers in the range of mean-std , mean_std to fill NaNs\n",
    "random_gen_age = np.random.randint(mean_test_data - std_test_data, \n",
    "                                   mean_test_data + std_test_data, \n",
    "                                   size = missing_count)\n",
    "\n",
    "## fill nan\n",
    "test_data_age = test_data[\"Age\"].copy()#creating a copy for further use\n",
    "test_data_age[np.isnan(test_data_age)] = random_gen_age\n",
    "test_data[\"Age\"] = test_data_age\n",
    "\n",
    "## convert data type to int\n",
    "test_data[\"Age\"] = test_data[\"Age\"].astype(int)"
   ]
  },
  {
   "cell_type": "code",
   "execution_count": 12,
   "id": "c1d297c9",
   "metadata": {},
   "outputs": [],
   "source": [
    "## Transform Pclass column into categories\n",
    "train_data['Pclass'] = train_data.Pclass.astype('category')\n",
    "test_data['Pclass'] = test_data.Pclass.astype('category')"
   ]
  },
  {
   "cell_type": "code",
   "execution_count": 13,
   "id": "4dcffa99",
   "metadata": {},
   "outputs": [],
   "source": [
    "## Transform age column into category\n",
    "bins = [0,18,50,150]\n",
    "labels=['Child','Adult','Senior']\n",
    "\n",
    "## Categories - Child, Adult, Senior\n",
    "train_data['Age_'] = pd.cut(train_data['Age'], bins=bins, labels=labels, right=False)\n",
    "train_data.drop('Age', axis = 1, inplace=True)\n",
    "test_data['Age_'] = pd.cut(test_data['Age'], bins=bins, labels=labels, right=False)\n",
    "test_data.drop('Age', axis=1, inplace=True)"
   ]
  },
  {
   "cell_type": "code",
   "execution_count": 19,
   "id": "56d6802f",
   "metadata": {},
   "outputs": [
    {
     "data": {
      "text/html": [
       "<div>\n",
       "<style scoped>\n",
       "    .dataframe tbody tr th:only-of-type {\n",
       "        vertical-align: middle;\n",
       "    }\n",
       "\n",
       "    .dataframe tbody tr th {\n",
       "        vertical-align: top;\n",
       "    }\n",
       "\n",
       "    .dataframe thead th {\n",
       "        text-align: right;\n",
       "    }\n",
       "</style>\n",
       "<table border=\"1\" class=\"dataframe\">\n",
       "  <thead>\n",
       "    <tr style=\"text-align: right;\">\n",
       "      <th></th>\n",
       "      <th>PassengerId</th>\n",
       "      <th>SibSp</th>\n",
       "      <th>Parch</th>\n",
       "      <th>Fare</th>\n",
       "      <th>Pclass_1</th>\n",
       "      <th>Pclass_2</th>\n",
       "      <th>Pclass_3</th>\n",
       "      <th>Sex_female</th>\n",
       "      <th>Sex_male</th>\n",
       "      <th>Embarked_C</th>\n",
       "      <th>Embarked_Q</th>\n",
       "      <th>Embarked_S</th>\n",
       "      <th>Age__Child</th>\n",
       "      <th>Age__Adult</th>\n",
       "      <th>Age__Senior</th>\n",
       "    </tr>\n",
       "  </thead>\n",
       "  <tbody>\n",
       "    <tr>\n",
       "      <th>0</th>\n",
       "      <td>1</td>\n",
       "      <td>1</td>\n",
       "      <td>0</td>\n",
       "      <td>7.2500</td>\n",
       "      <td>0</td>\n",
       "      <td>0</td>\n",
       "      <td>1</td>\n",
       "      <td>0</td>\n",
       "      <td>1</td>\n",
       "      <td>0</td>\n",
       "      <td>0</td>\n",
       "      <td>1</td>\n",
       "      <td>0</td>\n",
       "      <td>1</td>\n",
       "      <td>0</td>\n",
       "    </tr>\n",
       "    <tr>\n",
       "      <th>1</th>\n",
       "      <td>2</td>\n",
       "      <td>1</td>\n",
       "      <td>0</td>\n",
       "      <td>71.2833</td>\n",
       "      <td>1</td>\n",
       "      <td>0</td>\n",
       "      <td>0</td>\n",
       "      <td>1</td>\n",
       "      <td>0</td>\n",
       "      <td>1</td>\n",
       "      <td>0</td>\n",
       "      <td>0</td>\n",
       "      <td>0</td>\n",
       "      <td>1</td>\n",
       "      <td>0</td>\n",
       "    </tr>\n",
       "    <tr>\n",
       "      <th>2</th>\n",
       "      <td>3</td>\n",
       "      <td>0</td>\n",
       "      <td>0</td>\n",
       "      <td>7.9250</td>\n",
       "      <td>0</td>\n",
       "      <td>0</td>\n",
       "      <td>1</td>\n",
       "      <td>1</td>\n",
       "      <td>0</td>\n",
       "      <td>0</td>\n",
       "      <td>0</td>\n",
       "      <td>1</td>\n",
       "      <td>0</td>\n",
       "      <td>1</td>\n",
       "      <td>0</td>\n",
       "    </tr>\n",
       "    <tr>\n",
       "      <th>3</th>\n",
       "      <td>4</td>\n",
       "      <td>1</td>\n",
       "      <td>0</td>\n",
       "      <td>53.1000</td>\n",
       "      <td>1</td>\n",
       "      <td>0</td>\n",
       "      <td>0</td>\n",
       "      <td>1</td>\n",
       "      <td>0</td>\n",
       "      <td>0</td>\n",
       "      <td>0</td>\n",
       "      <td>1</td>\n",
       "      <td>0</td>\n",
       "      <td>1</td>\n",
       "      <td>0</td>\n",
       "    </tr>\n",
       "    <tr>\n",
       "      <th>4</th>\n",
       "      <td>5</td>\n",
       "      <td>0</td>\n",
       "      <td>0</td>\n",
       "      <td>8.0500</td>\n",
       "      <td>0</td>\n",
       "      <td>0</td>\n",
       "      <td>1</td>\n",
       "      <td>0</td>\n",
       "      <td>1</td>\n",
       "      <td>0</td>\n",
       "      <td>0</td>\n",
       "      <td>1</td>\n",
       "      <td>0</td>\n",
       "      <td>1</td>\n",
       "      <td>0</td>\n",
       "    </tr>\n",
       "  </tbody>\n",
       "</table>\n",
       "</div>"
      ],
      "text/plain": [
       "   PassengerId  SibSp  Parch     Fare  Pclass_1  Pclass_2  Pclass_3  \\\n",
       "0            1      1      0   7.2500         0         0         1   \n",
       "1            2      1      0  71.2833         1         0         0   \n",
       "2            3      0      0   7.9250         0         0         1   \n",
       "3            4      1      0  53.1000         1         0         0   \n",
       "4            5      0      0   8.0500         0         0         1   \n",
       "\n",
       "   Sex_female  Sex_male  Embarked_C  Embarked_Q  Embarked_S  Age__Child  \\\n",
       "0           0         1           0           0           1           0   \n",
       "1           1         0           1           0           0           0   \n",
       "2           1         0           0           0           1           0   \n",
       "3           1         0           0           0           1           0   \n",
       "4           0         1           0           0           1           0   \n",
       "\n",
       "   Age__Adult  Age__Senior  \n",
       "0           1            0  \n",
       "1           1            0  \n",
       "2           1            0  \n",
       "3           1            0  \n",
       "4           1            0  "
      ]
     },
     "execution_count": 19,
     "metadata": {},
     "output_type": "execute_result"
    }
   ],
   "source": [
    "## prepare data for training and testing\n",
    "train_data_X = pd.get_dummies(train_data.drop('Survived', axis=1))\n",
    "test_data_X = pd.get_dummies(test_data)\n",
    "train_data_X.head(5)"
   ]
  },
  {
   "cell_type": "code",
   "execution_count": 20,
   "id": "0fabce75",
   "metadata": {},
   "outputs": [
    {
     "data": {
      "text/plain": [
       "PassengerId    0\n",
       "SibSp          0\n",
       "Parch          0\n",
       "Fare           0\n",
       "Pclass_1       0\n",
       "Pclass_2       0\n",
       "Pclass_3       0\n",
       "Sex_female     0\n",
       "Sex_male       0\n",
       "Embarked_C     0\n",
       "Embarked_Q     0\n",
       "Embarked_S     0\n",
       "Age__Child     0\n",
       "Age__Adult     0\n",
       "Age__Senior    0\n",
       "dtype: int64"
      ]
     },
     "execution_count": 20,
     "metadata": {},
     "output_type": "execute_result"
    }
   ],
   "source": [
    "## final check for nan values\n",
    "train_data_X.isna().sum()"
   ]
  },
  {
   "cell_type": "code",
   "execution_count": 21,
   "id": "e56afeaa",
   "metadata": {},
   "outputs": [
    {
     "data": {
      "text/plain": [
       "PassengerId    0\n",
       "SibSp          0\n",
       "Parch          0\n",
       "Fare           0\n",
       "Pclass_1       0\n",
       "Pclass_2       0\n",
       "Pclass_3       0\n",
       "Sex_female     0\n",
       "Sex_male       0\n",
       "Embarked_C     0\n",
       "Embarked_Q     0\n",
       "Embarked_S     0\n",
       "Age__Child     0\n",
       "Age__Adult     0\n",
       "Age__Senior    0\n",
       "dtype: int64"
      ]
     },
     "execution_count": 21,
     "metadata": {},
     "output_type": "execute_result"
    }
   ],
   "source": [
    "test_data_X.isnull().sum()"
   ]
  },
  {
   "cell_type": "markdown",
   "id": "35f3a841",
   "metadata": {},
   "source": [
    "----\n",
    "## Model Training\n",
    "\n",
    "I will be training a Random Forest Classifier to fulfill the goal of this problem. "
   ]
  },
  {
   "cell_type": "code",
   "execution_count": 38,
   "id": "0d238cb2",
   "metadata": {},
   "outputs": [],
   "source": [
    "## import model library\n",
    "from sklearn.ensemble import RandomForestClassifier\n",
    "\n",
    "## label to provide to the model\n",
    "y = train_data[\"Survived\"]\n",
    "\n",
    "## set the hyper parameters for the model\n",
    "model = RandomForestClassifier(n_estimators=100, max_depth=8, random_state=1)\n",
    "model.fit(train_data_X, y)\n",
    "\n",
    "## predict output\n",
    "predictions = model.predict(test_data_X)"
   ]
  },
  {
   "cell_type": "code",
   "execution_count": 39,
   "id": "a656f6c1",
   "metadata": {},
   "outputs": [
    {
     "name": "stdout",
     "output_type": "stream",
     "text": [
      "Training accuracy is 92.03 %\n"
     ]
    }
   ],
   "source": [
    "## check the training accuracy\n",
    "from sklearn.metrics import accuracy_score\n",
    "\n",
    "accuracy_train = accuracy_score(y, model.predict(train_data_X))\n",
    "print(\"Training accuracy is {} %\".format(round(accuracy_train*100, 2)))"
   ]
  },
  {
   "cell_type": "code",
   "execution_count": 40,
   "id": "7718fd72",
   "metadata": {},
   "outputs": [],
   "source": [
    "## format the output for submission\n",
    "output = pd.DataFrame({'PassengerId': test_data.PassengerId, \n",
    "                       'Survived': predictions})\n",
    "## save the output as a csv file\n",
    "output.to_csv('submission.csv', index=False)"
   ]
  },
  {
   "cell_type": "markdown",
   "id": "4ef67402",
   "metadata": {},
   "source": [
    "---\n",
    "## Contribution\n",
    "\n",
    "While Alexis Cook provided a great introduction about the problem, that is not the best possible solution. \n",
    "In this notebook, I have modified the data processing and code in a manner to produce better output than the reference; **3% better** to be precise.\n",
    "\n",
    "My contribution includes the following aspects mentioned in this notebook -\n",
    "- Using better feature space : I am using more features, namely SibSp, Parch, Pclass, Sex, Fare, Embarked, and Age.\n",
    "    - The additional features i.e. Embarked and Age are converted to categorical type as they are categorical features\n",
    "    - Age has been converted from numerical to categorical feature by defining brackets for age groups\n",
    "    - NaN values are also handled in Fare, Embarked and Age features\n",
    "    - The Categorical features are filled with most frequent value to fill NaN values\n",
    "    - The numerical feature Fare is filled with median value to fill NaN values\n",
    "- Using the RandomForestClassifier in a better way i.e. tuning the hyperparameters like max_depth and n_estimators.\n",
    "- I also tried the Support Vector Machine model to compare the accuracy. Random Forest Classifier turns out to be better especially in case of testing dataset.\n",
    "\n"
   ]
  },
  {
   "cell_type": "markdown",
   "id": "7ecc350f",
   "metadata": {},
   "source": [
    "---\n",
    "## Output\n",
    "\n",
    "Finally, we can get the output generated from the machine learning model.\n",
    "This output is generated as a CSV file and can be submitted in the Kaggle competition to see the testing accuracy."
   ]
  }
 ],
 "metadata": {
  "kernelspec": {
   "display_name": "Python 3 (ipykernel)",
   "language": "python",
   "name": "python3"
  },
  "language_info": {
   "codemirror_mode": {
    "name": "ipython",
    "version": 3
   },
   "file_extension": ".py",
   "mimetype": "text/x-python",
   "name": "python",
   "nbconvert_exporter": "python",
   "pygments_lexer": "ipython3",
   "version": "3.9.12"
  }
 },
 "nbformat": 4,
 "nbformat_minor": 5
}
