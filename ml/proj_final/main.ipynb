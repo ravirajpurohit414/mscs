{
 "cells": [
  {
   "cell_type": "code",
   "execution_count": 1,
   "id": "28ccc582",
   "metadata": {},
   "outputs": [],
   "source": [
    "import numpy as np\n",
    "import pandas as pd\n",
    "import matplotlib.pyplot as plt\n",
    "\n"
   ]
  },
  {
   "cell_type": "code",
   "execution_count": 2,
   "id": "2c51df53",
   "metadata": {},
   "outputs": [],
   "source": [
    "def read_data(filename='./data/seeds_dataset.txt'):\n",
    "    \"\"\"\n",
    "    Load the dataset from the filepath.\n",
    "    \n",
    "    Parameters\n",
    "    ----------\n",
    "    filename - string\n",
    "    \n",
    "    Returns\n",
    "    -------\n",
    "    data - numpy array of floats\n",
    "    labels - numpy array of integers\n",
    "    \"\"\"\n",
    "    feats = []\n",
    "    labels = []\n",
    "    with open(filename, 'r') as f:\n",
    "        for line in f:\n",
    "            line = line.strip().replace('\\t\\t','\\t').split('\\t')\n",
    "            f1, f2, f3, f4, f5, f6, f7, label = float(line[0]), float(line[1]), \\\n",
    "                                                float(line[2]), float(line[3]), \\\n",
    "                                                float(line[4]), float(line[5]), \\\n",
    "                                                float(line[6]), int(line[7])\n",
    "            feats.append([f1, f2, f3, f4, f5, f6, f7])\n",
    "            labels.append(label)\n",
    "    return np.array(feats), np.array(labels)\n"
   ]
  },
  {
   "cell_type": "code",
   "execution_count": 3,
   "id": "4b622233",
   "metadata": {},
   "outputs": [],
   "source": [
    "def std_scaler(feats):\n",
    "    \"\"\"\n",
    "    \n",
    "    \"\"\"\n",
    "    f_mean = np.mean(feats, axis=0)\n",
    "    f_std = np.std(feats, axis=0)\n",
    "    \n",
    "    feats_scaled = (feats - f_mean)/f_std\n",
    "    return feats_scaled\n"
   ]
  },
  {
   "cell_type": "code",
   "execution_count": 4,
   "id": "45f0aeaa",
   "metadata": {},
   "outputs": [],
   "source": [
    "def train_test_split(X, y, test_size=0.2, random_state=21):\n",
    "    \"\"\"\n",
    "    Split the dataset into train and test splits.\n",
    "    \n",
    "    Parameters:\n",
    "    X (numpy.ndarray): Input features array.\n",
    "    y (numpy.ndarray): Target variable array.\n",
    "    test_size (float, optional): The proportion of the dataset to include in the test split (default: 0.2).\n",
    "    random_state (int, optional): Seed value for random number generation (default: 21).\n",
    "    \n",
    "    Returns:\n",
    "    X_train (numpy.ndarray): Training set input features.\n",
    "    y_train (numpy.ndarray): Training set target variable.\n",
    "    X_test (numpy.ndarray): Test set input features.\n",
    "    y_test (numpy.ndarray): Test set target variable.\n",
    "    \"\"\"\n",
    "    \n",
    "    # Set the seed for reproducibility\n",
    "    np.random.seed(random_state)\n",
    "    \n",
    "    # Shuffle the dataset indices\n",
    "    indices = np.arange(X.shape[0])\n",
    "    np.random.shuffle(indices)\n",
    "    \n",
    "    # Calculate the index to split the dataset\n",
    "    split_index = int((1 - test_size) * X.shape[0])\n",
    "    \n",
    "    # Split the dataset into train and test sets\n",
    "    X_train, X_test = X[indices[:split_index]], X[indices[split_index:]]\n",
    "    y_train, y_test = y[indices[:split_index]], y[indices[split_index:]]\n",
    "    \n",
    "    return X_train, y_train, X_test, y_test"
   ]
  },
  {
   "cell_type": "code",
   "execution_count": 5,
   "id": "bd13ad0b",
   "metadata": {},
   "outputs": [],
   "source": [
    "def hierarchical_clustering(X, n_clusters):\n",
    "    # Calculate the pairwise distance matrix\n",
    "    pairwise_dist = np.zeros((X.shape[0], X.shape[0]))\n",
    "    for i in range(X.shape[0]):\n",
    "        for j in range(X.shape[0]):\n",
    "            pairwise_dist[i, j] = np.linalg.norm(X[i] - X[j])\n",
    "\n",
    "    # Initialize cluster assignments\n",
    "    cluster_assignments = np.arange(X.shape[0])\n",
    "\n",
    "    # Perform hierarchical clustering\n",
    "    for _ in range(X.shape[0] - n_clusters):\n",
    "        # Find the two closest clusters\n",
    "        closest_clusters = np.unravel_index(np.argmin(pairwise_dist), pairwise_dist.shape)\n",
    "\n",
    "        # Merge the closest clusters\n",
    "        cluster_assignments[cluster_assignments == closest_clusters[1]] = closest_clusters[0]\n",
    "\n",
    "        # Update the pairwise distance matrix\n",
    "        pairwise_dist[closest_clusters[0], :] = np.minimum(pairwise_dist[closest_clusters[0], :], pairwise_dist[closest_clusters[1], :])\n",
    "        pairwise_dist[:, closest_clusters[0]] = pairwise_dist[closest_clusters[0], :]\n",
    "\n",
    "    return cluster_assignments"
   ]
  },
  {
   "cell_type": "code",
   "execution_count": 6,
   "id": "c23e5f62",
   "metadata": {},
   "outputs": [
    {
     "name": "stdout",
     "output_type": "stream",
     "text": [
      "distortion is---------- \n",
      "[0. 0. 0. 0. 0. 0.]\n"
     ]
    },
    {
     "data": {
      "image/png": "[encoded data removed]",
      "text/plain": [
       "<Figure size 432x288 with 1 Axes>"
      ]
     },
     "metadata": {
      "needs_background": "light"
     },
     "output_type": "display_data"
    },
    {
     "name": "stdout",
     "output_type": "stream",
     "text": [
      "[0 0 0 0 0 0 0 0 0 0 0 0 0 0 0 0 0 0 0 0 0 0 0 0 0 0 0 0 0 0 0 0 0 0 0 0 0\n",
      " 0 0 0 0 0 0 0 0 0 0 0 0 0 0 0 0 0 0 0 0 0 0 0 0 0 0 0 0 0 0 0 0 0 1 1 1 1\n",
      " 1 1 1 1 1 1 1 1 1 1 1 1 1 1 1 1 1 1 1 1 1 1 1 1 1 1 1 1 1 1 1 1 1 1 1 1 1\n",
      " 1 1 1 1 1 1 1 1 1 1 1 1 1 1 1 1 1 1 1 1 1 1 1 1 1 1 1 1 1 2 2 2 2 2 2 2 2\n",
      " 2 2 2 2 2 2 2 2 2 2 2 2 2 2 2 2 2 2 2 2 2 2 2 2 2 2 2 2 2 2 2 2 2 2 2 2 2\n",
      " 2 2 2 2 2 2 2 2 2 2 2 2 2 2 2 2 2 2 2 2 2 2 2 2 2]\n"
     ]
    }
   ],
   "source": [
    "# Load the dataset\n",
    "feats, labels = read_data()\n",
    "labels = np.array([0 if i==1 else 1 if i==2 else 2 for i in labels])\n",
    "\n",
    "X = std_scaler(feats)\n",
    "y = labels\n",
    "\n",
    "\n",
    "def determine_clusters(X):\n",
    "    max_clusters = min(X.shape) - 1\n",
    "    distortion = np.zeros(max_clusters)\n",
    "\n",
    "    for k in range(1, max_clusters + 1):\n",
    "        cluster_assignments = hierarchical_clustering(X, k)\n",
    "        unique_clusters = np.unique(cluster_assignments)\n",
    "\n",
    "        if len(unique_clusters) > 1:\n",
    "            cluster_centers = np.zeros((len(unique_clusters), X.shape[1]))\n",
    "\n",
    "            for i, cluster_id in enumerate(unique_clusters):\n",
    "                cluster_centers[i] = np.mean(X[cluster_assignments == cluster_id], axis=0)\n",
    "\n",
    "            distortion[k - 1] = np.sum(np.linalg.norm(X - cluster_centers[cluster_assignments], axis=1))\n",
    "\n",
    "    # Plot the distortion vs. number of clusters\n",
    "    plt.plot(np.arange(1, max_clusters + 1), distortion)\n",
    "    print(f'distortion is---------- \\n{distortion}')\n",
    "    plt.xlabel('Number of Clusters')\n",
    "    plt.ylabel('Distortion')\n",
    "    plt.title('Elbow Method')\n",
    "    plt.show()\n",
    "\n",
    "    return cluster_assignments\n",
    "\n",
    "\n",
    "def assign_labels(X, y, cluster_assignments):\n",
    "    labels = np.zeros(X.shape[0])\n",
    "\n",
    "    for cluster_id in np.unique(cluster_assignments):\n",
    "        cluster_indices = np.where(cluster_assignments == cluster_id)[0]\n",
    "        cluster_labels = y[cluster_indices]\n",
    "        unique_labels, label_counts = np.unique(cluster_labels, return_counts=True)\n",
    "        majority_label = unique_labels[np.argmax(label_counts)]\n",
    "        labels[cluster_indices] = majority_label\n",
    "\n",
    "    return labels.astype(int)\n",
    "\n",
    "# Determine the number of clusters\n",
    "cluster_assignments = determine_clusters(X)\n",
    "\n",
    "# Assign labels to the data points based on cluster similarity\n",
    "predicted_labels = assign_labels(X, y, cluster_assignments)\n",
    "\n",
    "# Print the predicted labels\n",
    "print(predicted_labels)\n"
   ]
  },
  {
   "cell_type": "code",
   "execution_count": 11,
   "id": "86bcc0dd",
   "metadata": {},
   "outputs": [
    {
     "ename": "ValueError",
     "evalue": "Number of labels is 210. Valid values are 2 to n_samples - 1 (inclusive)",
     "output_type": "error",
     "traceback": [
      "\u001b[0;31m---------------------------------------------------------------------------\u001b[0m",
      "\u001b[0;31mValueError\u001b[0m                                Traceback (most recent call last)",
      "Input \u001b[0;32mIn [11]\u001b[0m, in \u001b[0;36m<cell line: 19>\u001b[0;34m()\u001b[0m\n\u001b[1;32m     16\u001b[0m     plt\u001b[38;5;241m.\u001b[39mtitle(\u001b[38;5;124m'\u001b[39m\u001b[38;5;124mSilhouette Score Method\u001b[39m\u001b[38;5;124m'\u001b[39m)\n\u001b[1;32m     17\u001b[0m     plt\u001b[38;5;241m.\u001b[39mshow()\n\u001b[0;32m---> 19\u001b[0m \u001b[43mdetermine_clusters\u001b[49m\u001b[43m(\u001b[49m\u001b[43mstd_scaler\u001b[49m\u001b[43m(\u001b[49m\u001b[43mfeats\u001b[49m\u001b[43m)\u001b[49m\u001b[43m)\u001b[49m\n",
      "Input \u001b[0;32mIn [11]\u001b[0m, in \u001b[0;36mdetermine_clusters\u001b[0;34m(X)\u001b[0m\n\u001b[1;32m      7\u001b[0m \u001b[38;5;28;01mfor\u001b[39;00m k \u001b[38;5;129;01min\u001b[39;00m \u001b[38;5;28mrange\u001b[39m(\u001b[38;5;241m2\u001b[39m, max_clusters \u001b[38;5;241m+\u001b[39m \u001b[38;5;241m1\u001b[39m):\n\u001b[1;32m      8\u001b[0m     cluster_assignments \u001b[38;5;241m=\u001b[39m hierarchical_clustering(X, k)\n\u001b[0;32m----> 9\u001b[0m     score \u001b[38;5;241m=\u001b[39m \u001b[43msilhouette_score\u001b[49m\u001b[43m(\u001b[49m\u001b[43mX\u001b[49m\u001b[43m,\u001b[49m\u001b[43m \u001b[49m\u001b[43mcluster_assignments\u001b[49m\u001b[43m)\u001b[49m\n\u001b[1;32m     10\u001b[0m     silhouette_scores[k \u001b[38;5;241m-\u001b[39m \u001b[38;5;241m1\u001b[39m] \u001b[38;5;241m=\u001b[39m score\n\u001b[1;32m     12\u001b[0m \u001b[38;5;66;03m# Plot the silhouette scores vs. number of clusters\u001b[39;00m\n",
      "File \u001b[0;32m~/opt/anaconda3/lib/python3.9/site-packages/sklearn/metrics/cluster/_unsupervised.py:117\u001b[0m, in \u001b[0;36msilhouette_score\u001b[0;34m(X, labels, metric, sample_size, random_state, **kwds)\u001b[0m\n\u001b[1;32m    115\u001b[0m     \u001b[38;5;28;01melse\u001b[39;00m:\n\u001b[1;32m    116\u001b[0m         X, labels \u001b[38;5;241m=\u001b[39m X[indices], labels[indices]\n\u001b[0;32m--> 117\u001b[0m \u001b[38;5;28;01mreturn\u001b[39;00m np\u001b[38;5;241m.\u001b[39mmean(\u001b[43msilhouette_samples\u001b[49m\u001b[43m(\u001b[49m\u001b[43mX\u001b[49m\u001b[43m,\u001b[49m\u001b[43m \u001b[49m\u001b[43mlabels\u001b[49m\u001b[43m,\u001b[49m\u001b[43m \u001b[49m\u001b[43mmetric\u001b[49m\u001b[38;5;241;43m=\u001b[39;49m\u001b[43mmetric\u001b[49m\u001b[43m,\u001b[49m\u001b[43m \u001b[49m\u001b[38;5;241;43m*\u001b[39;49m\u001b[38;5;241;43m*\u001b[39;49m\u001b[43mkwds\u001b[49m\u001b[43m)\u001b[49m)\n",
      "File \u001b[0;32m~/opt/anaconda3/lib/python3.9/site-packages/sklearn/metrics/cluster/_unsupervised.py:227\u001b[0m, in \u001b[0;36msilhouette_samples\u001b[0;34m(X, labels, metric, **kwds)\u001b[0m\n\u001b[1;32m    225\u001b[0m n_samples \u001b[38;5;241m=\u001b[39m \u001b[38;5;28mlen\u001b[39m(labels)\n\u001b[1;32m    226\u001b[0m label_freqs \u001b[38;5;241m=\u001b[39m np\u001b[38;5;241m.\u001b[39mbincount(labels)\n\u001b[0;32m--> 227\u001b[0m \u001b[43mcheck_number_of_labels\u001b[49m\u001b[43m(\u001b[49m\u001b[38;5;28;43mlen\u001b[39;49m\u001b[43m(\u001b[49m\u001b[43mle\u001b[49m\u001b[38;5;241;43m.\u001b[39;49m\u001b[43mclasses_\u001b[49m\u001b[43m)\u001b[49m\u001b[43m,\u001b[49m\u001b[43m \u001b[49m\u001b[43mn_samples\u001b[49m\u001b[43m)\u001b[49m\n\u001b[1;32m    229\u001b[0m kwds[\u001b[38;5;124m\"\u001b[39m\u001b[38;5;124mmetric\u001b[39m\u001b[38;5;124m\"\u001b[39m] \u001b[38;5;241m=\u001b[39m metric\n\u001b[1;32m    230\u001b[0m reduce_func \u001b[38;5;241m=\u001b[39m functools\u001b[38;5;241m.\u001b[39mpartial(\n\u001b[1;32m    231\u001b[0m     _silhouette_reduce, labels\u001b[38;5;241m=\u001b[39mlabels, label_freqs\u001b[38;5;241m=\u001b[39mlabel_freqs\n\u001b[1;32m    232\u001b[0m )\n",
      "File \u001b[0;32m~/opt/anaconda3/lib/python3.9/site-packages/sklearn/metrics/cluster/_unsupervised.py:33\u001b[0m, in \u001b[0;36mcheck_number_of_labels\u001b[0;34m(n_labels, n_samples)\u001b[0m\n\u001b[1;32m     22\u001b[0m \u001b[38;5;124;03m\"\"\"Check that number of labels are valid.\u001b[39;00m\n\u001b[1;32m     23\u001b[0m \n\u001b[1;32m     24\u001b[0m \u001b[38;5;124;03mParameters\u001b[39;00m\n\u001b[0;32m   (...)\u001b[0m\n\u001b[1;32m     30\u001b[0m \u001b[38;5;124;03m    Number of samples.\u001b[39;00m\n\u001b[1;32m     31\u001b[0m \u001b[38;5;124;03m\"\"\"\u001b[39;00m\n\u001b[1;32m     32\u001b[0m \u001b[38;5;28;01mif\u001b[39;00m \u001b[38;5;129;01mnot\u001b[39;00m \u001b[38;5;241m1\u001b[39m \u001b[38;5;241m<\u001b[39m n_labels \u001b[38;5;241m<\u001b[39m n_samples:\n\u001b[0;32m---> 33\u001b[0m     \u001b[38;5;28;01mraise\u001b[39;00m \u001b[38;5;167;01mValueError\u001b[39;00m(\n\u001b[1;32m     34\u001b[0m         \u001b[38;5;124m\"\u001b[39m\u001b[38;5;124mNumber of labels is \u001b[39m\u001b[38;5;132;01m%d\u001b[39;00m\u001b[38;5;124m. Valid values are 2 to n_samples - 1 (inclusive)\u001b[39m\u001b[38;5;124m\"\u001b[39m\n\u001b[1;32m     35\u001b[0m         \u001b[38;5;241m%\u001b[39m n_labels\n\u001b[1;32m     36\u001b[0m     )\n",
      "\u001b[0;31mValueError\u001b[0m: Number of labels is 210. Valid values are 2 to n_samples - 1 (inclusive)"
     ]
    }
   ],
   "source": [
    "from sklearn.metrics import silhouette_score\n",
    "\n",
    "def determine_clusters(X):\n",
    "    max_clusters = min(X.shape) - 1\n",
    "    silhouette_scores = np.zeros(max_clusters)\n",
    "\n",
    "    for k in range(2, max_clusters + 1):\n",
    "        cluster_assignments = hierarchical_clustering(X, k)\n",
    "        score = silhouette_score(X, cluster_assignments)\n",
    "        silhouette_scores[k - 1] = score\n",
    "\n",
    "    # Plot the silhouette scores vs. number of clusters\n",
    "    plt.plot(np.arange(2, max_clusters + 1), silhouette_scores)\n",
    "    plt.xlabel('Number of Clusters')\n",
    "    plt.ylabel('Silhouette Score')\n",
    "    plt.title('Silhouette Score Method')\n",
    "    plt.show()\n",
    "\n",
    "determine_clusters(std_scaler(feats))"
   ]
  },
  {
   "cell_type": "code",
   "execution_count": null,
   "id": "0e0003b5",
   "metadata": {},
   "outputs": [],
   "source": []
  },
  {
   "cell_type": "code",
   "execution_count": null,
   "id": "188328a3",
   "metadata": {},
   "outputs": [],
   "source": []
  },
  {
   "cell_type": "code",
   "execution_count": null,
   "id": "2f24ab97",
   "metadata": {},
   "outputs": [],
   "source": []
  },
  {
   "cell_type": "code",
   "execution_count": null,
   "id": "8243f5d7",
   "metadata": {},
   "outputs": [],
   "source": []
  },
  {
   "cell_type": "code",
   "execution_count": null,
   "id": "24c2f1ec",
   "metadata": {},
   "outputs": [],
   "source": []
  },
  {
   "cell_type": "code",
   "execution_count": null,
   "id": "eeb44311",
   "metadata": {},
   "outputs": [],
   "source": []
  },
  {
   "cell_type": "code",
   "execution_count": null,
   "id": "7e01cd26",
   "metadata": {},
   "outputs": [],
   "source": []
  },
  {
   "cell_type": "code",
   "execution_count": null,
   "id": "e1f4ba9d",
   "metadata": {},
   "outputs": [],
   "source": []
  },
  {
   "cell_type": "code",
   "execution_count": null,
   "id": "912151d6",
   "metadata": {},
   "outputs": [],
   "source": []
  },
  {
   "cell_type": "code",
   "execution_count": null,
   "id": "2de0b2ab",
   "metadata": {},
   "outputs": [],
   "source": []
  },
  {
   "cell_type": "code",
   "execution_count": null,
   "id": "6747f8b5",
   "metadata": {},
   "outputs": [],
   "source": []
  },
  {
   "cell_type": "code",
   "execution_count": null,
   "id": "aa577c0f",
   "metadata": {},
   "outputs": [],
   "source": []
  },
  {
   "cell_type": "code",
   "execution_count": null,
   "id": "4fa21fa5",
   "metadata": {},
   "outputs": [],
   "source": []
  },
  {
   "cell_type": "code",
   "execution_count": null,
   "id": "f7b3c7d1",
   "metadata": {},
   "outputs": [],
   "source": []
  },
  {
   "cell_type": "code",
   "execution_count": null,
   "id": "863a0d5f",
   "metadata": {},
   "outputs": [],
   "source": []
  },
  {
   "cell_type": "code",
   "execution_count": null,
   "id": "d5a9154a",
   "metadata": {},
   "outputs": [],
   "source": []
  },
  {
   "cell_type": "code",
   "execution_count": null,
   "id": "fcc76544",
   "metadata": {},
   "outputs": [],
   "source": []
  }
 ],
 "metadata": {
  "kernelspec": {
   "display_name": "Python 3 (ipykernel)",
   "language": "python",
   "name": "python3"
  },
  "language_info": {
   "codemirror_mode": {
    "name": "ipython",
    "version": 3
   },
   "file_extension": ".py",
   "mimetype": "text/x-python",
   "name": "python",
   "nbconvert_exporter": "python",
   "pygments_lexer": "ipython3",
   "version": "3.9.12"
  }
 },
 "nbformat": 4,
 "nbformat_minor": 5
}
