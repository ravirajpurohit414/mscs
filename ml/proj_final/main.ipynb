{
 "cells": [
  {
   "cell_type": "code",
   "execution_count": 1,
   "id": "28ccc582",
   "metadata": {},
   "outputs": [],
   "source": [
    "import numpy as np\n",
    "import matplotlib.pyplot as plt\n",
    "from collections import Counter\n",
    "\n"
   ]
  },
  {
   "cell_type": "code",
   "execution_count": 2,
   "id": "68cb3bd7",
   "metadata": {},
   "outputs": [],
   "source": [
    "def read_data(filename='./data/seeds_dataset.txt'):\n",
    "    \"\"\"\n",
    "    Load the dataset from the filepath.\n",
    "    \n",
    "    Parameters\n",
    "    ----------\n",
    "    filename - string\n",
    "    \n",
    "    Returns\n",
    "    -------\n",
    "    data - numpy array of floats\n",
    "    labels - numpy array of integers\n",
    "    \"\"\"\n",
    "    feats = []\n",
    "    labels = []\n",
    "    with open(filename, 'r') as f:\n",
    "        for line in f:\n",
    "            line = line.strip().replace('\\t\\t','\\t').split('\\t')\n",
    "            f1, f2, f3, f4, f5, f6, f7, label = float(line[0]), float(line[1]), \\\n",
    "                                                float(line[2]), float(line[3]), \\\n",
    "                                                float(line[4]), float(line[5]), \\\n",
    "                                                float(line[6]), int(line[7])\n",
    "            feats.append([f1, f2, f3, f4, f5, f6, f7])\n",
    "            labels.append(label)\n",
    "    return np.array(feats), np.array(labels)\n"
   ]
  },
  {
   "cell_type": "code",
   "execution_count": 3,
   "id": "66330246",
   "metadata": {},
   "outputs": [],
   "source": [
    "def std_scaler(feats):\n",
    "    \"\"\"\n",
    "    \n",
    "    \"\"\"\n",
    "    f_mean = np.mean(feats, axis=0)\n",
    "    f_std = np.std(feats, axis=0)\n",
    "    \n",
    "    feats_scaled = (feats - f_mean)/f_std\n",
    "    return feats_scaled\n"
   ]
  },
  {
   "cell_type": "code",
   "execution_count": 75,
   "id": "20fcf312",
   "metadata": {},
   "outputs": [],
   "source": [
    "def train_test_split(X, y, test_size=0.2, random_state=21):\n",
    "    \"\"\"\n",
    "    Split the dataset into train and test splits.\n",
    "    \n",
    "    Parameters:\n",
    "    X (numpy.ndarray): Input features array.\n",
    "    y (numpy.ndarray): Target variable array.\n",
    "    test_size (float, optional): The proportion of the dataset to include in the test split (default: 0.2).\n",
    "    random_state (int, optional): Seed value for random number generation (default: 21).\n",
    "    \n",
    "    Returns:\n",
    "    X_train (numpy.ndarray): Training set input features.\n",
    "    y_train (numpy.ndarray): Training set target variable.\n",
    "    X_test (numpy.ndarray): Test set input features.\n",
    "    y_test (numpy.ndarray): Test set target variable.\n",
    "    \"\"\"\n",
    "    \n",
    "    # Set the seed for reproducibility\n",
    "    np.random.seed(random_state)\n",
    "    \n",
    "    # Shuffle the dataset indices\n",
    "    indices = np.arange(X.shape[0])\n",
    "    np.random.shuffle(indices)\n",
    "    \n",
    "    # Calculate the index to split the dataset\n",
    "    split_index = int((1 - test_size) * X.shape[0])\n",
    "    \n",
    "    # Split the dataset into train and test sets\n",
    "    X_train, X_test = X[indices[:split_index]], X[indices[split_index:]]\n",
    "    y_train, y_test = y[indices[:split_index]], y[indices[split_index:]]\n",
    "    \n",
    "    return X_train, y_train, X_test, y_test, indices[:split_index]\n"
   ]
  },
  {
   "cell_type": "code",
   "execution_count": null,
   "id": "483fb393",
   "metadata": {},
   "outputs": [],
   "source": []
  },
  {
   "cell_type": "code",
   "execution_count": null,
   "id": "fac9159d",
   "metadata": {},
   "outputs": [],
   "source": []
  },
  {
   "cell_type": "code",
   "execution_count": null,
   "id": "98fe9ed7",
   "metadata": {},
   "outputs": [],
   "source": []
  },
  {
   "cell_type": "code",
   "execution_count": null,
   "id": "03c3dffc",
   "metadata": {},
   "outputs": [],
   "source": []
  },
  {
   "cell_type": "code",
   "execution_count": null,
   "id": "cb2eb63f",
   "metadata": {},
   "outputs": [],
   "source": []
  },
  {
   "cell_type": "code",
   "execution_count": null,
   "id": "55560653",
   "metadata": {},
   "outputs": [],
   "source": []
  },
  {
   "cell_type": "code",
   "execution_count": 5,
   "id": "ebaa4e67",
   "metadata": {},
   "outputs": [],
   "source": [
    "# Distance function (cartesian distance)\n",
    "def cartesian_distance(x1, x2):\n",
    "    return np.sqrt(np.sum((x1 - x2) ** 2))\n",
    "\n",
    "# # Clustering function (Hierarchical Clustering)\n",
    "def hierarchical_clustering(data, num_clusters):\n",
    "    n = data.shape[0]\n",
    "    distances = np.zeros((n, n))\n",
    "\n",
    "    for i in range(n):\n",
    "        for j in range(n):\n",
    "            distances[i, j] = cartesian_distance(data[i], data[j])\n",
    "\n",
    "    clusters = [[i] for i in range(n)]\n",
    "\n",
    "    while len(clusters) > num_clusters:\n",
    "        min_distance = np.inf\n",
    "        merge_indices = (0, 0)\n",
    "\n",
    "        for i in range(len(clusters)):\n",
    "            for j in range(i + 1, len(clusters)):\n",
    "                cluster1 = clusters[i]\n",
    "                cluster2 = clusters[j]\n",
    "                distance = max(distances[c1, c2] for c1 in cluster1 for c2 in cluster2)\n",
    "\n",
    "                if distance < min_distance:\n",
    "                    min_distance = distance\n",
    "                    merge_indices = (i, j)\n",
    "\n",
    "        merged_cluster = clusters[merge_indices[0]] + clusters[merge_indices[1]]\n",
    "        del clusters[merge_indices[1]]\n",
    "        del clusters[merge_indices[0]]\n",
    "        clusters.append(merged_cluster)\n",
    "\n",
    "    return clusters\n"
   ]
  },
  {
   "cell_type": "code",
   "execution_count": null,
   "id": "6d2dceb1",
   "metadata": {},
   "outputs": [],
   "source": []
  },
  {
   "cell_type": "code",
   "execution_count": 88,
   "id": "8ed3149b",
   "metadata": {},
   "outputs": [
    {
     "data": {
      "image/png": "[encoded data removed]",
      "text/plain": [
       "<Figure size 432x288 with 1 Axes>"
      ]
     },
     "metadata": {
      "needs_background": "light"
     },
     "output_type": "display_data"
    }
   ],
   "source": [
    "def calculate_wcss(clusters, data):\n",
    "    wcss = 0\n",
    "    for cluster in clusters:\n",
    "        cluster_data = data[cluster]\n",
    "        centroid = np.mean(cluster_data, axis=0)\n",
    "        wcss += np.sum((cluster_data - centroid) ** 2)\n",
    "\n",
    "    return wcss\n",
    "\n",
    "# Determine optimal number of clusters\n",
    "max_clusters = 3\n",
    "wcss_values = []\n",
    "\n",
    "## load the dataset\n",
    "feats, labels = read_data()\n",
    "feats = std_scaler(feats)\n",
    "\n",
    "for num_clusters in range(1, max_clusters + 1):\n",
    "    clusters = hierarchical_clustering(feats, num_clusters)\n",
    "    wcss = calculate_wcss(clusters, feats)\n",
    "    wcss_values.append(wcss)\n",
    "\n",
    "# Plot the WCSS values\n",
    "plt.plot(range(1, max_clusters + 1), wcss_values)\n",
    "plt.xlabel('Number of Clusters')\n",
    "plt.ylabel('WCSS')\n",
    "plt.title('Elbow Method')\n",
    "plt.show()\n",
    "\n",
    "\n"
   ]
  },
  {
   "cell_type": "code",
   "execution_count": null,
   "id": "3f218215",
   "metadata": {},
   "outputs": [],
   "source": []
  },
  {
   "cell_type": "code",
   "execution_count": null,
   "id": "c484b1a1",
   "metadata": {},
   "outputs": [],
   "source": []
  },
  {
   "cell_type": "code",
   "execution_count": null,
   "id": "a7d57baa",
   "metadata": {},
   "outputs": [],
   "source": []
  },
  {
   "cell_type": "code",
   "execution_count": 116,
   "id": "ba082656",
   "metadata": {},
   "outputs": [
    {
     "name": "stdout",
     "output_type": "stream",
     "text": [
      "0.9523809523809523\n"
     ]
    }
   ],
   "source": [
    "# Distance function (cartesian distance)\n",
    "def cartesian_distance(x1, x2):\n",
    "    return np.sqrt(np.sum((x1 - x2) ** 2))\n",
    "\n",
    "# Define the KNN classifier\n",
    "def knn_classify(test_instance, training_data, training_labels, k):\n",
    "    distances = []\n",
    "\n",
    "    for i, instance in enumerate(training_data):\n",
    "        distance = cartesian_distance(test_instance, instance)\n",
    "        distances.append((distance, training_labels[i]))\n",
    "\n",
    "    distances.sort(key=lambda x: x[0])\n",
    "    neighbors = distances[:k]\n",
    "    labels = [neighbor[1] for neighbor in neighbors]\n",
    "    most_common = Counter(labels).most_common(1)\n",
    "    return most_common[0][0]\n",
    "\n",
    "X_train, y_train, X_test, y_test, train_ind = train_test_split(feats, labels)\n",
    "\n",
    "test_ind = np.array([i for i in range(len(feats)) if i not in train_ind])\n",
    "\n",
    "# Classify test instances using KNN\n",
    "test_instance = X_test[0]  # Replace with your test instance\n",
    "k = 3  # Replace with the desired value of k\n",
    "\n",
    "# Assign cluster IDs as labels for training data\n",
    "training_labels = np.zeros(len(labels))\n",
    "\n",
    "for i, cluster in enumerate(clusters):\n",
    "    for point_index in cluster:\n",
    "        training_labels[point_index] = i + 1\n",
    "        \n",
    "y_train_cluster = training_labels[train_ind]\n",
    "y_test_cluster = training_labels[test_ind]\n",
    "\n",
    "pred_test = []\n",
    "for inst in X_test:\n",
    "    # Classify the test instance\n",
    "    predicted_label = knn_classify(inst, X_train, y_train_cluster, k)\n",
    "    pred_test.append(predicted_label)\n",
    "\n",
    "    \n",
    "print(np.mean(pred_test == y_test))"
   ]
  },
  {
   "cell_type": "code",
   "execution_count": 115,
   "id": "6bd96e15",
   "metadata": {},
   "outputs": [
    {
     "data": {
      "text/plain": [
       "array([2., 2., 1., 2., 2., 1., 2., 1., 3., 3., 1., 2., 1., 1., 3., 1., 1.,\n",
       "       2., 3., 3., 2., 3., 3., 2., 2., 3., 2., 3., 3., 3., 2., 2., 2., 3.,\n",
       "       3., 2., 2., 1., 1., 1., 3., 3.])"
      ]
     },
     "execution_count": 115,
     "metadata": {},
     "output_type": "execute_result"
    }
   ],
   "source": [
    "np.array(pred_test)"
   ]
  },
  {
   "cell_type": "code",
   "execution_count": 113,
   "id": "9ec76c88",
   "metadata": {},
   "outputs": [
    {
     "data": {
      "text/plain": [
       "array([2., 2., 1., 2., 2., 1., 2., 1., 3., 3., 1., 2., 1., 1., 3., 1., 1.,\n",
       "       2., 3., 3., 2., 3., 3., 2., 1., 3., 2., 3., 3., 3., 2., 2., 2., 3.,\n",
       "       3., 2., 2., 1., 1., 1., 3., 3.])"
      ]
     },
     "execution_count": 113,
     "metadata": {},
     "output_type": "execute_result"
    }
   ],
   "source": [
    "np.array(pred_test)"
   ]
  },
  {
   "cell_type": "code",
   "execution_count": null,
   "id": "1d9f51a2",
   "metadata": {},
   "outputs": [],
   "source": []
  },
  {
   "cell_type": "code",
   "execution_count": null,
   "id": "eed53245",
   "metadata": {},
   "outputs": [],
   "source": []
  },
  {
   "cell_type": "code",
   "execution_count": null,
   "id": "9bba364d",
   "metadata": {},
   "outputs": [],
   "source": []
  },
  {
   "cell_type": "code",
   "execution_count": 61,
   "id": "fb80a31d",
   "metadata": {},
   "outputs": [
    {
     "data": {
      "text/plain": [
       "array([ 8.,  3.,  3.,  3.,  3.,  3.,  3.,  3., 10.,  8.,  8.,  3.,  1.,\n",
       "        3.,  3.,  1.,  1.,  3.,  3.,  9.,  8.,  3.,  3.,  5.,  8.,  3.,\n",
       "        9.,  9.,  3.,  9.,  5.,  8.,  8.,  3.,  8.,  8.,  8.,  8.,  3.,\n",
       "        1.,  3.,  3.,  5., 10.,  8.,  3.,  3.,  3.,  3.,  8.,  8.,  1.,\n",
       "        8.,  3.,  8.,  8.,  3.,  3.,  3.,  5.,  5.,  5.,  5.,  9.,  5.,\n",
       "        5.,  8.,  3.,  8.,  9.,  7., 10., 10., 10., 10., 10., 10.,  7.,\n",
       "        7.,  8., 10.,  6.,  6.,  7.,  7., 10., 10.,  7.,  6.,  6.,  7.,\n",
       "       10., 10.,  6.,  7., 10.,  7.,  7.,  7., 10., 10., 10., 10.,  7.,\n",
       "       10., 10., 10., 10.,  7., 10., 10.,  7., 10.,  6.,  7., 10., 10.,\n",
       "       10., 10.,  7.,  6., 10., 10., 10.,  8., 10.,  7., 10.,  7.,  6.,\n",
       "       10., 10., 10., 10., 10.,  8., 10., 10., 10.,  8.,  9.,  4.,  4.,\n",
       "        9.,  2.,  2.,  9.,  9.,  9.,  2.,  9.,  2.,  9.,  9.,  2.,  2.,\n",
       "        9.,  2.,  2.,  2.,  9.,  9.,  9.,  9.,  4.,  5.,  9.,  9.,  2.,\n",
       "        9.,  2.,  4.,  2.,  2.,  2.,  9.,  2.,  2.,  4.,  9.,  9.,  9.,\n",
       "        9.,  9.,  4.,  2.,  2.,  2.,  4.,  9.,  2.,  9.,  9.,  2.,  9.,\n",
       "        9.,  9.,  9.,  9.,  5.,  9.,  5.,  9.,  4.,  9.,  9.,  9.,  4.,\n",
       "        9.,  9.])"
      ]
     },
     "execution_count": 61,
     "metadata": {},
     "output_type": "execute_result"
    }
   ],
   "source": [
    "training_labels"
   ]
  },
  {
   "cell_type": "code",
   "execution_count": null,
   "id": "886acdcd",
   "metadata": {},
   "outputs": [],
   "source": []
  },
  {
   "cell_type": "code",
   "execution_count": null,
   "id": "4ca978a2",
   "metadata": {},
   "outputs": [],
   "source": []
  },
  {
   "cell_type": "code",
   "execution_count": null,
   "id": "862ed16b",
   "metadata": {},
   "outputs": [],
   "source": []
  },
  {
   "cell_type": "code",
   "execution_count": null,
   "id": "60472692",
   "metadata": {},
   "outputs": [],
   "source": []
  },
  {
   "cell_type": "code",
   "execution_count": null,
   "id": "561efa61",
   "metadata": {},
   "outputs": [],
   "source": []
  },
  {
   "cell_type": "code",
   "execution_count": null,
   "id": "2e31a1bf",
   "metadata": {},
   "outputs": [],
   "source": []
  },
  {
   "cell_type": "code",
   "execution_count": null,
   "id": "2aa16f4e",
   "metadata": {},
   "outputs": [],
   "source": []
  },
  {
   "cell_type": "code",
   "execution_count": null,
   "id": "e986d335",
   "metadata": {},
   "outputs": [],
   "source": []
  },
  {
   "cell_type": "code",
   "execution_count": null,
   "id": "ac3b43e5",
   "metadata": {},
   "outputs": [],
   "source": []
  },
  {
   "cell_type": "code",
   "execution_count": null,
   "id": "087b2580",
   "metadata": {},
   "outputs": [],
   "source": []
  },
  {
   "cell_type": "code",
   "execution_count": null,
   "id": "68a10518",
   "metadata": {},
   "outputs": [],
   "source": []
  },
  {
   "cell_type": "code",
   "execution_count": null,
   "id": "b208faa5",
   "metadata": {},
   "outputs": [],
   "source": []
  },
  {
   "cell_type": "code",
   "execution_count": null,
   "id": "7b3e462f",
   "metadata": {},
   "outputs": [],
   "source": []
  }
 ],
 "metadata": {
  "kernelspec": {
   "display_name": "Python 3 (ipykernel)",
   "language": "python",
   "name": "python3"
  },
  "language_info": {
   "codemirror_mode": {
    "name": "ipython",
    "version": 3
   },
   "file_extension": ".py",
   "mimetype": "text/x-python",
   "name": "python",
   "nbconvert_exporter": "python",
   "pygments_lexer": "ipython3",
   "version": "3.9.12"
  }
 },
 "nbformat": 4,
 "nbformat_minor": 5
}
