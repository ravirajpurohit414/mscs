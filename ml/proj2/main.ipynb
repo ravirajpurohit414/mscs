{
 "cells": [
  {
   "cell_type": "markdown",
   "id": "34d1475c",
   "metadata": {},
   "source": [
    "# ------------------------- CSE-6363-001 ML Project 2 -------------------------"
   ]
  },
  {
   "cell_type": "code",
   "execution_count": 1,
   "id": "f4bca4c6",
   "metadata": {},
   "outputs": [],
   "source": [
    "import numpy as np\n",
    "import matplotlib.pyplot as plt"
   ]
  },
  {
   "cell_type": "code",
   "execution_count": 6,
   "id": "a7ed8e1f",
   "metadata": {},
   "outputs": [],
   "source": [
    "def read_data(filename='./data/data.txt'):\n",
    "    \"\"\"\n",
    "    Load the dataset for question 1 provided with the homework.\n",
    "    \n",
    "    Parameters\n",
    "    ----------\n",
    "    filename - string\n",
    "    \n",
    "    Returns\n",
    "    -------\n",
    "    data - numpy array of floats\n",
    "    labels - numpy array of integers\n",
    "    \"\"\"\n",
    "    features = []\n",
    "    labels = []\n",
    "    with open(filename, 'r') as f:\n",
    "        for line in f:\n",
    "            line = line.strip().replace('\\n','').split(',')\n",
    "            features.append([float(i) for i in line[:4]])\n",
    "            labels.append(line[-1])\n",
    "    return np.array(features), np.array(labels)"
   ]
  },
  {
   "cell_type": "code",
   "execution_count": 11,
   "id": "23659f20",
   "metadata": {},
   "outputs": [
    {
     "name": "stdout",
     "output_type": "stream",
     "text": [
      "(120, 4) (120,)\n"
     ]
    }
   ],
   "source": [
    "features, labels = read_data()\n",
    "print(features.shape, labels.shape)"
   ]
  },
  {
   "cell_type": "code",
   "execution_count": 31,
   "id": "1af5ad07",
   "metadata": {},
   "outputs": [
    {
     "name": "stdout",
     "output_type": "stream",
     "text": [
      "\n",
      "label categories are - ['Ceramic', 'Metal', 'Plastic']\n",
      "\n"
     ]
    }
   ],
   "source": [
    "print(f'\\nlabel categories are - {[i for i in np.unique(labels)]}\\n')"
   ]
  },
  {
   "cell_type": "code",
   "execution_count": 33,
   "id": "fe7e852d",
   "metadata": {},
   "outputs": [],
   "source": [
    "## encode labels to integers\n",
    "labels = np.array([0 if i=='Plastic' else 1 if i=='Metal' else 2 for i in labels])"
   ]
  },
  {
   "cell_type": "code",
   "execution_count": 39,
   "id": "2caf421a",
   "metadata": {},
   "outputs": [],
   "source": [
    "def train_test_split(features, labels):\n",
    "    \"\"\"\n",
    "    split the dataset into train-test as specified in the problem statement\n",
    "    considering the first 6 values of each material type to make the testing dataset\n",
    "    rest of the data is training dataset\n",
    "    \n",
    "    Parameters\n",
    "    ----------\n",
    "    features - numpy array of floats\n",
    "    labels - numpy array of strings\n",
    "    \n",
    "    Returns\n",
    "    -------\n",
    "    train_features - numpy array of floats\n",
    "    test_features - numpy array of floats\n",
    "    train_labels - numpy array of strings\n",
    "    test_labels - numpy array of strings\n",
    "    \n",
    "    \"\"\"\n",
    "    # Shuffle the indices\n",
    "    np.random.seed(21)\n",
    "    shuffled_indices = np.random.permutation(len(features))\n",
    "    \n",
    "    # Split the shuffled indices into train and test sets\n",
    "    train_indices = shuffled_indices[:int(len(features) * 0.75)]\n",
    "    test_indices = shuffled_indices[int(len(features) * 0.75):]\n",
    "    \n",
    "    # Use the train and test indices to split the features and labels\n",
    "    train_features = features[train_indices]\n",
    "    train_labels = labels[train_indices]\n",
    "    test_features = features[test_indices]\n",
    "    test_labels = labels[test_indices]\n",
    "    \n",
    "    return train_features, train_labels, test_features, test_labels"
   ]
  },
  {
   "cell_type": "code",
   "execution_count": 40,
   "id": "a3560b90",
   "metadata": {},
   "outputs": [],
   "source": [
    "train_features, train_labels, test_features, test_labels = train_test_split(features, labels)"
   ]
  },
  {
   "cell_type": "code",
   "execution_count": 41,
   "id": "dfd08ec9",
   "metadata": {},
   "outputs": [
    {
     "name": "stdout",
     "output_type": "stream",
     "text": [
      "(90, 4) (90,) (30, 4) (30,)\n"
     ]
    }
   ],
   "source": [
    "print(train_features.shape, train_labels.shape, test_features.shape, test_labels.shape)"
   ]
  },
  {
   "cell_type": "code",
   "execution_count": null,
   "id": "c0b644c5",
   "metadata": {},
   "outputs": [],
   "source": []
  },
  {
   "cell_type": "code",
   "execution_count": null,
   "id": "873abdf6",
   "metadata": {},
   "outputs": [],
   "source": []
  },
  {
   "cell_type": "code",
   "execution_count": null,
   "id": "80e5ff3e",
   "metadata": {},
   "outputs": [],
   "source": []
  },
  {
   "cell_type": "code",
   "execution_count": null,
   "id": "2e3573e0",
   "metadata": {},
   "outputs": [],
   "source": []
  },
  {
   "cell_type": "code",
   "execution_count": null,
   "id": "585cb0b4",
   "metadata": {},
   "outputs": [],
   "source": []
  },
  {
   "cell_type": "code",
   "execution_count": 53,
   "id": "9aff04d4",
   "metadata": {},
   "outputs": [
    {
     "data": {
      "text/plain": [
       "array([[0., 0., 0.],\n",
       "       [0., 0., 0.],\n",
       "       [0., 0., 0.],\n",
       "       [0., 0., 0.]])"
      ]
     },
     "execution_count": 53,
     "metadata": {},
     "output_type": "execute_result"
    }
   ],
   "source": [
    "np.zeros((train_features.shape[1], 3))"
   ]
  },
  {
   "cell_type": "code",
   "execution_count": 50,
   "id": "ba1660d6",
   "metadata": {},
   "outputs": [
    {
     "ename": "ValueError",
     "evalue": "cannot reshape array of size 360 into shape (30,3)",
     "output_type": "error",
     "traceback": [
      "\u001b[0;31m---------------------------------------------------------------------------\u001b[0m",
      "\u001b[0;31mValueError\u001b[0m                                Traceback (most recent call last)",
      "Input \u001b[0;32mIn [50]\u001b[0m, in \u001b[0;36m<cell line: 58>\u001b[0;34m()\u001b[0m\n\u001b[1;32m     54\u001b[0m     \u001b[38;5;28;01mreturn\u001b[39;00m accuracy\n\u001b[1;32m     56\u001b[0m \u001b[38;5;66;03m# Example usage\u001b[39;00m\n\u001b[1;32m     57\u001b[0m \u001b[38;5;66;03m# Assuming that X_train, y_train, X_test, y_test are already defined\u001b[39;00m\n\u001b[0;32m---> 58\u001b[0m \u001b[38;5;28mprint\u001b[39m(\u001b[38;5;124m\"\u001b[39m\u001b[38;5;124mSingle Classifier Accuracy: \u001b[39m\u001b[38;5;124m\"\u001b[39m, \u001b[43mbagging\u001b[49m\u001b[43m(\u001b[49m\u001b[43mtrain_features\u001b[49m\u001b[43m,\u001b[49m\u001b[43m \u001b[49m\u001b[43mtrain_labels\u001b[49m\u001b[43m,\u001b[49m\u001b[43m \u001b[49m\u001b[43mtest_features\u001b[49m\u001b[43m,\u001b[49m\u001b[43m \u001b[49m\u001b[43mtest_features\u001b[49m\u001b[43m,\u001b[49m\u001b[43m \u001b[49m\u001b[43mnum_bagging\u001b[49m\u001b[38;5;241;43m=\u001b[39;49m\u001b[38;5;241;43m1\u001b[39;49m\u001b[43m)\u001b[49m)\n\u001b[1;32m     59\u001b[0m \u001b[38;5;28mprint\u001b[39m(\u001b[38;5;124m\"\u001b[39m\u001b[38;5;124mBagging 10 Accuracy: \u001b[39m\u001b[38;5;124m\"\u001b[39m, bagging(train_features, train_labels, test_features, test_features, num_bagging\u001b[38;5;241m=\u001b[39m\u001b[38;5;241m10\u001b[39m))\n\u001b[1;32m     60\u001b[0m \u001b[38;5;28mprint\u001b[39m(\u001b[38;5;124m\"\u001b[39m\u001b[38;5;124mBagging 50 Accuracy: \u001b[39m\u001b[38;5;124m\"\u001b[39m, bagging(train_features, train_labels, test_features, test_features, num_bagging\u001b[38;5;241m=\u001b[39m\u001b[38;5;241m50\u001b[39m))\n",
      "Input \u001b[0;32mIn [50]\u001b[0m, in \u001b[0;36mbagging\u001b[0;34m(X_train, y_train, X_test, y_test, num_bagging)\u001b[0m\n\u001b[1;32m     48\u001b[0m     X_bag, y_bag \u001b[38;5;241m=\u001b[39m X_train[idx], y_train[idx]\n\u001b[1;32m     49\u001b[0m     W, b \u001b[38;5;241m=\u001b[39m initialize_params(X_train\u001b[38;5;241m.\u001b[39mshape[\u001b[38;5;241m1\u001b[39m])\n\u001b[0;32m---> 50\u001b[0m     W, b, _ \u001b[38;5;241m=\u001b[39m \u001b[43moptimize\u001b[49m\u001b[43m(\u001b[49m\u001b[43mX_bag\u001b[49m\u001b[43m,\u001b[49m\u001b[43m \u001b[49m\u001b[43my_bag\u001b[49m\u001b[43m,\u001b[49m\u001b[43m \u001b[49m\u001b[43mW\u001b[49m\u001b[43m,\u001b[49m\u001b[43m \u001b[49m\u001b[43mb\u001b[49m\u001b[43m,\u001b[49m\u001b[43m \u001b[49m\u001b[43mnum_iter\u001b[49m\u001b[38;5;241;43m=\u001b[39;49m\u001b[38;5;241;43m100\u001b[39;49m\u001b[43m,\u001b[49m\u001b[43m \u001b[49m\u001b[43mlr\u001b[49m\u001b[38;5;241;43m=\u001b[39;49m\u001b[38;5;241;43m0.1\u001b[39;49m\u001b[43m)\u001b[49m\n\u001b[1;32m     51\u001b[0m     bagging_pred[:, i] \u001b[38;5;241m=\u001b[39m predict(X_test, W, b)\n\u001b[1;32m     52\u001b[0m pred \u001b[38;5;241m=\u001b[39m np\u001b[38;5;241m.\u001b[39margmax(np\u001b[38;5;241m.\u001b[39mapply_along_axis(\u001b[38;5;28;01mlambda\u001b[39;00m x: np\u001b[38;5;241m.\u001b[39mbincount(x, minlength\u001b[38;5;241m=\u001b[39m\u001b[38;5;241m3\u001b[39m), axis\u001b[38;5;241m=\u001b[39m\u001b[38;5;241m1\u001b[39m, arr\u001b[38;5;241m=\u001b[39mbagging_pred), axis\u001b[38;5;241m=\u001b[39m\u001b[38;5;241m1\u001b[39m)\n",
      "Input \u001b[0;32mIn [50]\u001b[0m, in \u001b[0;36moptimize\u001b[0;34m(X, Y, W, b, num_iter, lr)\u001b[0m\n\u001b[1;32m     31\u001b[0m costs \u001b[38;5;241m=\u001b[39m []\n\u001b[1;32m     32\u001b[0m \u001b[38;5;28;01mfor\u001b[39;00m i \u001b[38;5;129;01min\u001b[39;00m \u001b[38;5;28mrange\u001b[39m(num_iter):\n\u001b[0;32m---> 33\u001b[0m     dW, db, cost \u001b[38;5;241m=\u001b[39m \u001b[43mpropagate\u001b[49m\u001b[43m(\u001b[49m\u001b[43mX\u001b[49m\u001b[43m,\u001b[49m\u001b[43m \u001b[49m\u001b[43mY\u001b[49m\u001b[43m,\u001b[49m\u001b[43m \u001b[49m\u001b[43mW\u001b[49m\u001b[43m,\u001b[49m\u001b[43m \u001b[49m\u001b[43mb\u001b[49m\u001b[43m)\u001b[49m\n\u001b[1;32m     34\u001b[0m     W \u001b[38;5;241m-\u001b[39m\u001b[38;5;241m=\u001b[39m lr \u001b[38;5;241m*\u001b[39m dW\n\u001b[1;32m     35\u001b[0m     b \u001b[38;5;241m-\u001b[39m\u001b[38;5;241m=\u001b[39m lr \u001b[38;5;241m*\u001b[39m db\n",
      "Input \u001b[0;32mIn [50]\u001b[0m, in \u001b[0;36mpropagate\u001b[0;34m(X, Y, W, b)\u001b[0m\n\u001b[1;32m     19\u001b[0m \u001b[38;5;28;01mdef\u001b[39;00m \u001b[38;5;21mpropagate\u001b[39m(X, Y, W, b):\n\u001b[0;32m---> 20\u001b[0m     X \u001b[38;5;241m=\u001b[39m \u001b[43mX\u001b[49m\u001b[38;5;241;43m.\u001b[39;49m\u001b[43mreshape\u001b[49m\u001b[43m(\u001b[49m\u001b[43m(\u001b[49m\u001b[38;5;241;43m30\u001b[39;49m\u001b[43m,\u001b[49m\u001b[38;5;241;43m3\u001b[39;49m\u001b[43m)\u001b[49m\u001b[43m)\u001b[49m\n\u001b[1;32m     21\u001b[0m     m \u001b[38;5;241m=\u001b[39m X\u001b[38;5;241m.\u001b[39mshape[\u001b[38;5;241m0\u001b[39m]\n\u001b[1;32m     22\u001b[0m \u001b[38;5;66;03m#     Y = Y.reshape((-1, 3))\u001b[39;00m\n",
      "\u001b[0;31mValueError\u001b[0m: cannot reshape array of size 360 into shape (30,3)"
     ]
    }
   ],
   "source": [
    "def softmax(z):\n",
    "    e_z = np.exp(z - np.max(z, axis=1, keepdims=True))\n",
    "    return e_z / e_z.sum(axis=1, keepdims=True)\n",
    "\n",
    "def initialize_params(dim):\n",
    "    W = np.zeros((dim, 3))\n",
    "    b = np.zeros((1, 3))\n",
    "    return W, b\n",
    "\n",
    "def propagate(X, Y, W, b):\n",
    "    m = X.shape[0]\n",
    "    A = softmax(np.dot(X, W) + b)\n",
    "    cost = -np.mean(np.sum(Y * np.log(A), axis=1))\n",
    "    dZ = A - Y\n",
    "    dW = (1 / m) * np.dot(X.T, dZ)\n",
    "    db = (1 / m) * np.sum(dZ, axis=0)\n",
    "    return dW, db, cost\n",
    "\n",
    "def optimize(X, Y, W, b, num_iter, lr):\n",
    "    costs = []\n",
    "    for i in range(num_iter):\n",
    "        dW, db, cost = propagate(X, Y, W, b)\n",
    "        W -= lr * dW\n",
    "        b -= lr * db\n",
    "        if i % 100 == 0:\n",
    "            costs.append(cost)\n",
    "    return W, b, costs\n",
    "\n",
    "def predict(X, W, b):\n",
    "    A = softmax(np.dot(X, W) + b)\n",
    "    return np.argmax(A, axis=1)\n",
    "\n",
    "def bagging(X_train, y_train, X_test, y_test, num_bagging):\n",
    "    bagging_pred = np.zeros((y_test.shape[0], num_bagging))\n",
    "    for i in range(num_bagging):\n",
    "        idx = np.random.choice(X_train.shape[0], X_train.shape[0])\n",
    "        X_bag, y_bag = X_train[idx], y_train[idx]\n",
    "        W, b = initialize_params(X_train.shape[1])\n",
    "        W, b, _ = optimize(X_bag, y_bag, W, b, num_iter=100, lr=0.1)\n",
    "        bagging_pred[:, i] = predict(X_test, W, b)\n",
    "    pred = np.argmax(np.apply_along_axis(lambda x: np.bincount(x, minlength=3), axis=1, arr=bagging_pred), axis=1)\n",
    "    accuracy = np.mean(pred == y_test)\n",
    "    return accuracy\n",
    "\n",
    "# Example usage\n",
    "# Assuming that X_train, y_train, X_test, y_test are already defined\n",
    "print(\"Single Classifier Accuracy: \", bagging(train_features, train_labels, test_features, test_features, num_bagging=1))\n",
    "print(\"Bagging 10 Accuracy: \", bagging(train_features, train_labels, test_features, test_features, num_bagging=10))\n",
    "print(\"Bagging 50 Accuracy: \", bagging(train_features, train_labels, test_features, test_features, num_bagging=50))\n",
    "print(\"Bagging 100 Accuracy: \", bagging(train_features, train_labels, test_features, test_features, num_bagging=100))"
   ]
  },
  {
   "cell_type": "code",
   "execution_count": null,
   "id": "40ddc9a4",
   "metadata": {},
   "outputs": [],
   "source": []
  },
  {
   "cell_type": "code",
   "execution_count": null,
   "id": "d35944f3",
   "metadata": {},
   "outputs": [],
   "source": []
  },
  {
   "cell_type": "code",
   "execution_count": null,
   "id": "aa60d062",
   "metadata": {},
   "outputs": [],
   "source": []
  },
  {
   "cell_type": "code",
   "execution_count": null,
   "id": "aa7f5631",
   "metadata": {},
   "outputs": [],
   "source": []
  },
  {
   "cell_type": "code",
   "execution_count": null,
   "id": "c3f4e022",
   "metadata": {},
   "outputs": [],
   "source": []
  },
  {
   "cell_type": "code",
   "execution_count": null,
   "id": "c841d912",
   "metadata": {},
   "outputs": [],
   "source": []
  }
 ],
 "metadata": {
  "kernelspec": {
   "display_name": "Python 3 (ipykernel)",
   "language": "python",
   "name": "python3"
  },
  "language_info": {
   "codemirror_mode": {
    "name": "ipython",
    "version": 3
   },
   "file_extension": ".py",
   "mimetype": "text/x-python",
   "name": "python",
   "nbconvert_exporter": "python",
   "pygments_lexer": "ipython3",
   "version": "3.9.12"
  }
 },
 "nbformat": 4,
 "nbformat_minor": 5
}
