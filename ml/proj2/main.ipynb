{
 "cells": [
  {
   "cell_type": "markdown",
   "id": "34d1475c",
   "metadata": {},
   "source": [
    "# ------------------------- CSE-6363-001 ML Project 2 -------------------------"
   ]
  },
  {
   "cell_type": "code",
   "execution_count": 5,
   "id": "f4bca4c6",
   "metadata": {},
   "outputs": [],
   "source": [
    "import numpy as np\n",
    "import matplotlib.pyplot as plt"
   ]
  },
  {
   "cell_type": "code",
   "execution_count": 6,
   "id": "a7ed8e1f",
   "metadata": {},
   "outputs": [],
   "source": [
    "def read_data(filename='./data/data.txt'):\n",
    "    \"\"\"\n",
    "    Load the dataset for question 1 provided with the homework.\n",
    "    \n",
    "    Parameters\n",
    "    ----------\n",
    "    filename - string\n",
    "    \n",
    "    Returns\n",
    "    -------\n",
    "    data - numpy array of floats\n",
    "    labels - numpy array of integers\n",
    "    \"\"\"\n",
    "    features = []\n",
    "    labels = []\n",
    "    with open(filename, 'r') as f:\n",
    "        for line in f:\n",
    "            line = line.strip().replace('\\n','').split(',')\n",
    "            features.append([float(i) for i in line[:4]])\n",
    "            labels.append(line[-1])\n",
    "    return np.array(features), np.array(labels)"
   ]
  },
  {
   "cell_type": "code",
   "execution_count": 34,
   "id": "23659f20",
   "metadata": {},
   "outputs": [
    {
     "name": "stdout",
     "output_type": "stream",
     "text": [
      "(120, 4) (120,)\n"
     ]
    }
   ],
   "source": [
    "features, labels = read_data()\n",
    "print(features.shape, labels.shape)"
   ]
  },
  {
   "cell_type": "code",
   "execution_count": 51,
   "id": "3d18ec1e",
   "metadata": {},
   "outputs": [],
   "source": [
    "def one_hot_encoding(y):\n",
    "    num_samples = len(y)\n",
    "    y_encoded = np.zeros((num_samples, len(np.unique(y))))\n",
    "    for i in range(num_samples):\n",
    "        if y[i] == 'Plastic':\n",
    "            y_encoded[i, 0] = 1\n",
    "        elif y[i] == 'Metal':\n",
    "            y_encoded[i, 1] = 1\n",
    "        elif y[i] == 'Ceramic':\n",
    "            y_encoded[i, 2] = 1\n",
    "    return y_encoded"
   ]
  },
  {
   "cell_type": "code",
   "execution_count": 52,
   "id": "8a1c7a6e",
   "metadata": {},
   "outputs": [],
   "source": [
    "labels_enc = one_hot_encoding(labels)"
   ]
  },
  {
   "cell_type": "code",
   "execution_count": 53,
   "id": "0d2176ab",
   "metadata": {},
   "outputs": [
    {
     "data": {
      "text/plain": [
       "array([[0., 1., 0.],\n",
       "       [1., 0., 0.],\n",
       "       [0., 0., 1.],\n",
       "       [1., 0., 0.],\n",
       "       [1., 0., 0.],\n",
       "       [0., 0., 1.],\n",
       "       [1., 0., 0.],\n",
       "       [1., 0., 0.],\n",
       "       [0., 1., 0.],\n",
       "       [0., 1., 0.],\n",
       "       [0., 0., 1.],\n",
       "       [0., 0., 1.],\n",
       "       [0., 1., 0.],\n",
       "       [0., 1., 0.],\n",
       "       [0., 1., 0.],\n",
       "       [1., 0., 0.],\n",
       "       [1., 0., 0.],\n",
       "       [0., 0., 1.],\n",
       "       [1., 0., 0.],\n",
       "       [1., 0., 0.],\n",
       "       [1., 0., 0.],\n",
       "       [1., 0., 0.],\n",
       "       [0., 0., 1.],\n",
       "       [1., 0., 0.],\n",
       "       [0., 0., 1.],\n",
       "       [0., 1., 0.],\n",
       "       [0., 0., 1.],\n",
       "       [1., 0., 0.],\n",
       "       [0., 0., 1.],\n",
       "       [0., 1., 0.],\n",
       "       [0., 1., 0.],\n",
       "       [0., 0., 1.],\n",
       "       [1., 0., 0.],\n",
       "       [1., 0., 0.],\n",
       "       [0., 0., 1.],\n",
       "       [1., 0., 0.],\n",
       "       [0., 1., 0.],\n",
       "       [0., 0., 1.],\n",
       "       [1., 0., 0.],\n",
       "       [0., 0., 1.],\n",
       "       [1., 0., 0.],\n",
       "       [0., 1., 0.],\n",
       "       [1., 0., 0.],\n",
       "       [0., 1., 0.],\n",
       "       [0., 0., 1.],\n",
       "       [1., 0., 0.],\n",
       "       [1., 0., 0.],\n",
       "       [0., 1., 0.],\n",
       "       [0., 0., 1.],\n",
       "       [0., 1., 0.],\n",
       "       [0., 0., 1.],\n",
       "       [0., 0., 1.],\n",
       "       [1., 0., 0.],\n",
       "       [0., 0., 1.],\n",
       "       [0., 1., 0.],\n",
       "       [0., 0., 1.],\n",
       "       [0., 1., 0.],\n",
       "       [1., 0., 0.],\n",
       "       [0., 1., 0.],\n",
       "       [0., 0., 1.],\n",
       "       [0., 1., 0.],\n",
       "       [1., 0., 0.],\n",
       "       [0., 0., 1.],\n",
       "       [0., 1., 0.],\n",
       "       [1., 0., 0.],\n",
       "       [1., 0., 0.],\n",
       "       [0., 1., 0.],\n",
       "       [0., 0., 1.],\n",
       "       [0., 0., 1.],\n",
       "       [1., 0., 0.],\n",
       "       [0., 0., 1.],\n",
       "       [1., 0., 0.],\n",
       "       [0., 1., 0.],\n",
       "       [0., 1., 0.],\n",
       "       [1., 0., 0.],\n",
       "       [0., 0., 1.],\n",
       "       [0., 0., 1.],\n",
       "       [0., 1., 0.],\n",
       "       [1., 0., 0.],\n",
       "       [0., 1., 0.],\n",
       "       [0., 0., 1.],\n",
       "       [0., 1., 0.],\n",
       "       [0., 1., 0.],\n",
       "       [1., 0., 0.],\n",
       "       [0., 1., 0.],\n",
       "       [0., 0., 1.],\n",
       "       [0., 1., 0.],\n",
       "       [0., 0., 1.],\n",
       "       [0., 0., 1.],\n",
       "       [1., 0., 0.],\n",
       "       [0., 1., 0.],\n",
       "       [0., 1., 0.],\n",
       "       [0., 1., 0.],\n",
       "       [1., 0., 0.],\n",
       "       [0., 1., 0.],\n",
       "       [1., 0., 0.],\n",
       "       [0., 1., 0.],\n",
       "       [1., 0., 0.],\n",
       "       [1., 0., 0.],\n",
       "       [1., 0., 0.],\n",
       "       [0., 1., 0.],\n",
       "       [1., 0., 0.],\n",
       "       [0., 1., 0.],\n",
       "       [1., 0., 0.],\n",
       "       [1., 0., 0.],\n",
       "       [0., 1., 0.],\n",
       "       [1., 0., 0.],\n",
       "       [1., 0., 0.],\n",
       "       [1., 0., 0.],\n",
       "       [0., 1., 0.],\n",
       "       [1., 0., 0.],\n",
       "       [0., 1., 0.],\n",
       "       [1., 0., 0.],\n",
       "       [1., 0., 0.],\n",
       "       [1., 0., 0.],\n",
       "       [1., 0., 0.],\n",
       "       [1., 0., 0.],\n",
       "       [1., 0., 0.],\n",
       "       [1., 0., 0.],\n",
       "       [1., 0., 0.]])"
      ]
     },
     "execution_count": 53,
     "metadata": {},
     "output_type": "execute_result"
    }
   ],
   "source": [
    "labels_enc"
   ]
  },
  {
   "cell_type": "code",
   "execution_count": null,
   "id": "10590bc3",
   "metadata": {},
   "outputs": [],
   "source": []
  },
  {
   "cell_type": "code",
   "execution_count": null,
   "id": "01ee22bb",
   "metadata": {},
   "outputs": [],
   "source": []
  },
  {
   "cell_type": "code",
   "execution_count": null,
   "id": "71c41d52",
   "metadata": {},
   "outputs": [],
   "source": []
  },
  {
   "cell_type": "code",
   "execution_count": 8,
   "id": "1af5ad07",
   "metadata": {},
   "outputs": [
    {
     "name": "stdout",
     "output_type": "stream",
     "text": [
      "\n",
      "label categories are - ['Ceramic', 'Metal', 'Plastic']\n",
      "\n"
     ]
    }
   ],
   "source": [
    "print(f'\\nlabel categories are - {[i for i in np.unique(labels)]}\\n')"
   ]
  },
  {
   "cell_type": "code",
   "execution_count": 9,
   "id": "fe7e852d",
   "metadata": {},
   "outputs": [],
   "source": [
    "## encode labels to integers\n",
    "# labels = np.array([0 if i=='Plastic' else 1 if i=='Metal' else 2 for i in labels])"
   ]
  },
  {
   "cell_type": "code",
   "execution_count": 54,
   "id": "2caf421a",
   "metadata": {},
   "outputs": [],
   "source": [
    "def train_test_split(features, labels):\n",
    "    \"\"\"\n",
    "    split the dataset into train-test as specified in the problem statement\n",
    "    considering the first 6 values of each material type to make the testing dataset\n",
    "    rest of the data is training dataset\n",
    "    \n",
    "    Parameters\n",
    "    ----------\n",
    "    features - numpy array of floats\n",
    "    labels - numpy array of strings\n",
    "    \n",
    "    Returns\n",
    "    -------\n",
    "    train_features - numpy array of floats\n",
    "    test_features - numpy array of floats\n",
    "    train_labels - numpy array of strings\n",
    "    test_labels - numpy array of strings\n",
    "    \n",
    "    \"\"\"\n",
    "    # Shuffle the indices\n",
    "    np.random.seed(21)\n",
    "    shuffled_indices = np.random.permutation(len(features))\n",
    "    \n",
    "    # Split the shuffled indices into train and test sets\n",
    "    train_indices = shuffled_indices[:int(len(features) * 0.75)]\n",
    "    test_indices = shuffled_indices[int(len(features) * 0.75):]\n",
    "    \n",
    "    # Use the train and test indices to split the features and labels\n",
    "    train_features = features[train_indices]\n",
    "    train_labels = labels[train_indices]\n",
    "    test_features = features[test_indices]\n",
    "    test_labels = labels[test_indices]\n",
    "    \n",
    "    return train_features, train_labels, test_features, test_labels"
   ]
  },
  {
   "cell_type": "code",
   "execution_count": 55,
   "id": "a3560b90",
   "metadata": {},
   "outputs": [],
   "source": [
    "train_features, train_labels, test_features, test_labels = train_test_split(features, labels_enc)"
   ]
  },
  {
   "cell_type": "code",
   "execution_count": 56,
   "id": "dfd08ec9",
   "metadata": {},
   "outputs": [
    {
     "name": "stdout",
     "output_type": "stream",
     "text": [
      "(90, 4) (90, 3) (30, 4) (30, 3)\n"
     ]
    }
   ],
   "source": [
    "print(train_features.shape, train_labels.shape, test_features.shape, test_labels.shape)"
   ]
  },
  {
   "cell_type": "code",
   "execution_count": 61,
   "id": "864aaaf4",
   "metadata": {},
   "outputs": [
    {
     "data": {
      "text/plain": [
       "array([[1., 0., 0.],\n",
       "       [1., 0., 0.],\n",
       "       [0., 0., 1.],\n",
       "       [0., 0., 1.],\n",
       "       [1., 0., 0.],\n",
       "       [0., 0., 1.],\n",
       "       [0., 1., 0.],\n",
       "       [1., 0., 0.],\n",
       "       [0., 0., 1.],\n",
       "       [1., 0., 0.],\n",
       "       [0., 0., 1.],\n",
       "       [0., 1., 0.],\n",
       "       [0., 1., 0.],\n",
       "       [0., 1., 0.],\n",
       "       [1., 0., 0.],\n",
       "       [0., 1., 0.],\n",
       "       [1., 0., 0.],\n",
       "       [0., 0., 1.],\n",
       "       [0., 1., 0.],\n",
       "       [0., 1., 0.],\n",
       "       [1., 0., 0.],\n",
       "       [1., 0., 0.],\n",
       "       [0., 1., 0.],\n",
       "       [1., 0., 0.],\n",
       "       [1., 0., 0.],\n",
       "       [0., 0., 1.],\n",
       "       [1., 0., 0.],\n",
       "       [0., 1., 0.],\n",
       "       [0., 1., 0.],\n",
       "       [0., 1., 0.]])"
      ]
     },
     "execution_count": 61,
     "metadata": {},
     "output_type": "execute_result"
    }
   ],
   "source": [
    "test_labels"
   ]
  },
  {
   "cell_type": "code",
   "execution_count": 103,
   "id": "ba1660d6",
   "metadata": {},
   "outputs": [],
   "source": [
    "def softmax(z):\n",
    "    e_z = np.exp(z - np.max(z, axis=1, keepdims=True))\n",
    "    return e_z / e_z.sum(axis=1, keepdims=True)\n",
    "\n",
    "def initialize_params(dim):\n",
    "    W = np.zeros((dim, 3))\n",
    "    b = np.zeros((1, 3))\n",
    "    return W, b\n",
    "\n",
    "def propagate(X, Y, W, b):\n",
    "    m = X.shape[0]\n",
    "    A = softmax(np.dot(X, W) + b)\n",
    "    cost = -np.mean(np.sum(Y * np.log(A), axis=1))\n",
    "    dZ = A - Y\n",
    "    dW = (1 / m) * np.dot(X.T, dZ)\n",
    "    db = (1 / m) * np.sum(dZ, axis=0)\n",
    "    return dW, db, cost\n",
    "\n",
    "def optimize(X, Y, W, b, num_iter, lr):\n",
    "    costs = []\n",
    "    for i in range(num_iter):\n",
    "        dW, db, cost = propagate(X, Y, W, b)\n",
    "        W -= lr * dW\n",
    "        b -= lr * db\n",
    "        if i % 100 == 0:\n",
    "            costs.append(cost)\n",
    "    return W, b, costs\n",
    "\n",
    "def predict(X, W, b):\n",
    "    A = softmax(np.dot(X, W) + b)\n",
    "    return np.argmax(A, axis=1)\n",
    "\n",
    "def bagging(train_features, train_labels, test_features, test_labels, num_bagging):\n",
    "    bagging_pred = np.zeros((test_labels.shape[0], num_bagging))\n",
    "    for i in range(num_bagging):\n",
    "        idx = np.random.choice(train_features.shape[0], train_features.shape[0])\n",
    "        X_bag, y_bag = train_features[idx], train_labels[idx]\n",
    "        W, b = initialize_params(train_features.shape[1])\n",
    "        W, b, _ = optimize(X_bag, y_bag, W, b, num_iter=10000, lr=0.1)\n",
    "        bagging_pred[:, i] = predict(test_features, W, b)\n",
    "    pred = np.argmax(np.apply_along_axis(lambda x: np.bincount(x.astype('int64'), minlength=3), axis=1, arr=bagging_pred), axis=1)\n",
    "    return pred"
   ]
  },
  {
   "cell_type": "code",
   "execution_count": 104,
   "id": "f028ac56",
   "metadata": {},
   "outputs": [],
   "source": [
    "pred_1 = bagging(train_features, train_labels, test_features, test_features, num_bagging=1)\n",
    "pred_10 = bagging(train_features, train_labels, test_features, test_features, num_bagging=10)\n",
    "pred_50 = bagging(train_features, train_labels, test_features, test_features, num_bagging=50)\n",
    "pred_100 = bagging(train_features, train_labels, test_features, test_features, num_bagging=100)\n",
    "\n",
    "pred_actual = np.array([np.argmax(i) for i in test_labels])"
   ]
  },
  {
   "cell_type": "code",
   "execution_count": 105,
   "id": "74d452ce",
   "metadata": {},
   "outputs": [
    {
     "name": "stdout",
     "output_type": "stream",
     "text": [
      "Single Classifier Accuracy: 80.0\n",
      "Bagging 10 Accuracy: 73.33\n",
      "Bagging 50 Accuracy: 80.0\n",
      "Bagging 100 Accuracy: 80.0\n"
     ]
    }
   ],
   "source": [
    "print(f\"Single Classifier Accuracy: {round(100*np.mean(pred_1==pred_actual),2)}\")\n",
    "print(f\"Bagging 10 Accuracy: {round(100*np.mean(pred_10==pred_actual),2)}\")\n",
    "print(f\"Bagging 50 Accuracy: {round(100*np.mean(pred_50==pred_actual),2)}\")\n",
    "print(f\"Bagging 100 Accuracy: {round(100*np.mean(pred_100==pred_actual),2)}\")"
   ]
  },
  {
   "cell_type": "code",
   "execution_count": null,
   "id": "b14ff9e6",
   "metadata": {},
   "outputs": [],
   "source": []
  },
  {
   "cell_type": "code",
   "execution_count": null,
   "id": "624a1455",
   "metadata": {},
   "outputs": [],
   "source": []
  },
  {
   "cell_type": "code",
   "execution_count": null,
   "id": "6b60cceb",
   "metadata": {},
   "outputs": [],
   "source": []
  },
  {
   "cell_type": "code",
   "execution_count": null,
   "id": "4359d107",
   "metadata": {},
   "outputs": [],
   "source": []
  },
  {
   "cell_type": "code",
   "execution_count": null,
   "id": "7ddcb168",
   "metadata": {},
   "outputs": [],
   "source": []
  },
  {
   "cell_type": "code",
   "execution_count": null,
   "id": "40ddc9a4",
   "metadata": {},
   "outputs": [],
   "source": []
  },
  {
   "cell_type": "code",
   "execution_count": null,
   "id": "aa60d062",
   "metadata": {},
   "outputs": [],
   "source": []
  },
  {
   "cell_type": "code",
   "execution_count": null,
   "id": "aa7f5631",
   "metadata": {},
   "outputs": [],
   "source": []
  },
  {
   "cell_type": "code",
   "execution_count": null,
   "id": "c3f4e022",
   "metadata": {},
   "outputs": [],
   "source": []
  },
  {
   "cell_type": "code",
   "execution_count": null,
   "id": "c841d912",
   "metadata": {},
   "outputs": [],
   "source": []
  }
 ],
 "metadata": {
  "kernelspec": {
   "display_name": "Python 3 (ipykernel)",
   "language": "python",
   "name": "python3"
  },
  "language_info": {
   "codemirror_mode": {
    "name": "ipython",
    "version": 3
   },
   "file_extension": ".py",
   "mimetype": "text/x-python",
   "name": "python",
   "nbconvert_exporter": "python",
   "pygments_lexer": "ipython3",
   "version": "3.9.12"
  }
 },
 "nbformat": 4,
 "nbformat_minor": 5
}
