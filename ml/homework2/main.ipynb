{
 "cells": [
  {
   "cell_type": "code",
   "execution_count": 1,
   "id": "f2cdbf18",
   "metadata": {},
   "outputs": [],
   "source": [
    "import numpy as np\n",
    "from sklearn.svm import SVC\n",
    "import matplotlib.pyplot as plt\n",
    "from mpl_toolkits.mplot3d import Axes3D"
   ]
  },
  {
   "cell_type": "code",
   "execution_count": 7,
   "id": "bec55013",
   "metadata": {},
   "outputs": [],
   "source": [
    "data = pd.read_csv('./data.txt', names = ['feat1','feat2','label'])"
   ]
  },
  {
   "cell_type": "code",
   "execution_count": 8,
   "id": "87567f43",
   "metadata": {},
   "outputs": [
    {
     "data": {
      "text/html": [
       "<div>\n",
       "<style scoped>\n",
       "    .dataframe tbody tr th:only-of-type {\n",
       "        vertical-align: middle;\n",
       "    }\n",
       "\n",
       "    .dataframe tbody tr th {\n",
       "        vertical-align: top;\n",
       "    }\n",
       "\n",
       "    .dataframe thead th {\n",
       "        text-align: right;\n",
       "    }\n",
       "</style>\n",
       "<table border=\"1\" class=\"dataframe\">\n",
       "  <thead>\n",
       "    <tr style=\"text-align: right;\">\n",
       "      <th></th>\n",
       "      <th>feat1</th>\n",
       "      <th>feat2</th>\n",
       "      <th>label</th>\n",
       "    </tr>\n",
       "  </thead>\n",
       "  <tbody>\n",
       "    <tr>\n",
       "      <th>0</th>\n",
       "      <td>4.08</td>\n",
       "      <td>0.56</td>\n",
       "      <td>C1</td>\n",
       "    </tr>\n",
       "    <tr>\n",
       "      <th>1</th>\n",
       "      <td>-3.92</td>\n",
       "      <td>1.36</td>\n",
       "      <td>C2</td>\n",
       "    </tr>\n",
       "    <tr>\n",
       "      <th>2</th>\n",
       "      <td>2.52</td>\n",
       "      <td>-1.56</td>\n",
       "      <td>C1</td>\n",
       "    </tr>\n",
       "    <tr>\n",
       "      <th>3</th>\n",
       "      <td>-1.88</td>\n",
       "      <td>-2.76</td>\n",
       "      <td>C2</td>\n",
       "    </tr>\n",
       "    <tr>\n",
       "      <th>4</th>\n",
       "      <td>1.60</td>\n",
       "      <td>5.60</td>\n",
       "      <td>C1</td>\n",
       "    </tr>\n",
       "    <tr>\n",
       "      <th>5</th>\n",
       "      <td>-3.28</td>\n",
       "      <td>1.84</td>\n",
       "      <td>C2</td>\n",
       "    </tr>\n",
       "    <tr>\n",
       "      <th>6</th>\n",
       "      <td>0.64</td>\n",
       "      <td>2.88</td>\n",
       "      <td>C1</td>\n",
       "    </tr>\n",
       "    <tr>\n",
       "      <th>7</th>\n",
       "      <td>-4.00</td>\n",
       "      <td>4.00</td>\n",
       "      <td>C2</td>\n",
       "    </tr>\n",
       "    <tr>\n",
       "      <th>8</th>\n",
       "      <td>4.04</td>\n",
       "      <td>-0.52</td>\n",
       "      <td>C1</td>\n",
       "    </tr>\n",
       "    <tr>\n",
       "      <th>9</th>\n",
       "      <td>-4.80</td>\n",
       "      <td>0.80</td>\n",
       "      <td>C2</td>\n",
       "    </tr>\n",
       "  </tbody>\n",
       "</table>\n",
       "</div>"
      ],
      "text/plain": [
       "   feat1  feat2 label\n",
       "0   4.08   0.56    C1\n",
       "1  -3.92   1.36    C2\n",
       "2   2.52  -1.56    C1\n",
       "3  -1.88  -2.76    C2\n",
       "4   1.60   5.60    C1\n",
       "5  -3.28   1.84    C2\n",
       "6   0.64   2.88    C1\n",
       "7  -4.00   4.00    C2\n",
       "8   4.04  -0.52    C1\n",
       "9  -4.80   0.80    C2"
      ]
     },
     "execution_count": 8,
     "metadata": {},
     "output_type": "execute_result"
    }
   ],
   "source": [
    "data"
   ]
  },
  {
   "cell_type": "code",
   "execution_count": 16,
   "id": "8e23930a",
   "metadata": {},
   "outputs": [
    {
     "data": {
      "image/png": "[encoded data removed]",
      "text/plain": [
       "<Figure size 1080x360 with 2 Axes>"
      ]
     },
     "metadata": {
      "needs_background": "light"
     },
     "output_type": "display_data"
    }
   ],
   "source": [
    "plt.figure(figsize=(15,5))\n",
    "\n",
    "plt.subplot(211)\n",
    "plt.plot(data[data.label=='C1']['feat1'])\n",
    "plt.plot(data[data.label=='C2']['feat1'])\n",
    "\n",
    "plt.subplot(212)\n",
    "plt.plot(data[data.label=='C1']['feat2'])\n",
    "plt.plot(data[data.label=='C2']['feat2'])\n",
    "\n",
    "plt.show()"
   ]
  },
  {
   "cell_type": "code",
   "execution_count": null,
   "id": "5d0d8492",
   "metadata": {},
   "outputs": [],
   "source": []
  },
  {
   "cell_type": "code",
   "execution_count": null,
   "id": "e3f38e23",
   "metadata": {},
   "outputs": [],
   "source": []
  },
  {
   "cell_type": "code",
   "execution_count": null,
   "id": "3b507acd",
   "metadata": {},
   "outputs": [],
   "source": []
  },
  {
   "cell_type": "markdown",
   "id": "4b6b6060",
   "metadata": {},
   "source": [
    "## ---------------------------- QUESTION 2 ----------------------------"
   ]
  },
  {
   "cell_type": "code",
   "execution_count": 2,
   "id": "5648fa61",
   "metadata": {},
   "outputs": [],
   "source": [
    "with open('data_old.txt') as f:\n",
    "    data_old = f.readlines()\n",
    "    f.close()"
   ]
  },
  {
   "cell_type": "code",
   "execution_count": 17,
   "id": "535d4d1e",
   "metadata": {},
   "outputs": [],
   "source": [
    "def format_data(data_old):\n",
    "    feat_array = []\n",
    "    label_array = []\n",
    "    \n",
    "    for row in data_old:\n",
    "        # Splitting the string using comma separator\n",
    "        data_list = row.replace(',\\n','').strip().split(\",\")\n",
    "\n",
    "        # Converting the first four elements to a numpy array of floats\n",
    "        feat_array.append([float(i) for i in data_list[:4]])\n",
    "\n",
    "        # Converting the fifth element to a numpy array of strings and removing the newline character\n",
    "        label_array.append(data_list[4].replace(\"'\", \"\"))\n",
    "        \n",
    "    return np.array(feat_array), np.array(label_array)"
   ]
  },
  {
   "cell_type": "code",
   "execution_count": 18,
   "id": "dc2cbcfa",
   "metadata": {},
   "outputs": [],
   "source": [
    "features, labels = format_data(data_old)"
   ]
  },
  {
   "cell_type": "code",
   "execution_count": 19,
   "id": "5c7e3003",
   "metadata": {},
   "outputs": [],
   "source": [
    "def train_test_split(features, labels):\n",
    "    \n",
    "    # Get unique labels\n",
    "    unique_labels = np.unique(labels)\n",
    "\n",
    "    # Initialize train and test data\n",
    "    train_features, test_features, train_labels, test_labels = [], [], [], []\n",
    "\n",
    "    # Loop through each label\n",
    "    for label in unique_labels:\n",
    "        # Get indices of occurrences of the label in the labels array\n",
    "        label_indices = np.where(labels == label)[0]\n",
    "        # Pick the first 6 occurrences for test and the rest for train\n",
    "        test_indices = label_indices[:6]\n",
    "        train_indices = label_indices[6:]\n",
    "        # Append the corresponding features and labels to the train and test sets\n",
    "        test_features.append(features[test_indices])\n",
    "        test_labels.append(labels[test_indices])\n",
    "        train_features.append(features[train_indices])\n",
    "        train_labels.append(labels[train_indices])\n",
    "        \n",
    "    # Concatenate the train and test sets\n",
    "    train_features = np.concatenate(train_features, axis=0)\n",
    "    train_labels = np.concatenate(train_labels, axis=0)\n",
    "    test_features = np.concatenate(test_features, axis=0)\n",
    "    test_labels = np.concatenate(test_labels, axis=0)\n",
    "        \n",
    "    return train_features, test_features, train_labels, test_labels"
   ]
  },
  {
   "cell_type": "code",
   "execution_count": 20,
   "id": "5bed34f0",
   "metadata": {},
   "outputs": [],
   "source": [
    "train_features, test_features, train_labels, test_labels = train_test_split(features, labels)"
   ]
  },
  {
   "cell_type": "code",
   "execution_count": 33,
   "id": "bf31ed02",
   "metadata": {},
   "outputs": [],
   "source": [
    "def model_svm_iters(train_features, \n",
    "                    test_features, \n",
    "                    train_labels, \n",
    "                    test_labels, \n",
    "                    c_list = [1,10,100,200],\n",
    "                    kernal = 'linear',\n",
    "                    gamma = 'scale',\n",
    "                    perf_comp = {'model':[],'c':[],'acc_train':[],'acc_test':[]}\n",
    "                    ):\n",
    "    \"\"\"\n",
    "    DESCRIPTION -\n",
    "    \"\"\"\n",
    "    # Train the SVM model with a non-zero regularization weight C\n",
    "    for c in c_list:\n",
    "        if kernal == 'rbf':\n",
    "            # train the SVM model with Gaussian Kernels\n",
    "            clf = SVC(kernel='rbf', C=c, gamma='scale')\n",
    "        else:\n",
    "            clf = SVC(kernel='linear', C=c)\n",
    "            \n",
    "        clf.fit(train_features, train_labels)\n",
    "        \n",
    "        # Test the model on the testing set and calculate the classification accuracy\n",
    "        y_pred_train = clf.predict(train_features)\n",
    "        y_pred_test = clf.predict(test_features)\n",
    "\n",
    "        accuracy_train = 100*(np.mean(train_labels == y_pred_train))\n",
    "        accuracy_test = 100*(np.mean(test_labels == y_pred_test))\n",
    "        \n",
    "        print('For C = {} -----'.format(c))\n",
    "        print('Training Accuracy: {}%'.format(round(accuracy_train,2)))\n",
    "        print('Testing Accuracy: {}%\\n'.format(round(accuracy_test,2)))\n",
    "        \n",
    "        perf_comp['model'].append(clf)\n",
    "        perf_comp['c'].append(c)\n",
    "        perf_comp['acc_train'].append(accuracy_train)\n",
    "        perf_comp['acc_test'].append(accuracy_test)\n",
    "    \n",
    "    return perf_comp"
   ]
  },
  {
   "cell_type": "markdown",
   "id": "a58dad7d",
   "metadata": {},
   "source": [
    "## ------------------------------------ QUESTION 2-A ------------------------------------"
   ]
  },
  {
   "cell_type": "markdown",
   "id": "102451c1",
   "metadata": {},
   "source": [
    "Following are the steps:\n",
    "\n",
    "- Load the dataset and split it into training and testing sets (DONE ALREADY).\n",
    "- Train the SVM model on the training set.\n",
    "- Test the model on the testing set and calculate the classification accuracy.\n",
    "- Visualize the decision boundary and the support vectors."
   ]
  },
  {
   "cell_type": "code",
   "execution_count": 22,
   "id": "e8b5bc68",
   "metadata": {},
   "outputs": [],
   "source": [
    "## data edit for this question\n",
    "train_labels_edit = [i if i=='Plastic' else 'Other' for i in train_labels]\n",
    "test_labels_edit = [i if i=='Plastic' else 'Other' for i in test_labels]"
   ]
  },
  {
   "cell_type": "code",
   "execution_count": 38,
   "id": "f45bebdf",
   "metadata": {},
   "outputs": [
    {
     "name": "stdout",
     "output_type": "stream",
     "text": [
      "For C = 1 -----\n",
      "Training Accuracy: 69.61%\n",
      "Testing Accuracy: 61.11%\n",
      "\n",
      "For C = 5 -----\n",
      "Training Accuracy: 85.29%\n",
      "Testing Accuracy: 72.22%\n",
      "\n",
      "For C = 10 -----\n",
      "Training Accuracy: 97.06%\n",
      "Testing Accuracy: 100.0%\n",
      "\n",
      "For C = 50 -----\n",
      "Training Accuracy: 100.0%\n",
      "Testing Accuracy: 100.0%\n",
      "\n",
      "For C = 100 -----\n",
      "Training Accuracy: 100.0%\n",
      "Testing Accuracy: 100.0%\n",
      "\n"
     ]
    }
   ],
   "source": [
    "perf_comp = {'model':[],'c':[],'acc_train':[],'acc_test':[]}\n",
    "\n",
    "perf_comp = model_svm_iters(train_features, \n",
    "                            test_features, \n",
    "                            train_labels_edit, \n",
    "                            test_labels_edit, \n",
    "                            c_list=[1,5,10,50,100], \n",
    "                            kernal='linear',\n",
    "                            gamma=None,\n",
    "                            perf_comp=perf_comp)"
   ]
  },
  {
   "cell_type": "markdown",
   "id": "6ca68816",
   "metadata": {},
   "source": [
    "### OBSERVATION - \n",
    "- As we can see, while increasing the regularization weight value of C we see an increase in the model accuracy.\n",
    "\n",
    "- I have experimented by varying the C value to __1, 5, 10, 50, and 100.__\n",
    "\n",
    "- After a little while, the accuracy stops increasing with increasing value of C.\n",
    "- In this example - the __saturation point is at C = 10.__\n",
    "- We can clearly see that for C = 50, 100; the model performance is not affected.\n",
    "\n",
    "- Also, the model does not appear to be overfitting as the training and testing accuracies are consistent."
   ]
  },
  {
   "cell_type": "code",
   "execution_count": 348,
   "id": "08641c9c",
   "metadata": {},
   "outputs": [],
   "source": [
    "labels_all = np.concatenate([train_labels_edit, test_labels_edit])\n",
    "features_all = np.concatenate([train_features, test_features])"
   ]
  },
  {
   "cell_type": "code",
   "execution_count": 356,
   "id": "6bc23502",
   "metadata": {
    "scrolled": false
   },
   "outputs": [
    {
     "ename": "IndexError",
     "evalue": "list index out of range",
     "output_type": "error",
     "traceback": [
      "\u001b[0;31m---------------------------------------------------------------------------\u001b[0m",
      "\u001b[0;31mIndexError\u001b[0m                                Traceback (most recent call last)",
      "Input \u001b[0;32mIn [356]\u001b[0m, in \u001b[0;36m<cell line: 48>\u001b[0;34m()\u001b[0m\n\u001b[1;32m     45\u001b[0m ax\u001b[38;5;241m.\u001b[39mcontour(hd[\u001b[38;5;241m0\u001b[39m], hd[\u001b[38;5;241m1\u001b[39m], hd_dist, levels\u001b[38;5;241m=\u001b[39m[\u001b[38;5;241m0\u001b[39m], colors\u001b[38;5;241m=\u001b[39m\u001b[38;5;124m'\u001b[39m\u001b[38;5;124mred\u001b[39m\u001b[38;5;124m'\u001b[39m)\n\u001b[1;32m     47\u001b[0m \u001b[38;5;66;03m# plot decision boundary for height and weight\u001b[39;00m\n\u001b[0;32m---> 48\u001b[0m ax\u001b[38;5;241m.\u001b[39mcontour(hw[\u001b[38;5;241m0\u001b[39m], \u001b[43mhw\u001b[49m\u001b[43m[\u001b[49m\u001b[38;5;241;43m2\u001b[39;49m\u001b[43m]\u001b[49m, hw_dist, levels\u001b[38;5;241m=\u001b[39m[\u001b[38;5;241m0\u001b[39m], colors\u001b[38;5;241m=\u001b[39m\u001b[38;5;124m'\u001b[39m\u001b[38;5;124mblue\u001b[39m\u001b[38;5;124m'\u001b[39m)\n\u001b[1;32m     50\u001b[0m \u001b[38;5;66;03m# plot decision boundary for diameter and weight\u001b[39;00m\n\u001b[1;32m     51\u001b[0m ax\u001b[38;5;241m.\u001b[39mcontour(dw[\u001b[38;5;241m1\u001b[39m], dw[\u001b[38;5;241m2\u001b[39m], dw_dist, levels\u001b[38;5;241m=\u001b[39m[\u001b[38;5;241m0\u001b[39m], colors\u001b[38;5;241m=\u001b[39m\u001b[38;5;124m'\u001b[39m\u001b[38;5;124mgreen\u001b[39m\u001b[38;5;124m'\u001b[39m)\n",
      "\u001b[0;31mIndexError\u001b[0m: list index out of range"
     ]
    },
    {
     "data": {
      "image/png": "[encoded data removed]",
      "text/plain": [
       "<Figure size 432x288 with 1 Axes>"
      ]
     },
     "metadata": {
      "needs_background": "light"
     },
     "output_type": "display_data"
    }
   ],
   "source": [
    "import matplotlib.pyplot as plt\n",
    "from mpl_toolkits.mplot3d import Axes3D\n",
    "\n",
    "# create figure and 3D axes\n",
    "fig = plt.figure()\n",
    "ax = fig.add_subplot(111, projection='3d')\n",
    "\n",
    "# plot training data\n",
    "ax.scatter(train_features[:,0], train_features[:,1], train_features[:,2], \n",
    "           c=[0 if i==\"Plastic\" else 1 for i in train_labels_edit])\n",
    "\n",
    "# set axis labels\n",
    "ax.set_xlabel('Height')\n",
    "ax.set_ylabel('Diameter')\n",
    "ax.set_zlabel('Weight')\n",
    "\n",
    "# create meshgrid for height and diameter\n",
    "hd = np.meshgrid(np.linspace(train_features[:,0].min(), train_features[:,0].max(), 100),\n",
    "                 np.linspace(train_features[:,1].min(), train_features[:,1].max(), 100))\n",
    "\n",
    "# create meshgrid for height and weight\n",
    "hw = np.meshgrid(np.linspace(train_features[:,0].min(), train_features[:,0].max(), 100),\n",
    "                 np.linspace(train_features[:,2].min(), train_features[:,2].max(), 100))\n",
    "\n",
    "# create meshgrid for diameter and weight\n",
    "dw = np.meshgrid(np.linspace(train_features[:,1].min(), train_features[:,1].max(), 100),\n",
    "                 np.linspace(train_features[:,2].min(), train_features[:,2].max(), 100))\n",
    "\n",
    "# flatten meshgrids and combine into a 2D array\n",
    "hd_points = np.array([hd[0].flatten(), hd[1].flatten(), np.zeros(10000)]).T\n",
    "hw_points = np.array([hw[0].flatten(), np.zeros(10000), hw[1].flatten()]).T\n",
    "dw_points = np.array([np.zeros(10000), dw[0].flatten(), dw[1].flatten()]).T\n",
    "\n",
    "# calculate distances to decision boundary for each point in meshgrid\n",
    "hd_dist = clf.decision_function(hd_points)\n",
    "hw_dist = clf.decision_function(hw_points)\n",
    "dw_dist = clf.decision_function(dw_points)\n",
    "\n",
    "# reshape distances into 2D arrays\n",
    "hd_dist = hd_dist.reshape((100, 100))\n",
    "hw_dist = hw_dist.reshape((100, 100))\n",
    "dw_dist = dw_dist.reshape((100, 100))\n",
    "\n",
    "# plot decision boundary for height and diameter\n",
    "ax.contour(hd[0], hd[1], hd_dist, levels=[0], colors='red')\n",
    "\n",
    "# plot decision boundary for height and weight\n",
    "ax.contour(hw[0], hw[2], hw_dist, levels=[0], colors='blue')\n",
    "\n",
    "# plot decision boundary for diameter and weight\n",
    "ax.contour(dw[1], dw[2], dw_dist, levels=[0], colors='green')\n",
    "\n",
    "# show plot\n",
    "plt.show()"
   ]
  },
  {
   "cell_type": "code",
   "execution_count": null,
   "id": "2d0263bb",
   "metadata": {},
   "outputs": [],
   "source": []
  },
  {
   "cell_type": "code",
   "execution_count": null,
   "id": "f7dc525e",
   "metadata": {},
   "outputs": [],
   "source": []
  },
  {
   "cell_type": "markdown",
   "id": "10afe14e",
   "metadata": {},
   "source": [
    "## ------------------------------------ QUESTION 2-B ------------------------------------"
   ]
  },
  {
   "cell_type": "code",
   "execution_count": 40,
   "id": "f7afda81",
   "metadata": {},
   "outputs": [
    {
     "name": "stdout",
     "output_type": "stream",
     "text": [
      "For C = 1 -----\n",
      "Training Accuracy: 54.9%\n",
      "Testing Accuracy: 66.67%\n",
      "\n",
      "For C = 5 -----\n",
      "Training Accuracy: 69.61%\n",
      "Testing Accuracy: 50.0%\n",
      "\n",
      "For C = 10 -----\n",
      "Training Accuracy: 70.59%\n",
      "Testing Accuracy: 61.11%\n",
      "\n",
      "For C = 20 -----\n",
      "Training Accuracy: 87.25%\n",
      "Testing Accuracy: 66.67%\n",
      "\n",
      "For C = 50 -----\n",
      "Training Accuracy: 96.08%\n",
      "Testing Accuracy: 100.0%\n",
      "\n",
      "For C = 100 -----\n",
      "Training Accuracy: 96.08%\n",
      "Testing Accuracy: 100.0%\n",
      "\n"
     ]
    }
   ],
   "source": [
    "perf_comp = {'model':[],'c':[],'acc_train':[],'acc_test':[]}\n",
    "\n",
    "perf_comp = model_svm_iters(train_features, \n",
    "                            test_features, \n",
    "                            train_labels_edit, \n",
    "                            test_labels_edit, \n",
    "                            c_list=[1,5,10,20,50,100], \n",
    "                            kernal='rbf',\n",
    "                            gamma='scale',\n",
    "                            perf_comp=perf_comp)"
   ]
  },
  {
   "cell_type": "markdown",
   "id": "73b9aeb3",
   "metadata": {},
   "source": [
    "### OBSERVATION - \n",
    "- As expected and observed earleir, while increasing the regularization weight value of C we see an increase in the model accuracy.\n",
    "\n",
    "- I have experimented by varying the C value to __1, 5, 10, 20, 50, and 100.__\n",
    "\n",
    "- After a little while, the accuracy stops increasing with increasing value of C.\n",
    "- In this example - the __saturation point is at C = 50.__\n",
    "- We can clearly see that for C = 100; the model performance is not affected.\n",
    "\n",
    "- Also, the model does not appear to be overfitting as the training and testing accuracies are consistent."
   ]
  },
  {
   "cell_type": "code",
   "execution_count": null,
   "id": "b4441a1a",
   "metadata": {},
   "outputs": [],
   "source": []
  },
  {
   "cell_type": "code",
   "execution_count": null,
   "id": "ef6ba6e3",
   "metadata": {},
   "outputs": [],
   "source": []
  },
  {
   "cell_type": "code",
   "execution_count": null,
   "id": "a9e9b317",
   "metadata": {},
   "outputs": [],
   "source": []
  },
  {
   "cell_type": "code",
   "execution_count": null,
   "id": "231548db",
   "metadata": {},
   "outputs": [],
   "source": []
  },
  {
   "cell_type": "code",
   "execution_count": null,
   "id": "4998d85a",
   "metadata": {},
   "outputs": [],
   "source": []
  },
  {
   "cell_type": "code",
   "execution_count": null,
   "id": "fd6f75c2",
   "metadata": {},
   "outputs": [],
   "source": []
  },
  {
   "cell_type": "code",
   "execution_count": null,
   "id": "0dd317a7",
   "metadata": {},
   "outputs": [],
   "source": []
  },
  {
   "cell_type": "code",
   "execution_count": null,
   "id": "3c4f4107",
   "metadata": {},
   "outputs": [],
   "source": []
  },
  {
   "cell_type": "code",
   "execution_count": null,
   "id": "ca8a7398",
   "metadata": {},
   "outputs": [],
   "source": []
  },
  {
   "cell_type": "code",
   "execution_count": null,
   "id": "759f700d",
   "metadata": {},
   "outputs": [],
   "source": []
  },
  {
   "cell_type": "code",
   "execution_count": null,
   "id": "e33ab2e2",
   "metadata": {},
   "outputs": [],
   "source": []
  },
  {
   "cell_type": "code",
   "execution_count": null,
   "id": "23752631",
   "metadata": {},
   "outputs": [],
   "source": []
  },
  {
   "cell_type": "code",
   "execution_count": null,
   "id": "d0a9bf8f",
   "metadata": {},
   "outputs": [],
   "source": []
  }
 ],
 "metadata": {
  "kernelspec": {
   "display_name": "Python 3 (ipykernel)",
   "language": "python",
   "name": "python3"
  },
  "language_info": {
   "codemirror_mode": {
    "name": "ipython",
    "version": 3
   },
   "file_extension": ".py",
   "mimetype": "text/x-python",
   "name": "python",
   "nbconvert_exporter": "python",
   "pygments_lexer": "ipython3",
   "version": "3.9.12"
  }
 },
 "nbformat": 4,
 "nbformat_minor": 5
}
