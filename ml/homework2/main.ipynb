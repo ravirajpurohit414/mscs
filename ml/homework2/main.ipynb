{
 "cells": [
  {
   "cell_type": "code",
   "execution_count": 122,
   "id": "738a01ab",
   "metadata": {},
   "outputs": [],
   "source": [
    "import numpy as np\n",
    "import math\n",
    "from sklearn.svm import SVC\n",
    "import matplotlib.pyplot as plt\n",
    "from mpl_toolkits.mplot3d import Axes3D"
   ]
  },
  {
   "cell_type": "markdown",
   "id": "29fc1406",
   "metadata": {},
   "source": [
    "## ---------------------------- QUESTION 1-A ----------------------------\n",
    "The optimization function for the linear maximum margin optimization problem is given by:\n",
    "\n",
    "Maximize: 2/||w|| subject to yi(w^T xi + b) >= 1, for i = 1,2,...,n.\n",
    "\n",
    "where,\n",
    "\n",
    "w is the weight vector\n",
    "b is the bias term\n",
    "xi is the feature vector of the ith example\n",
    "yi is the label of the ith example (+1 or -1)\n",
    "The constraints require that all examples lie on the correct side of the decision boundary with a margin of at least 1/||w||.\n",
    "\n",
    "In this case, we have two features, so w = [w1, w2] and xi = [x1i, x2i].\n",
    "\n",
    "Now, we can write the optimization function as:\n",
    "\n",
    "Maximize: 2/√(w1^2 + w2^2) subject to yi(w1x1i + w2x2i + b) >= 1, for i = 1,2,...,n.\n",
    "\n",
    "To derive the Lagrangian, we introduce Lagrange multipliers αi for each of the constraints:\n",
    "\n",
    "L(w, b, α) = 2/√(w1^2 + w2^2) - Σ αi [yi (w1 x1i + w2 x2i + b) - 1]\n",
    "\n",
    "To find the dual of the Lagrangian, we need to solve for w and b in terms of the Lagrange multipliers:\n",
    "\n",
    "w = Σ αi yi xi\n",
    "0 = Σ αi yi\n",
    "\n",
    "Substituting these values back into the Lagrangian, we get the Lagrangian Dual:\n",
    "\n",
    "L_Dual(α) = Σ αi - 1/2 Σ Σ αi αj yi yj xi^T xj\n",
    "\n",
    "where, the first summation is over all examples, and the second summation is over all pairs of examples.\n",
    "\n",
    "The constraints on α are: αi >= 0, and Σ αi yi = 0, for i = 1,2,...,n."
   ]
  },
  {
   "cell_type": "markdown",
   "id": "00bff1af",
   "metadata": {},
   "source": [
    "## ---------------------------- QUESTION 1-B ----------------------------\n",
    "The SMO (Sequential Minimal Optimization) algorithm is a widely used optimization technique for training support vector machines (SVMs). Here are the general steps to perform 3 iterations of the SMO algorithm on this data:\n",
    "\n",
    "Step 1: Initialize α, w, and b\n",
    "\n",
    "Set all α_i = 0\n",
    "Initialize b = 0\n",
    "Initialize w = 0\n",
    "Step 2: Pick two α parameters for optimization\n",
    "\n",
    "Choose one α_i from C1 and another α_j from C2, where α_i and α_j are not equal\n",
    "Compute the error for α_i and α_j: E_i = f(x_i) - y_i and E_j = f(x_j) - y_j, where f(x) = w·x + b and y is the target value (+1 or -1)\n",
    "Step 3: Compute the new unconstrained (unclipped) α values that maximize the modified performance function\n",
    "\n",
    "Compute η = K(x_i, x_i) + K(x_j, x_j) - 2K(x_i, x_j), where K is the kernel function (in this case, we can use the linear kernel)\n",
    "Compute the new unconstrained value for α_j: α_j_new_unc = α_j + y_j(E_i - E_j)/η\n",
    "Compute the new unconstrained value for α_i: α_i_new_unc = α_i + y_iy_j(α_j - α_j_new_unc)\n",
    "Step 4: Clip the new α values to ensure that both α values are ≥ 0\n",
    "\n",
    "Clip α_i_new to be between 0 and C_i\n",
    "Clip α_j_new to be between 0 and C_j, where C_i and C_j are the regularization parameters for the two classes (in this case, we can assume C_i = C_j = 1)\n",
    "Step 5: Compute the new value for b\n",
    "\n",
    "If 0 < α_i_new < C_i and 0 < α_j_new < C_j, then set b_new = b - E_i - y_iK(x_i, x_i)(α_i_new - α_i) - y_jK(x_i, x_j)(α_j_new - α_j)\n",
    "Otherwise, if either α_i_new = 0 or α_i_new = C_i, then set b_new = b - E_i - y_iK(x_i, x_i)(α_i_new - α_i) - y_jK(x_i, x_j)(α_j_new - α_j) + (y_i - y_j)ξ_i\n",
    "Otherwise, if either α_j_new = 0 or α_j_new = C_j, then set b_new = b - E_i - y_iK(x_i, x_i)(α_i_new - α_i) - y_jK(x_i, x_j)(α_j_new - α_j) + (y_i - y_j)ξ_j\n",
    "where ξ_i = f(x_i) + b_new - y_i and ξ_j = f(x_j) + b_new - y_j are the new values of the functional margin for the two support vectors\n",
    "Step 6: Update w to reflect the new α values\n",
    "\n",
    "Compute w_new = sum(α_i_newy_ix_i) for all support vectors with non-zero α values\n",
    "Step 7: Repeat steps 2-6 for a total of 3 iterations, or until convergence\n",
    "\n",
    "Unfortunately, I cannot provide a plot of the data points with the decision boundary described by the values of w and b that you obtained as I'm a text-based AI language model. However, you can plot the data and decision boundary using Python's Matplotlib library or any other suitable\n",
    "\n",
    "\n",
    "\n",
    "\n"
   ]
  },
  {
   "cell_type": "code",
   "execution_count": null,
   "id": "0c5bde30",
   "metadata": {},
   "outputs": [],
   "source": []
  },
  {
   "cell_type": "code",
   "execution_count": null,
   "id": "6e58904a",
   "metadata": {},
   "outputs": [],
   "source": []
  },
  {
   "cell_type": "code",
   "execution_count": null,
   "id": "fb325ec7",
   "metadata": {},
   "outputs": [],
   "source": []
  },
  {
   "cell_type": "code",
   "execution_count": null,
   "id": "2cf600f4",
   "metadata": {},
   "outputs": [],
   "source": []
  },
  {
   "cell_type": "code",
   "execution_count": null,
   "id": "85799421",
   "metadata": {},
   "outputs": [],
   "source": []
  },
  {
   "cell_type": "code",
   "execution_count": null,
   "id": "2db2dbc2",
   "metadata": {},
   "outputs": [],
   "source": []
  },
  {
   "cell_type": "code",
   "execution_count": 205,
   "id": "ffc82220",
   "metadata": {},
   "outputs": [],
   "source": [
    "def read_data(filename='./data_q1.txt'):\n",
    "    \"\"\"\n",
    "    Load the dataset for question 1 provided with the homework.\n",
    "    \n",
    "    Parameters\n",
    "    ----------\n",
    "    filename - string\n",
    "    \n",
    "    Returns\n",
    "    -------\n",
    "    data - numpy array of floats\n",
    "    labels - numpy array of integers\n",
    "    \"\"\"\n",
    "    data = []\n",
    "    labels = []\n",
    "    with open(filename, 'r') as f:\n",
    "        for line in f:\n",
    "            line = line.strip().split(',')\n",
    "            x1, x2, label = float(line[0]), float(line[1]), int(line[2][1:])\n",
    "            data.append([x1, x2])\n",
    "            labels.append(label)\n",
    "    return np.array(data), np.array(labels)"
   ]
  },
  {
   "cell_type": "code",
   "execution_count": 116,
   "id": "8e17fc8f",
   "metadata": {},
   "outputs": [
    {
     "data": {
      "text/plain": [
       "(array([[ 4.08,  0.56],\n",
       "        [-3.92,  1.36],\n",
       "        [ 2.52, -1.56],\n",
       "        [-1.88, -2.76],\n",
       "        [ 1.6 ,  5.6 ],\n",
       "        [-3.28,  1.84],\n",
       "        [ 0.64,  2.88],\n",
       "        [-4.  ,  4.  ],\n",
       "        [ 4.04, -0.52],\n",
       "        [-4.8 ,  0.8 ]]),\n",
       " array([1, 2, 1, 2, 1, 2, 1, 2, 1, 2]))"
      ]
     },
     "execution_count": 116,
     "metadata": {},
     "output_type": "execute_result"
    }
   ],
   "source": [
    "data_q1, labels_q1 = read_data()\n",
    "\n",
    "data_q1, labels_q1"
   ]
  },
  {
   "cell_type": "code",
   "execution_count": null,
   "id": "d6d1df54",
   "metadata": {},
   "outputs": [],
   "source": []
  },
  {
   "cell_type": "markdown",
   "id": "8e353821",
   "metadata": {},
   "source": [
    "## ---------------------------- QUESTION 2 ----------------------------"
   ]
  },
  {
   "cell_type": "code",
   "execution_count": 206,
   "id": "b4c650c1",
   "metadata": {},
   "outputs": [],
   "source": [
    "## load the larger dataset from homework 1\n",
    "with open('data_old.txt') as f:\n",
    "    data_old = f.readlines()\n",
    "    f.close()"
   ]
  },
  {
   "cell_type": "code",
   "execution_count": 207,
   "id": "6906fbbb",
   "metadata": {},
   "outputs": [],
   "source": [
    "def format_data(data_old):\n",
    "    \"\"\"\n",
    "    format the dataset into numpy arrays of features and labels\n",
    "    \n",
    "    Parameters\n",
    "    ----------\n",
    "    data_old - list of strings\n",
    "    \n",
    "    Returns\n",
    "    -------\n",
    "    feat_array - numpy array of features\n",
    "    label_array - numpy array of labels\n",
    "    \"\"\"\n",
    "    feat_array = []\n",
    "    label_array = []\n",
    "    \n",
    "    for row in data_old:\n",
    "        ## Splitting the string using comma separator and removing the newline character\n",
    "        data_list = row.replace(',\\n','').strip().split(\",\")\n",
    "\n",
    "        ## Converting the first 4 elements to a numpy array of floats\n",
    "        feat_array.append([float(i) for i in data_list[:4]])\n",
    "\n",
    "        ## Converting the 5th element to a numpy array of strings\n",
    "        label_array.append(data_list[4].replace(\"'\", \"\"))\n",
    "        \n",
    "    return np.array(feat_array), np.array(label_array)"
   ]
  },
  {
   "cell_type": "code",
   "execution_count": 208,
   "id": "26037411",
   "metadata": {},
   "outputs": [],
   "source": [
    "features, labels = format_data(data_old)"
   ]
  },
  {
   "cell_type": "code",
   "execution_count": 209,
   "id": "c6598eea",
   "metadata": {},
   "outputs": [],
   "source": [
    "def train_test_split(features, labels):\n",
    "    \"\"\"\n",
    "    split the dataset into train-test as specified in the problem statement\n",
    "    considering the first 6 values of each material type to make the testing dataset\n",
    "    rest of the data is training dataset\n",
    "    \n",
    "    Parameters\n",
    "    ----------\n",
    "    features - numpy array of floats\n",
    "    labels - numpy array of strings\n",
    "    \n",
    "    Returns\n",
    "    -------\n",
    "    train_features - numpy array of floats\n",
    "    test_features - numpy array of floats\n",
    "    train_labels - numpy array of strings\n",
    "    test_labels - numpy array of strings\n",
    "    \n",
    "    \"\"\"\n",
    "    # Get unique labels\n",
    "    unique_labels = np.unique(labels)\n",
    "\n",
    "    # Initialize train and test data\n",
    "    train_features, test_features, train_labels, test_labels = [], [], [], []\n",
    "\n",
    "    # Loop through each label\n",
    "    for label in unique_labels:\n",
    "        # Get indices of occurrences of the label in the labels array\n",
    "        label_indices = np.where(labels == label)[0]\n",
    "        # Pick the first 6 occurrences for test and the rest for train\n",
    "        test_indices = label_indices[:6]\n",
    "        train_indices = label_indices[6:]\n",
    "        # Append the corresponding features and labels to the train and test sets\n",
    "        test_features.append(features[test_indices])\n",
    "        test_labels.append(labels[test_indices])\n",
    "        train_features.append(features[train_indices])\n",
    "        train_labels.append(labels[train_indices])\n",
    "        \n",
    "    # Concatenate the train and test sets\n",
    "    train_features = np.concatenate(train_features, axis=0)\n",
    "    train_labels = np.concatenate(train_labels, axis=0)\n",
    "    test_features = np.concatenate(test_features, axis=0)\n",
    "    test_labels = np.concatenate(test_labels, axis=0)\n",
    "        \n",
    "    return train_features, test_features, train_labels, test_labels"
   ]
  },
  {
   "cell_type": "code",
   "execution_count": 210,
   "id": "59bea38d",
   "metadata": {},
   "outputs": [],
   "source": [
    "train_features, test_features, train_labels, test_labels = train_test_split(features, labels)"
   ]
  },
  {
   "cell_type": "code",
   "execution_count": 211,
   "id": "97e3ad06",
   "metadata": {},
   "outputs": [],
   "source": [
    "def model_svm_iters(train_features, \n",
    "                    test_features, \n",
    "                    train_labels, \n",
    "                    test_labels, \n",
    "                    c_list = [1,10,100,200],\n",
    "                    kernal = 'linear',\n",
    "                    gamma = 'scale',\n",
    "                    perf_comp = {'model':[],'c':[],'acc_train':[],'acc_test':[]}\n",
    "                    ):\n",
    "    \"\"\"\n",
    "    Parameters\n",
    "    ----------\n",
    "    train_features - numpy array of floats\n",
    "    test_features - numpy array of floats\n",
    "    train_labels - numpy array of strings\n",
    "    test_labels - numpy array of strings\n",
    "    c_list - list of integers\n",
    "    kernal - 'linear' or 'rbf' or 'poly'\n",
    "    perf_comp - dictionary to solve the model, configuration, training and testing accuracies for comparison\n",
    "    \n",
    "    Returns\n",
    "    -------\n",
    "    perf_comp - dictionary with saved model, configuration, training and testing accuracies to compare later\n",
    "    \n",
    "    \"\"\"\n",
    "    # Train the SVM model with a non-zero regularization weight C\n",
    "    for c in c_list:\n",
    "        if kernal == 'rbf':\n",
    "            # train the SVM model with Gaussian Kernels\n",
    "            clf = SVC(kernel='rbf', C=c, gamma='scale')\n",
    "        else:\n",
    "            clf = SVC(kernel='linear', C=c)\n",
    "            \n",
    "        clf.fit(train_features, train_labels)\n",
    "        \n",
    "        # Test the model on the testing set and calculate the classification accuracy\n",
    "        y_pred_train = clf.predict(train_features)\n",
    "        y_pred_test = clf.predict(test_features)\n",
    "\n",
    "        accuracy_train = 100*(np.mean(train_labels == y_pred_train))\n",
    "        accuracy_test = 100*(np.mean(test_labels == y_pred_test))\n",
    "        \n",
    "        print('For C = {} -----'.format(c))\n",
    "        print('Training Accuracy: {}%'.format(round(accuracy_train,2)))\n",
    "        print('Testing Accuracy: {}%\\n'.format(round(accuracy_test,2)))\n",
    "        \n",
    "        perf_comp['model'].append(clf)\n",
    "        perf_comp['c'].append(c)\n",
    "        perf_comp['acc_train'].append(accuracy_train)\n",
    "        perf_comp['acc_test'].append(accuracy_test)\n",
    "    \n",
    "    return perf_comp"
   ]
  },
  {
   "cell_type": "markdown",
   "id": "16f03cbe",
   "metadata": {},
   "source": [
    "## ------------------------------------ QUESTION 2-A ------------------------------------"
   ]
  },
  {
   "cell_type": "markdown",
   "id": "065b878c",
   "metadata": {},
   "source": [
    "Following are the steps:\n",
    "\n",
    "- Load the dataset and split it into training and testing sets (DONE ALREADY).\n",
    "- Train the SVM model on the training set.\n",
    "- Test the model on the testing set and calculate the classification accuracy.\n",
    "- Visualize the decision boundary and the support vectors."
   ]
  },
  {
   "cell_type": "code",
   "execution_count": 212,
   "id": "949c14e9",
   "metadata": {},
   "outputs": [],
   "source": [
    "## data edit for this question\n",
    "train_labels_edit = [i if i=='Plastic' else 'Other' for i in train_labels]\n",
    "test_labels_edit = [i if i=='Plastic' else 'Other' for i in test_labels]"
   ]
  },
  {
   "cell_type": "code",
   "execution_count": 213,
   "id": "d50150f1",
   "metadata": {},
   "outputs": [
    {
     "name": "stdout",
     "output_type": "stream",
     "text": [
      "For C = 1 -----\n",
      "Training Accuracy: 69.61%\n",
      "Testing Accuracy: 61.11%\n",
      "\n",
      "For C = 5 -----\n",
      "Training Accuracy: 85.29%\n",
      "Testing Accuracy: 72.22%\n",
      "\n",
      "For C = 10 -----\n",
      "Training Accuracy: 97.06%\n",
      "Testing Accuracy: 100.0%\n",
      "\n",
      "For C = 50 -----\n",
      "Training Accuracy: 100.0%\n",
      "Testing Accuracy: 100.0%\n",
      "\n",
      "For C = 100 -----\n",
      "Training Accuracy: 100.0%\n",
      "Testing Accuracy: 100.0%\n",
      "\n"
     ]
    }
   ],
   "source": [
    "perf_comp = {'model':[],'c':[],'acc_train':[],'acc_test':[]}\n",
    "\n",
    "perf_comp = model_svm_iters(train_features, \n",
    "                            test_features, \n",
    "                            train_labels_edit, \n",
    "                            test_labels_edit, \n",
    "                            c_list=[1,5,10,50,100], \n",
    "                            kernal='linear',\n",
    "                            gamma=None,\n",
    "                            perf_comp=perf_comp)"
   ]
  },
  {
   "cell_type": "markdown",
   "id": "fbc5241e",
   "metadata": {},
   "source": [
    "### OBSERVATION - \n",
    "- As we can see, while increasing the regularization weight value of C we see an increase in the model accuracy.\n",
    "\n",
    "- I have experimented by varying the C value to __1, 5, 10, 50, and 100.__\n",
    "\n",
    "- After a little while, the accuracy stops increasing with increasing value of C.\n",
    "- In this example - the __saturation point is at C = 10.__\n",
    "- We can clearly see that for C = 50, 100; the model performance is not affected.\n",
    "\n",
    "- Also, the model does not appear to be overfitting as the training and testing accuracies are consistent."
   ]
  },
  {
   "cell_type": "code",
   "execution_count": 214,
   "id": "d1a756c4",
   "metadata": {},
   "outputs": [],
   "source": [
    "labels_all = np.concatenate([train_labels_edit, test_labels_edit])\n",
    "features_all = np.concatenate([train_features, test_features])"
   ]
  },
  {
   "cell_type": "code",
   "execution_count": 215,
   "id": "c83583f9",
   "metadata": {},
   "outputs": [
    {
     "data": {
      "text/plain": [
       "([69.6078431372549, 85.29411764705883, 97.05882352941177, 100.0, 100.0],\n",
       " [61.111111111111114, 72.22222222222221, 100.0, 100.0, 100.0])"
      ]
     },
     "execution_count": 215,
     "metadata": {},
     "output_type": "execute_result"
    }
   ],
   "source": [
    "perf_comp['acc_train'], perf_comp['acc_test']"
   ]
  },
  {
   "cell_type": "code",
   "execution_count": 216,
   "id": "1e9e17df",
   "metadata": {},
   "outputs": [],
   "source": [
    "## choose the best model\n",
    "clf = perf_comp['model'][2]"
   ]
  },
  {
   "cell_type": "code",
   "execution_count": 217,
   "id": "22067279",
   "metadata": {},
   "outputs": [],
   "source": [
    "is_plastic = np.array(train_labels_edit).ravel()=='Plastic'\n",
    "is_other = np.array(train_labels_edit).ravel()=='Other'"
   ]
  },
  {
   "cell_type": "code",
   "execution_count": 218,
   "id": "2162dc3a",
   "metadata": {},
   "outputs": [
    {
     "data": {
      "image/png": "[encoded data removed]",
      "text/plain": [
       "<Figure size 1080x432 with 3 Axes>"
      ]
     },
     "metadata": {
      "needs_background": "light"
     },
     "output_type": "display_data"
    }
   ],
   "source": [
    "# Plotting 2D projections of data and decision boundary\n",
    "plt.figure(figsize=(15,6))\n",
    "plt.suptitle(\"Linear SVM decision boundary\")\n",
    "\n",
    "plt.subplot(131)\n",
    "plt.title('Height vs Diameter')\n",
    "\n",
    "w = clf.coef_[0]\n",
    "a = -w[0]/w[1]\n",
    "xx = np.array([train_features[:,0].min(),train_features[:,0].max()])\n",
    "yy = a*xx - (clf.intercept_[0])/w[1]\n",
    "plt.plot(xx,yy,\"b-\")\n",
    "# Plot data points\n",
    "plt.plot(train_features[:,0][is_plastic], train_features[:,1][is_plastic], \"go\",label=\"plastic\")\n",
    "plt.plot(train_features[:,0][is_other], train_features[:,1][is_other], \"ro\",label=\"not plastic\")\n",
    "\n",
    "\n",
    "plt.subplot(132)\n",
    "plt.title('Height vs Weight')\n",
    "\n",
    "w = clf.coef_[0]\n",
    "a = -w[0]/w[2]\n",
    "xx = np.array([train_features[:,0].min(),train_features[:,0].max()])\n",
    "yy = a*xx - (clf.intercept_[0])/w[2]\n",
    "plt.plot(xx,yy,\"b-\")\n",
    "\n",
    "# Plot data points\n",
    "plt.plot(train_features[:,0][is_plastic], train_features[:,2][is_plastic], \"go\",label=\"plastic\")\n",
    "plt.plot(train_features[:,0][is_other], train_features[:,2][is_other], \"ro\",label=\"not plastic\")\n",
    "\n",
    "\n",
    "plt.subplot(133)\n",
    "plt.title('Diameter vs Weight')\n",
    "\n",
    "w = clf.coef_[0]\n",
    "a = -w[1]/w[2]\n",
    "xx = np.array([train_features[:,1].min(),train_features[:,1].max()])\n",
    "yy = a*xx - (clf.intercept_[0])/w[2]\n",
    "plt.plot(xx,yy,\"b-\")\n",
    "\n",
    "# Plot data points\n",
    "plt.plot(train_features[:,1][is_plastic], train_features[:,2][is_plastic], \"go\",label=\"plastic\")\n",
    "plt.plot(train_features[:,1][is_other], train_features[:,2][is_other], \"ro\",label=\"not plastic\")\n",
    "\n",
    "plt.savefig(\"./lin_svm_clf.jpeg\")\n",
    "plt.show()"
   ]
  },
  {
   "cell_type": "code",
   "execution_count": null,
   "id": "5fca3790",
   "metadata": {},
   "outputs": [],
   "source": []
  },
  {
   "cell_type": "code",
   "execution_count": null,
   "id": "abc2ba4d",
   "metadata": {},
   "outputs": [],
   "source": []
  },
  {
   "cell_type": "markdown",
   "id": "a66d5922",
   "metadata": {},
   "source": [
    "## ------------------------------------ QUESTION 2-B ------------------------------------"
   ]
  },
  {
   "cell_type": "code",
   "execution_count": 219,
   "id": "476f7cec",
   "metadata": {},
   "outputs": [
    {
     "name": "stdout",
     "output_type": "stream",
     "text": [
      "For C = 1 -----\n",
      "Training Accuracy: 54.9%\n",
      "Testing Accuracy: 66.67%\n",
      "\n",
      "For C = 5 -----\n",
      "Training Accuracy: 69.61%\n",
      "Testing Accuracy: 50.0%\n",
      "\n",
      "For C = 10 -----\n",
      "Training Accuracy: 70.59%\n",
      "Testing Accuracy: 61.11%\n",
      "\n",
      "For C = 20 -----\n",
      "Training Accuracy: 87.25%\n",
      "Testing Accuracy: 66.67%\n",
      "\n",
      "For C = 50 -----\n",
      "Training Accuracy: 96.08%\n",
      "Testing Accuracy: 100.0%\n",
      "\n",
      "For C = 100 -----\n",
      "Training Accuracy: 96.08%\n",
      "Testing Accuracy: 100.0%\n",
      "\n"
     ]
    }
   ],
   "source": [
    "perf_comp = {'model':[],'c':[],'acc_train':[],'acc_test':[]}\n",
    "\n",
    "perf_comp = model_svm_iters(train_features, \n",
    "                            test_features, \n",
    "                            train_labels_edit, \n",
    "                            test_labels_edit, \n",
    "                            c_list=[1,5,10,20,50,100], \n",
    "                            kernal='rbf',\n",
    "                            gamma='scale',\n",
    "                            perf_comp=perf_comp)"
   ]
  },
  {
   "cell_type": "code",
   "execution_count": 220,
   "id": "e6b093f6",
   "metadata": {},
   "outputs": [
    {
     "data": {
      "text/plain": [
       "([54.90196078431373,\n",
       "  69.6078431372549,\n",
       "  70.58823529411765,\n",
       "  87.25490196078431,\n",
       "  96.07843137254902,\n",
       "  96.07843137254902],\n",
       " [66.66666666666666,\n",
       "  50.0,\n",
       "  61.111111111111114,\n",
       "  66.66666666666666,\n",
       "  100.0,\n",
       "  100.0])"
      ]
     },
     "execution_count": 220,
     "metadata": {},
     "output_type": "execute_result"
    }
   ],
   "source": [
    "perf_comp['acc_train'], perf_comp['acc_test']"
   ]
  },
  {
   "cell_type": "code",
   "execution_count": 221,
   "id": "9a895ed0",
   "metadata": {},
   "outputs": [],
   "source": [
    "## choose the best model\n",
    "clf_nl = perf_comp['model'][4]"
   ]
  },
  {
   "cell_type": "code",
   "execution_count": 222,
   "id": "f8ac3b82",
   "metadata": {},
   "outputs": [
    {
     "data": {
      "image/png": "[encoded data removed]",
      "text/plain": [
       "<Figure size 1080x432 with 3 Axes>"
      ]
     },
     "metadata": {
      "needs_background": "light"
     },
     "output_type": "display_data"
    }
   ],
   "source": [
    "plt.figure(figsize=(15,6))\n",
    "\n",
    "ax_pt_1 = np.linspace(train_features[:,0].min(), train_features[:,0].max(), 100).T\n",
    "ax_pt_2 = np.linspace(train_features[:,1].min(), train_features[:,1].max(), 100).T\n",
    "ax_pt_3 = np.linspace(train_features[:,2].min(), train_features[:,2].max(), 100).T\n",
    "ax_pt_4 = np.linspace(train_features[:,3].min(), train_features[:,3].max(), 100).T\n",
    "\n",
    "p1, p2 = np.meshgrid(ax_pt_1, ax_pt_2)\n",
    "p3, p4 = np.meshgrid(ax_pt_3, ax_pt_4)\n",
    "\n",
    "X_list = [p1,p2,p3,p4] \n",
    "value = np.zeros(p1.shape)\n",
    "\n",
    "for i in range(p1.shape[1]):\n",
    "    this_X = np.column_stack((p1[:, i], p2[:, i],p3[:,i],p4[:,i]))\n",
    "    pred_nl = [1 if i=='Plastic' else -1 for i in clf_nl.predict(this_X)]\n",
    "    value[:, i] = np.array(pred_nl)\n",
    "\n",
    "plt.subplot(131)\n",
    "plt.title('Height vs Diameter')\n",
    "\n",
    "plt.contour(X_list[0], X_list[1], value, colors=\"b\",levels=[-1,0,1])\n",
    "# Plot data points.\n",
    "plt.plot(train_features[:,0][is_plastic], train_features[:,1][is_plastic], \"go\",label=\"plastic\")\n",
    "plt.plot(train_features[:,0][is_other], train_features[:,1][is_other], \"ro\",label=\"not plastic\")\n",
    "plt.legend(loc=\"lower right\")\n",
    "\n",
    "plt.subplot(132)\n",
    "plt.title('Height vs Weight')\n",
    "\n",
    "plt.contour(X_list[0], X_list[2], value, colors=\"b\",levels=[-1,0,1])\n",
    "# Plot data points.\n",
    "plt.plot(train_features[:,0][is_plastic], train_features[:,2][is_plastic], \"go\",label=\"plastic\")\n",
    "plt.plot(train_features[:,0][is_other], train_features[:,2][is_other], \"ro\",label=\"not plastic\")\n",
    "plt.legend(loc=\"lower right\")\n",
    "\n",
    "plt.subplot(133)\n",
    "plt.title('Diameter vs Weight')\n",
    "\n",
    "plt.contour(X_list[1], X_list[2], value, colors=\"b\",levels=[-1,0,1])\n",
    "# Plot data points.\n",
    "plt.plot(train_features[:,1][is_plastic], train_features[:,2][is_plastic], \"go\",label=\"plastic\")\n",
    "plt.plot(train_features[:,1][is_other], train_features[:,2][is_other], \"ro\",label=\"not plastic\")\n",
    "plt.legend(loc=\"lower right\")\n",
    "\n",
    "plt.savefig(\"./non_lin_svm_clf.jpeg\")\n",
    "plt.show()"
   ]
  },
  {
   "cell_type": "markdown",
   "id": "9c37ae68",
   "metadata": {},
   "source": [
    "### OBSERVATION - \n",
    "- As expected and observed earleir, while increasing the regularization weight value of C we see an increase in the model accuracy.\n",
    "\n",
    "- I have experimented by varying the C value to __1, 5, 10, 20, 50, and 100.__\n",
    "\n",
    "- After a little while, the accuracy stops increasing with increasing value of C.\n",
    "- In this example - the __saturation point is at C = 50.__\n",
    "- We can clearly see that for C = 100; the model performance is not affected.\n",
    "\n",
    "- Also, the model does not appear to be overfitting as the training and testing accuracies are consistent."
   ]
  },
  {
   "cell_type": "code",
   "execution_count": null,
   "id": "47e96ac5",
   "metadata": {},
   "outputs": [],
   "source": []
  },
  {
   "cell_type": "markdown",
   "id": "5148dcf1",
   "metadata": {},
   "source": [
    "## ------------------------------------ QUESTION 3-B ------------------------------------"
   ]
  },
  {
   "cell_type": "code",
   "execution_count": 223,
   "id": "456719ec",
   "metadata": {},
   "outputs": [],
   "source": [
    "import numpy as np\n",
    "\n",
    "def entropy(y):\n",
    "    \"\"\"\n",
    "    Calculates the entropy of a label array.\n",
    "    \"\"\"\n",
    "    _, counts = np.unique(y, return_counts=True)\n",
    "    probabilities = counts / len(y)\n",
    "    return -np.sum(probabilities * np.log2(probabilities))\n",
    "\n",
    "def information_gain(X, y, feature_index, threshold):\n",
    "    \"\"\"\n",
    "    Calculates the information gain of a split on a given feature and threshold.\n",
    "    \"\"\"\n",
    "    left_mask = X[:, feature_index] <= threshold\n",
    "    right_mask = X[:, feature_index] > threshold\n",
    "    left_y, right_y = y[left_mask], y[right_mask]\n",
    "    left_entropy, right_entropy = entropy(left_y), entropy(right_y)\n",
    "    left_size, right_size = len(left_y), len(right_y)\n",
    "    total_entropy = (left_size / len(y)) * left_entropy + (right_size / len(y)) * right_entropy\n",
    "    return entropy(y) - total_entropy\n",
    "\n",
    "def find_best_split(X, y):\n",
    "    \"\"\"\n",
    "    Finds the best feature and threshold to split the data.\n",
    "    \"\"\"\n",
    "    best_feature_index, best_threshold, best_info_gain = None, None, -1\n",
    "    for feature_index in range(X.shape[1]):\n",
    "        unique_values = np.unique(X[:, feature_index])\n",
    "        thresholds = (unique_values[:-1] + unique_values[1:]) / 2\n",
    "        for threshold in thresholds:\n",
    "            info_gain = information_gain(X, y, feature_index, threshold)\n",
    "            if info_gain > best_info_gain:\n",
    "                best_feature_index, best_threshold, best_info_gain = feature_index, threshold, info_gain\n",
    "    return best_feature_index, best_threshold\n",
    "\n",
    "def build_tree(X, y, depth=0, max_depth=None):\n",
    "    \"\"\"\n",
    "    Builds a decision tree recursively.\n",
    "    \"\"\"\n",
    "    if depth == max_depth or len(np.unique(y)) == 1:\n",
    "        return np.bincount(y).argmax()\n",
    "    feature_index, threshold = find_best_split(X, y)\n",
    "    left_mask = X[:, feature_index] <= threshold\n",
    "    right_mask = X[:, feature_index] > threshold\n",
    "    left_subtree = build_tree(X[left_mask], y[left_mask], depth+1, max_depth)\n",
    "    right_subtree = build_tree(X[right_mask], y[right_mask], depth+1, max_depth)\n",
    "    return (feature_index, threshold, left_subtree, right_subtree)\n",
    "    \n",
    "def predict(tree, example):\n",
    "    \"\"\"Predicts the labels of an array of single data point using a decision tree.\"\"\"\n",
    "    if type(tree) == tuple:\n",
    "        attribute, threshold, left_subtree, right_subtree = tree\n",
    "        if example[attribute] <= threshold:\n",
    "            return predict(left_subtree, example)\n",
    "        else:\n",
    "            return predict(right_subtree, example)\n",
    "    else:\n",
    "        return tree\n",
    "\n",
    "def predict_all(tree, X):\n",
    "    \"\"\"Predicts the labels of an array of data points using a decision tree.\"\"\"\n",
    "    y_pred = []\n",
    "    for example in X:\n",
    "        y_pred.append(predict(tree, example))\n",
    "    return y_pred"
   ]
  },
  {
   "cell_type": "markdown",
   "id": "963b5bcd",
   "metadata": {},
   "source": [
    "## ------------------------------------ QUESTION 3-C ------------------------------------"
   ]
  },
  {
   "cell_type": "code",
   "execution_count": 224,
   "id": "65cc0fb2",
   "metadata": {},
   "outputs": [],
   "source": [
    "def labels_str_to_int(labels):\n",
    "    \"\"\"\n",
    "    convert string labels to integer to pass to the decision tree classifier\n",
    "    \n",
    "    Parameters\n",
    "    ----------\n",
    "    labels - numpy array of strings\n",
    "    \n",
    "    Returns\n",
    "    -------\n",
    "    labels_int - numpy array of integers\n",
    "    \"\"\"\n",
    "    labels_int = []\n",
    "    for i in labels:\n",
    "        if i=='Plastic':\n",
    "            labels_int.append(0)\n",
    "        elif i=='Ceramic':\n",
    "            labels_int.append(1)\n",
    "        elif i=='Metal':\n",
    "            labels_int.append(2)\n",
    "        \n",
    "    return np.array(labels_int)"
   ]
  },
  {
   "cell_type": "code",
   "execution_count": 225,
   "id": "5701cf0c",
   "metadata": {},
   "outputs": [],
   "source": [
    "train_labels_int = labels_str_to_int(train_labels)\n",
    "test_labels_int = labels_str_to_int(test_labels)"
   ]
  },
  {
   "cell_type": "code",
   "execution_count": 226,
   "id": "f76f79c4",
   "metadata": {},
   "outputs": [],
   "source": [
    "perf_comp_dt = {'model':[],'max_depth':[],'acc_train':[],'acc_test':[]}\n",
    "\n",
    "\"\"\"\n",
    "Iterating the max_depth through 1 to 8 as required in the problem\n",
    "Later, we can compare the model performance based on various depth levels\n",
    "to see which depth level is best performing for the given dataset\n",
    "and if the model is overfitting as we increase the depth\n",
    "\"\"\"\n",
    "\n",
    "for max_depth in range(1,9):\n",
    "    dec_tree = build_tree(train_features, train_labels_int, max_depth=max_depth)\n",
    "\n",
    "    pred_train = predict_all(dec_tree, train_features)\n",
    "    acc_train = 100*np.mean(pred_train == train_labels_int)\n",
    "    \n",
    "    pred_test = predict_all(dec_tree, test_features)\n",
    "    acc_test = 100*np.mean(pred_test == test_labels_int)\n",
    "    \n",
    "    perf_comp_dt['model'].append(dec_tree)\n",
    "    perf_comp_dt['max_depth'].append(max_depth)\n",
    "    perf_comp_dt['acc_train'].append(acc_train)\n",
    "    perf_comp_dt['acc_test'].append(acc_test)"
   ]
  },
  {
   "cell_type": "code",
   "execution_count": 227,
   "id": "e6d9f624",
   "metadata": {},
   "outputs": [
    {
     "name": "stdout",
     "output_type": "stream",
     "text": [
      "For Max Depth = 1, training accuracy = 72.55, testing accuracy = 55.56\n",
      "For Max Depth = 2, training accuracy = 82.35, testing accuracy = 77.78\n",
      "For Max Depth = 3, training accuracy = 88.24, testing accuracy = 77.78\n",
      "For Max Depth = 4, training accuracy = 88.24, testing accuracy = 77.78\n",
      "For Max Depth = 5, training accuracy = 95.1, testing accuracy = 77.78\n",
      "For Max Depth = 6, training accuracy = 98.04, testing accuracy = 88.89\n",
      "For Max Depth = 7, training accuracy = 100.0, testing accuracy = 94.44\n",
      "For Max Depth = 8, training accuracy = 100.0, testing accuracy = 94.44\n"
     ]
    }
   ],
   "source": [
    "for i in zip(perf_comp_dt['acc_train'], perf_comp_dt['acc_test'], perf_comp_dt['max_depth']):\n",
    "    print(f'For Max Depth = {i[2]}, training accuracy = {round(i[0],2)}, testing accuracy = {round(i[1],2)}')"
   ]
  },
  {
   "cell_type": "markdown",
   "id": "7087d5c9",
   "metadata": {},
   "source": [
    "### ------------ CONCLUSION ------------\n",
    "\n",
    "- As expected, while increasing the max depth, the training as well as testing accuracies increase.\n",
    "- After some time, at max depth level 6, the increase in training accuracy and testing accuracy is relatively slower.\n",
    "- We can also observe that for max depths 2,3,4,5 the testing accuracies are consistent.\n",
    "- This can mean that the features at these depths are not learning meaningful information for testing data.\n",
    "- Finally, the model seems to learn well at max_depth of 6 and 7 and does not appear to be overfitting as the training and testing accuracies are consistent with each other."
   ]
  },
  {
   "cell_type": "code",
   "execution_count": null,
   "id": "3b5b695a",
   "metadata": {},
   "outputs": [],
   "source": []
  },
  {
   "cell_type": "code",
   "execution_count": null,
   "id": "c562dd2d",
   "metadata": {},
   "outputs": [],
   "source": []
  }
 ],
 "metadata": {
  "kernelspec": {
   "display_name": "Python 3 (ipykernel)",
   "language": "python",
   "name": "python3"
  },
  "language_info": {
   "codemirror_mode": {
    "name": "ipython",
    "version": 3
   },
   "file_extension": ".py",
   "mimetype": "text/x-python",
   "name": "python",
   "nbconvert_exporter": "python",
   "pygments_lexer": "ipython3",
   "version": "3.9.12"
  }
 },
 "nbformat": 4,
 "nbformat_minor": 5
}
