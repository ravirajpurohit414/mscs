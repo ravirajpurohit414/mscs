{
 "cells": [
  {
   "cell_type": "code",
   "execution_count": 122,
   "id": "34dd9ef1",
   "metadata": {},
   "outputs": [],
   "source": [
    "import numpy as np\n",
    "import math\n",
    "from sklearn.svm import SVC\n",
    "import matplotlib.pyplot as plt\n",
    "from mpl_toolkits.mplot3d import Axes3D"
   ]
  },
  {
   "cell_type": "markdown",
   "id": "a9d8e701",
   "metadata": {},
   "source": [
    "## ---------------------------- QUESTION 2-A ----------------------------\n",
    "The optimization function for the linear maximum margin optimization problem is given by:\n",
    "\n",
    "Maximize: 2/||w|| subject to yi(w^T xi + b) >= 1, for i = 1,2,...,n.\n",
    "\n",
    "where,\n",
    "\n",
    "w is the weight vector\n",
    "b is the bias term\n",
    "xi is the feature vector of the ith example\n",
    "yi is the label of the ith example (+1 or -1)\n",
    "The constraints require that all examples lie on the correct side of the decision boundary with a margin of at least 1/||w||.\n",
    "\n",
    "In this case, we have two features, so w = [w1, w2] and xi = [x1i, x2i].\n",
    "\n",
    "Now, we can write the optimization function as:\n",
    "\n",
    "Maximize: 2/√(w1^2 + w2^2) subject to yi(w1x1i + w2x2i + b) >= 1, for i = 1,2,...,n.\n",
    "\n",
    "To derive the Lagrangian, we introduce Lagrange multipliers αi for each of the constraints:\n",
    "\n",
    "L(w, b, α) = 2/√(w1^2 + w2^2) - Σ αi [yi (w1 x1i + w2 x2i + b) - 1]\n",
    "\n",
    "To find the dual of the Lagrangian, we need to solve for w and b in terms of the Lagrange multipliers:\n",
    "\n",
    "w = Σ αi yi xi\n",
    "0 = Σ αi yi\n",
    "\n",
    "Substituting these values back into the Lagrangian, we get the Lagrangian Dual:\n",
    "\n",
    "L_Dual(α) = Σ αi - 1/2 Σ Σ αi αj yi yj xi^T xj\n",
    "\n",
    "where, the first summation is over all examples, and the second summation is over all pairs of examples.\n",
    "\n",
    "The constraints on α are: αi >= 0, and Σ αi yi = 0, for i = 1,2,...,n."
   ]
  },
  {
   "cell_type": "code",
   "execution_count": null,
   "id": "54941047",
   "metadata": {},
   "outputs": [],
   "source": []
  },
  {
   "cell_type": "code",
   "execution_count": null,
   "id": "b58f602f",
   "metadata": {},
   "outputs": [],
   "source": []
  },
  {
   "cell_type": "code",
   "execution_count": null,
   "id": "466ef4dc",
   "metadata": {},
   "outputs": [],
   "source": []
  },
  {
   "cell_type": "code",
   "execution_count": null,
   "id": "63279aab",
   "metadata": {},
   "outputs": [],
   "source": []
  },
  {
   "cell_type": "code",
   "execution_count": 109,
   "id": "3053d94e",
   "metadata": {},
   "outputs": [],
   "source": [
    "# import numpy as np\n",
    "# import matplotlib.pyplot as plt\n",
    "\n",
    "# # Define the dataset\n",
    "# X = np.array([[4.08, 0.56], [-3.92, 1.36], [2.52, -1.56], [-1.88, -2.76], [1.6, 5.6], [-3.28, 1.84], [0.64, 2.88], [-4, 4], [4.04, -0.52], [-4.8, 0.8]])\n",
    "# Y = np.array([-1, 1, -1, 1, -1, 1, -1, 1, -1, 1])\n",
    "\n",
    "# # Define the kernel function\n",
    "# def linearKernel(x1, x2):\n",
    "#     return np.dot(x1, x2)\n",
    "\n",
    "# # Define the examineExample function\n",
    "# def examineExample(i2):\n",
    "#     y2 = Y[i2]\n",
    "#     alpha2 = alpha[i2]\n",
    "#     x2 = X[i2]\n",
    "#     E2 = E[i2]\n",
    "#     r2 = E2 * y2\n",
    "\n",
    "#     # Proceed with the heuristics to choose i1\n",
    "#     if ((r2 < -tol and alpha2 < C) or (r2 > tol and alpha2 > 0)):\n",
    "#         if len(alpha[(alpha != 0) & (alpha != C)]) > 1:\n",
    "#             if E2 > 0:\n",
    "#                 i1 = np.argmin(E)\n",
    "#             else:\n",
    "#                 i1 = np.argmax(E)\n",
    "#         else:\n",
    "#             i1 = np.random.randint(0, m)\n",
    "#         return takeStep(i1, i2)\n",
    "\n",
    "#     # If the above heuristics fail, loop over all non-zero and non-C alpha, starting at a random point\n",
    "#     else:\n",
    "#         nonzero_alpha = np.where((alpha != 0) & (alpha != C))[0]\n",
    "#         rand_perm = np.random.permutation(nonzero_alpha)\n",
    "#         for i1 in rand_perm:\n",
    "#             if takeStep(i1, i2):\n",
    "#                 return 1\n",
    "#         # If all non-zero and non-C alpha fail, loop over all possible i1, starting at a random point\n",
    "#         all_perm = np.random.permutation(m)\n",
    "#         for i1 in all_perm:\n",
    "#             if takeStep(i1, i2):\n",
    "#                 return 1\n",
    "#     return 0\n",
    "\n",
    "# # Define the takeStep function\n",
    "# def takeStep(i1, i2):\n",
    "#     if (i1 == i2):\n",
    "#         return False\n",
    " \n",
    "#     alpha1 = alphas[i1]\n",
    "#     label1 = labels[i1]\n",
    "#     x1 = data[i1]\n",
    "#     E1 = getE(i1)\n",
    "#     r1 = E1 * label1\n",
    " \n",
    "#     alpha2 = alphas[i2]\n",
    "#     label2 = labels[i2]\n",
    "#     x2 = data[i2]\n",
    "#     E2 = getE(i2)\n",
    "#     r2 = E2 * label2\n",
    " \n",
    "#     s = label1 * label2\n",
    " \n",
    "#     if (label1 != label2):\n",
    "#         L = max(0, alpha2 - alpha1)\n",
    "#         H = min(C, C + alpha2 - alpha1)\n",
    "#     else:\n",
    "#         L = max(0, alpha1 + alpha2 - C)\n",
    "#         H = min(C, alpha1 + alpha2)\n",
    "#     if (L == H):\n",
    "#         return False\n",
    " \n",
    "#     k11 = kernel(x1, x1)\n",
    "#     k12 = kernel(x1, x2)\n",
    "#     k22 = kernel(x2, x2)\n",
    "#     eta = 2 * k12 - k11 - k22\n",
    " \n",
    "#     if (eta < 0):\n",
    "#         a2 = alpha2 - label2 * (r1 - r2) / eta\n",
    "#         if (a2 < L):\n",
    "#             a2 = L\n",
    "#         elif (a2 > H):\n",
    "#             a2 = H\n",
    "#     else:\n",
    "#         alphaNew = list(alphas)\n",
    "#         alphaNew[i2] = L\n",
    "#         Lobj = objectiveFunction(alphaNew)\n",
    "#         alphaNew[i2] = H\n",
    "#         Hobj = objectiveFunction(alphaNew)\n",
    "#         if (Lobj > Hobj + eps):\n",
    "#             a2 = L\n",
    "#         elif (Lobj < Hobj - eps):\n",
    "#             a2 = H\n",
    "#         else:\n",
    "#             a2 = alpha2\n",
    " \n",
    "#     if (abs(a2 - alpha2) < eps * (a2 + alpha2 + eps)):\n",
    "#         return False\n",
    " \n",
    "#     a1 = alpha1 - s * (a2 - alpha2)\n",
    " \n",
    "#     b1 = E1 + label1 * (a1 - alpha1) * k11 + \\\n",
    "#          label2 * (a2 - alpha2) * k12 + b\n",
    "#     b2 = E2 + label1 * (a1 - alpha1) * k12 + \\\n",
    "#          label2 * (a2 - alpha2) * k22 + b\n",
    " \n",
    "#     if (0 < a1 and a1 < C):\n",
    "#         b = b1\n",
    "#     elif (0 < a2 and a2 < C):\n",
    "#         b = b2\n",
    "#     else:\n",
    "#         b = (b1 + b2) / 2\n",
    " \n",
    "#     alphas[i1] = a1\n",
    "#     alphas[i2] = a2\n",
    " \n",
    "#     return True"
   ]
  },
  {
   "cell_type": "code",
   "execution_count": 115,
   "id": "23e309cf",
   "metadata": {},
   "outputs": [],
   "source": [
    "def read_data(filename='./data_q1.txt'):\n",
    "    \"\"\"\n",
    "    DESCRIPTION\n",
    "    \"\"\"\n",
    "    data = []\n",
    "    labels = []\n",
    "    with open(filename, 'r') as f:\n",
    "        for line in f:\n",
    "            line = line.strip().split(',')\n",
    "            x1, x2, label = float(line[0]), float(line[1]), int(line[2][1:])\n",
    "            data.append([x1, x2])\n",
    "            labels.append(label)\n",
    "    return np.array(data), np.array(labels)"
   ]
  },
  {
   "cell_type": "code",
   "execution_count": 116,
   "id": "3e6fd6db",
   "metadata": {},
   "outputs": [
    {
     "data": {
      "text/plain": [
       "(array([[ 4.08,  0.56],\n",
       "        [-3.92,  1.36],\n",
       "        [ 2.52, -1.56],\n",
       "        [-1.88, -2.76],\n",
       "        [ 1.6 ,  5.6 ],\n",
       "        [-3.28,  1.84],\n",
       "        [ 0.64,  2.88],\n",
       "        [-4.  ,  4.  ],\n",
       "        [ 4.04, -0.52],\n",
       "        [-4.8 ,  0.8 ]]),\n",
       " array([1, 2, 1, 2, 1, 2, 1, 2, 1, 2]))"
      ]
     },
     "execution_count": 116,
     "metadata": {},
     "output_type": "execute_result"
    }
   ],
   "source": [
    "data_q1, labels_q1 = read_data()\n",
    "\n",
    "data_q1, labels_q1"
   ]
  },
  {
   "cell_type": "code",
   "execution_count": 117,
   "id": "e4c6499d",
   "metadata": {},
   "outputs": [],
   "source": [
    "# alphas = np.zeros(len(data_q1))\n",
    "# b = 0\n",
    "# C = 10\n",
    "# tol = 0.01\n",
    "# maxPasses = 10\n",
    "\n",
    "# passes = 0\n",
    "# while passes < maxPasses:\n",
    "#     numChangedAlphas = 0\n",
    "#     for i in range(len(data_q1)):\n",
    "#         if examineExample(i, data_q1, labels_q1, alphas, b, tol):\n",
    "#             numChangedAlphas += 1\n",
    "#     if numChangedAlphas == 0:\n",
    "#         passes += 1\n",
    "#     else:\n",
    "#         passes = 0\n",
    "\n",
    "# w = np.zeros(len(data_q1[0]))\n",
    "# for i in range(len(data_q1)):\n",
    "#     w += alphas[i] * labels_q1[i] * data_q1[i]\n",
    "    \n",
    "# print('w:', w)\n",
    "# print('b:', b)\n",
    "\n",
    "# # plot data_q1 points and decision boundary\n",
    "# plt.scatter(data_q1[:, 0], data_q1[:, 1], c=labels_q1, cmap=plt.cm.Paired)\n",
    "# x1_min, x1_max = data_q1[:, 0].min() - 1, data_q1[:, 0].max() + 1\n",
    "# x2_min, x2_max = data_q1[:, 1].min() - 1, data_q1[:, 1].max() + 1\n",
    "# xx, yy = np.meshgrid(np.arange(x1_min, x1_max, 0.1), np.arange(x2_min, x2_max, 0.1))\n",
    "# Z = np.dot(np.c_[xx.ravel(), yy.ravel()], w) + b\n",
    "# Z = np.sign(Z)\n",
    "# Z = Z.reshape(xx.shape)\n",
    "# plt.contourf(xx, yy, Z, alpha=0.1)\n",
    "# plt.show()"
   ]
  },
  {
   "cell_type": "code",
   "execution_count": 120,
   "id": "b6eb1516",
   "metadata": {},
   "outputs": [],
   "source": [
    "def predict(x, alpha, b, kernel, gamma):\n",
    "    \"\"\"\n",
    "    Computes the predicted class for input data point x.\n",
    "    \"\"\"\n",
    "    pred = 0\n",
    "    for i in range(len(alpha)):\n",
    "        pred += alpha[i] * kernel(data_q1[i], x, gamma)\n",
    "    pred += b\n",
    "    return np.sign(pred)"
   ]
  },
  {
   "cell_type": "code",
   "execution_count": 123,
   "id": "b6343584",
   "metadata": {},
   "outputs": [
    {
     "ename": "IndexError",
     "evalue": "index 2 is out of bounds for axis 0 with size 2",
     "output_type": "error",
     "traceback": [
      "\u001b[0;31m---------------------------------------------------------------------------\u001b[0m",
      "\u001b[0;31mIndexError\u001b[0m                                Traceback (most recent call last)",
      "Input \u001b[0;32mIn [123]\u001b[0m, in \u001b[0;36m<cell line: 20>\u001b[0;34m()\u001b[0m\n\u001b[1;32m     19\u001b[0m alpha2 \u001b[38;5;241m=\u001b[39m \u001b[38;5;241m0\u001b[39m\n\u001b[1;32m     20\u001b[0m \u001b[38;5;28;01mfor\u001b[39;00m i \u001b[38;5;129;01min\u001b[39;00m \u001b[38;5;28mrange\u001b[39m(\u001b[38;5;28mlen\u001b[39m(alpha)):\n\u001b[0;32m---> 21\u001b[0m     diff \u001b[38;5;241m=\u001b[39m \u001b[38;5;28mabs\u001b[39m(predict(data_q1[i], alpha, b, kernel, gamma) \u001b[38;5;241m-\u001b[39m \u001b[43mdata_q1\u001b[49m\u001b[43m[\u001b[49m\u001b[43mi\u001b[49m\u001b[43m]\u001b[49m\u001b[43m[\u001b[49m\u001b[38;5;241;43m2\u001b[39;49m\u001b[43m]\u001b[49m)\n\u001b[1;32m     22\u001b[0m     \u001b[38;5;28;01mif\u001b[39;00m diff \u001b[38;5;241m>\u001b[39m max_diff:\n\u001b[1;32m     23\u001b[0m         max_diff \u001b[38;5;241m=\u001b[39m diff\n",
      "\u001b[0;31mIndexError\u001b[0m: index 2 is out of bounds for axis 0 with size 2"
     ]
    }
   ],
   "source": [
    "alpha = [0.0] * len(data_q1)\n",
    "b = 0.0\n",
    "kernel = lambda x1, x2, gamma: math.exp(-gamma * (math.pow(x1[0]-x2[0],2) + math.pow(x1[1]-x2[1],2)))\n",
    "\n",
    "## iteration 1\n",
    "gamma = 1.0\n",
    "eps = 0.0001\n",
    "C = 1.0\n",
    "\n",
    "# Select alpha1\n",
    "alpha1 = 0\n",
    "for i in range(len(alpha)):\n",
    "    if alpha[i] < C:\n",
    "        alpha1 = i\n",
    "        break\n",
    "\n",
    "# Select alpha2\n",
    "max_diff = 0\n",
    "alpha2 = 0\n",
    "for i in range(len(alpha)):\n",
    "    diff = abs(predict(data_q1[i], alpha, b, kernel, gamma) - data_q1[i][2])\n",
    "    if diff > max_diff:\n",
    "        max_diff = diff\n",
    "        alpha2 = i\n",
    "\n",
    "# Compute unclipped alpha values\n",
    "E1 = predict(data_q1[alpha1], alpha, b, kernel, gamma) - data_q1[alpha1][2]\n",
    "E2 = predict(data_q1[alpha2], alpha, b, kernel, gamma) - data_q1[alpha2][2]\n",
    "eta = kernel(data_q1[alpha1], data_q1[alpha1], gamma) + kernel(data_q1[alpha2], data_q1[alpha2], gamma) - 2 * kernel(data_q1[alpha1], data_q1[alpha2], gamma)\n",
    "alpha2_unc = alpha[alpha2] + float(data_q1[alpha2][2] * (E1 - E2)) / eta\n",
    "alpha1_unc = alpha[alpha1] + data_q1[alpha1][2] * data_q1[alpha2][2] * (alpha2_unc - alpha[alpha2])\n",
    "\n",
    "# Clip alpha values\n",
    "if alpha2_unc > C:\n",
    "    alpha2_clip = C\n",
    "elif alpha2_unc < 0:\n",
    "    alpha2_clip = 0\n",
    "else:\n",
    "    alpha2_clip = alpha2_unc\n",
    "\n",
    "if alpha1_unc > C:\n",
    "    alpha1_clip = C\n",
    "elif alpha1_unc < 0:\n",
    "    alpha1_clip = 0\n",
    "else:\n",
    "    alpha1_clip = alpha1_unc\n",
    "\n",
    "# Update alpha and b\n",
    "alpha[alpha1] = alpha1_clip\n",
    "alpha[alpha2] = alpha2_clip\n",
    "\n",
    "b = compute_b(data_q1, alpha, b, kernel, gamma, eps)\n",
    "\n",
    "# Plot data_q1 and decision boundary\n",
    "plot_data_q1(data_q1)\n",
    "plot_decision_boundary(data_q1, alpha, b, kernel, gamma)\n"
   ]
  },
  {
   "cell_type": "code",
   "execution_count": null,
   "id": "63751c44",
   "metadata": {},
   "outputs": [],
   "source": []
  },
  {
   "cell_type": "code",
   "execution_count": null,
   "id": "abdc140c",
   "metadata": {},
   "outputs": [],
   "source": []
  },
  {
   "cell_type": "code",
   "execution_count": null,
   "id": "a3620a93",
   "metadata": {},
   "outputs": [],
   "source": []
  },
  {
   "cell_type": "code",
   "execution_count": null,
   "id": "3ca28376",
   "metadata": {},
   "outputs": [],
   "source": []
  },
  {
   "cell_type": "code",
   "execution_count": null,
   "id": "c3a4681b",
   "metadata": {},
   "outputs": [],
   "source": []
  },
  {
   "cell_type": "code",
   "execution_count": null,
   "id": "f128a2cf",
   "metadata": {},
   "outputs": [],
   "source": []
  },
  {
   "cell_type": "code",
   "execution_count": null,
   "id": "95784303",
   "metadata": {},
   "outputs": [],
   "source": []
  },
  {
   "cell_type": "code",
   "execution_count": null,
   "id": "69971d14",
   "metadata": {},
   "outputs": [],
   "source": []
  },
  {
   "cell_type": "code",
   "execution_count": null,
   "id": "efa4ec9f",
   "metadata": {},
   "outputs": [],
   "source": []
  },
  {
   "cell_type": "markdown",
   "id": "aff64727",
   "metadata": {},
   "source": [
    "## ---------------------------- QUESTION 2 ----------------------------"
   ]
  },
  {
   "cell_type": "code",
   "execution_count": 126,
   "id": "22747215",
   "metadata": {},
   "outputs": [],
   "source": [
    "## load the larger dataset from homework 1\n",
    "with open('data_old.txt') as f:\n",
    "    data_old = f.readlines()\n",
    "    f.close()"
   ]
  },
  {
   "cell_type": "code",
   "execution_count": 127,
   "id": "9f62e20b",
   "metadata": {},
   "outputs": [],
   "source": [
    "def format_data(data_old):\n",
    "    \"\"\"\n",
    "    format the dataset into numpy arrays of features and labels\n",
    "    \n",
    "    Parameters\n",
    "    ----------\n",
    "    data_old - list of strings\n",
    "    \n",
    "    Returns\n",
    "    -------\n",
    "    feat_array - numpy array of features\n",
    "    label_array - numpy array of labels\n",
    "    \"\"\"\n",
    "    feat_array = []\n",
    "    label_array = []\n",
    "    \n",
    "    for row in data_old:\n",
    "        ## Splitting the string using comma separator and removing the newline character\n",
    "        data_list = row.replace(',\\n','').strip().split(\",\")\n",
    "\n",
    "        ## Converting the first 4 elements to a numpy array of floats\n",
    "        feat_array.append([float(i) for i in data_list[:4]])\n",
    "\n",
    "        ## Converting the 5th element to a numpy array of strings\n",
    "        label_array.append(data_list[4].replace(\"'\", \"\"))\n",
    "        \n",
    "    return np.array(feat_array), np.array(label_array)"
   ]
  },
  {
   "cell_type": "code",
   "execution_count": 128,
   "id": "9769f2b3",
   "metadata": {},
   "outputs": [],
   "source": [
    "features, labels = format_data(data_old)"
   ]
  },
  {
   "cell_type": "code",
   "execution_count": 129,
   "id": "a2f8c55e",
   "metadata": {},
   "outputs": [],
   "source": [
    "def train_test_split(features, labels):\n",
    "    \"\"\"\n",
    "    split the dataset into train-test as specified in the problem statement\n",
    "    considering the first 6 values of each material type to make the testing dataset\n",
    "    rest of the data is training dataset\n",
    "    \n",
    "    Parameters\n",
    "    ----------\n",
    "    features - numpy array of floats\n",
    "    labels - numpy array of strings\n",
    "    \n",
    "    Returns\n",
    "    -------\n",
    "    train_features - numpy array of floats\n",
    "    test_features - numpy array of floats\n",
    "    train_labels - numpy array of strings\n",
    "    test_labels - numpy array of strings\n",
    "    \n",
    "    \"\"\"\n",
    "    # Get unique labels\n",
    "    unique_labels = np.unique(labels)\n",
    "\n",
    "    # Initialize train and test data\n",
    "    train_features, test_features, train_labels, test_labels = [], [], [], []\n",
    "\n",
    "    # Loop through each label\n",
    "    for label in unique_labels:\n",
    "        # Get indices of occurrences of the label in the labels array\n",
    "        label_indices = np.where(labels == label)[0]\n",
    "        # Pick the first 6 occurrences for test and the rest for train\n",
    "        test_indices = label_indices[:6]\n",
    "        train_indices = label_indices[6:]\n",
    "        # Append the corresponding features and labels to the train and test sets\n",
    "        test_features.append(features[test_indices])\n",
    "        test_labels.append(labels[test_indices])\n",
    "        train_features.append(features[train_indices])\n",
    "        train_labels.append(labels[train_indices])\n",
    "        \n",
    "    # Concatenate the train and test sets\n",
    "    train_features = np.concatenate(train_features, axis=0)\n",
    "    train_labels = np.concatenate(train_labels, axis=0)\n",
    "    test_features = np.concatenate(test_features, axis=0)\n",
    "    test_labels = np.concatenate(test_labels, axis=0)\n",
    "        \n",
    "    return train_features, test_features, train_labels, test_labels"
   ]
  },
  {
   "cell_type": "code",
   "execution_count": 130,
   "id": "597bf482",
   "metadata": {},
   "outputs": [],
   "source": [
    "train_features, test_features, train_labels, test_labels = train_test_split(features, labels)"
   ]
  },
  {
   "cell_type": "code",
   "execution_count": 131,
   "id": "6dc09235",
   "metadata": {},
   "outputs": [],
   "source": [
    "def model_svm_iters(train_features, \n",
    "                    test_features, \n",
    "                    train_labels, \n",
    "                    test_labels, \n",
    "                    c_list = [1,10,100,200],\n",
    "                    kernal = 'linear',\n",
    "                    gamma = 'scale',\n",
    "                    perf_comp = {'model':[],'c':[],'acc_train':[],'acc_test':[]}\n",
    "                    ):\n",
    "    \"\"\"\n",
    "    Parameters\n",
    "    ----------\n",
    "    train_features - numpy array of floats\n",
    "    test_features - numpy array of floats\n",
    "    train_labels - numpy array of strings\n",
    "    test_labels - numpy array of strings\n",
    "    c_list - list of integers\n",
    "    kernal - 'linear' or 'rbf' or 'poly'\n",
    "    perf_comp - dictionary to solve the model, configuration, training and testing accuracies for comparison\n",
    "    \n",
    "    Returns\n",
    "    -------\n",
    "    perf_comp - dictionary with saved model, configuration, training and testing accuracies to compare later\n",
    "    \n",
    "    \"\"\"\n",
    "    # Train the SVM model with a non-zero regularization weight C\n",
    "    for c in c_list:\n",
    "        if kernal == 'rbf':\n",
    "            # train the SVM model with Gaussian Kernels\n",
    "            clf = SVC(kernel='rbf', C=c, gamma='scale')\n",
    "        else:\n",
    "            clf = SVC(kernel='linear', C=c)\n",
    "            \n",
    "        clf.fit(train_features, train_labels)\n",
    "        \n",
    "        # Test the model on the testing set and calculate the classification accuracy\n",
    "        y_pred_train = clf.predict(train_features)\n",
    "        y_pred_test = clf.predict(test_features)\n",
    "\n",
    "        accuracy_train = 100*(np.mean(train_labels == y_pred_train))\n",
    "        accuracy_test = 100*(np.mean(test_labels == y_pred_test))\n",
    "        \n",
    "        print('For C = {} -----'.format(c))\n",
    "        print('Training Accuracy: {}%'.format(round(accuracy_train,2)))\n",
    "        print('Testing Accuracy: {}%\\n'.format(round(accuracy_test,2)))\n",
    "        \n",
    "        perf_comp['model'].append(clf)\n",
    "        perf_comp['c'].append(c)\n",
    "        perf_comp['acc_train'].append(accuracy_train)\n",
    "        perf_comp['acc_test'].append(accuracy_test)\n",
    "    \n",
    "    return perf_comp"
   ]
  },
  {
   "cell_type": "markdown",
   "id": "1708e4eb",
   "metadata": {},
   "source": [
    "## ------------------------------------ QUESTION 2-A ------------------------------------"
   ]
  },
  {
   "cell_type": "markdown",
   "id": "76bb5fe9",
   "metadata": {},
   "source": [
    "Following are the steps:\n",
    "\n",
    "- Load the dataset and split it into training and testing sets (DONE ALREADY).\n",
    "- Train the SVM model on the training set.\n",
    "- Test the model on the testing set and calculate the classification accuracy.\n",
    "- Visualize the decision boundary and the support vectors."
   ]
  },
  {
   "cell_type": "code",
   "execution_count": 132,
   "id": "8f3095fb",
   "metadata": {},
   "outputs": [],
   "source": [
    "## data edit for this question\n",
    "train_labels_edit = [i if i=='Plastic' else 'Other' for i in train_labels]\n",
    "test_labels_edit = [i if i=='Plastic' else 'Other' for i in test_labels]"
   ]
  },
  {
   "cell_type": "code",
   "execution_count": 133,
   "id": "a8a2669d",
   "metadata": {},
   "outputs": [
    {
     "name": "stdout",
     "output_type": "stream",
     "text": [
      "For C = 1 -----\n",
      "Training Accuracy: 69.61%\n",
      "Testing Accuracy: 61.11%\n",
      "\n",
      "For C = 5 -----\n",
      "Training Accuracy: 85.29%\n",
      "Testing Accuracy: 72.22%\n",
      "\n",
      "For C = 10 -----\n",
      "Training Accuracy: 97.06%\n",
      "Testing Accuracy: 100.0%\n",
      "\n",
      "For C = 50 -----\n",
      "Training Accuracy: 100.0%\n",
      "Testing Accuracy: 100.0%\n",
      "\n",
      "For C = 100 -----\n",
      "Training Accuracy: 100.0%\n",
      "Testing Accuracy: 100.0%\n",
      "\n"
     ]
    }
   ],
   "source": [
    "perf_comp = {'model':[],'c':[],'acc_train':[],'acc_test':[]}\n",
    "\n",
    "perf_comp = model_svm_iters(train_features, \n",
    "                            test_features, \n",
    "                            train_labels_edit, \n",
    "                            test_labels_edit, \n",
    "                            c_list=[1,5,10,50,100], \n",
    "                            kernal='linear',\n",
    "                            gamma=None,\n",
    "                            perf_comp=perf_comp)"
   ]
  },
  {
   "cell_type": "markdown",
   "id": "5b728712",
   "metadata": {},
   "source": [
    "### OBSERVATION - \n",
    "- As we can see, while increasing the regularization weight value of C we see an increase in the model accuracy.\n",
    "\n",
    "- I have experimented by varying the C value to __1, 5, 10, 50, and 100.__\n",
    "\n",
    "- After a little while, the accuracy stops increasing with increasing value of C.\n",
    "- In this example - the __saturation point is at C = 10.__\n",
    "- We can clearly see that for C = 50, 100; the model performance is not affected.\n",
    "\n",
    "- Also, the model does not appear to be overfitting as the training and testing accuracies are consistent."
   ]
  },
  {
   "cell_type": "code",
   "execution_count": 348,
   "id": "55e7948b",
   "metadata": {},
   "outputs": [],
   "source": [
    "labels_all = np.concatenate([train_labels_edit, test_labels_edit])\n",
    "features_all = np.concatenate([train_features, test_features])"
   ]
  },
  {
   "cell_type": "code",
   "execution_count": 137,
   "id": "917390e9",
   "metadata": {},
   "outputs": [
    {
     "data": {
      "text/plain": [
       "([69.6078431372549, 85.29411764705883, 97.05882352941177, 100.0, 100.0],\n",
       " [61.111111111111114, 72.22222222222221, 100.0, 100.0, 100.0])"
      ]
     },
     "execution_count": 137,
     "metadata": {},
     "output_type": "execute_result"
    }
   ],
   "source": [
    "perf_comp['acc_train'], perf_comp['acc_test']"
   ]
  },
  {
   "cell_type": "code",
   "execution_count": 138,
   "id": "834d2c63",
   "metadata": {},
   "outputs": [],
   "source": [
    "## choose the best model\n",
    "clf = perf_comp['model'][2]"
   ]
  },
  {
   "cell_type": "code",
   "execution_count": 170,
   "id": "a569dd41",
   "metadata": {},
   "outputs": [],
   "source": [
    "is_plastic = np.array(train_labels_edit).ravel()=='Plastic'\n",
    "is_other = np.array(train_labels_edit).ravel()=='Other'"
   ]
  },
  {
   "cell_type": "code",
   "execution_count": 171,
   "id": "7c940809",
   "metadata": {},
   "outputs": [
    {
     "data": {
      "image/png": "[encoded data removed]",
      "text/plain": [
       "<Figure size 1080x432 with 3 Axes>"
      ]
     },
     "metadata": {
      "needs_background": "light"
     },
     "output_type": "display_data"
    }
   ],
   "source": [
    "# Plotting 2D projections of data and decision boundary\n",
    "plt.figure(figsize=(15,6))\n",
    "plt.suptitle(\"Linear SVM decision boundary\")\n",
    "\n",
    "plt.subplot(131)\n",
    "plt.title('Height vs Diameter')\n",
    "\n",
    "w = clf.coef_[0]\n",
    "a = -w[0]/w[1]\n",
    "xx = np.array([train_features[:,0].min(),train_features[:,0].max()])\n",
    "yy = a*xx - (clf.intercept_[0])/w[1]\n",
    "plt.plot(xx,yy,\"b-\")\n",
    "# Plot data points\n",
    "plt.plot(train_features[:,0][is_plastic], train_features[:,1][is_plastic], \"go\",label=\"positive(plastic)\")\n",
    "plt.plot(train_features[:,0][_negative_index], train_features[:,1][_negative_index], \"ro\",label=\"negative(not plastic)\")\n",
    "\n",
    "\n",
    "plt.subplot(132)\n",
    "plt.title('Height vs Weight')\n",
    "\n",
    "w = clf.coef_[0]\n",
    "a = -w[0]/w[2]\n",
    "xx = np.array([train_features[:,0].min(),train_features[:,0].max()])\n",
    "yy = a*xx - (clf.intercept_[0])/w[2]\n",
    "plt.plot(xx,yy,\"b-\")\n",
    "\n",
    "# Plot data points\n",
    "plt.plot(train_features[:,0][is_plastic], train_features[:,2][is_plastic], \"go\",label=\"positive(plastic)\")\n",
    "plt.plot(train_features[:,0][_negative_index], train_features[:,2][_negative_index], \"ro\",label=\"negative(not plastic)\")\n",
    "\n",
    "\n",
    "plt.subplot(133)\n",
    "plt.title('Diameter vs Weight')\n",
    "\n",
    "w = clf.coef_[0]\n",
    "a = -w[1]/w[2]\n",
    "xx = np.array([train_features[:,1].min(),train_features[:,1].max()])\n",
    "yy = a*xx - (clf.intercept_[0])/w[2]\n",
    "plt.plot(xx,yy,\"b-\")\n",
    "\n",
    "# Plot data points\n",
    "plt.plot(train_features[:,1][is_plastic], train_features[:,2][is_plastic], \"go\",label=\"positive(plastic)\")\n",
    "plt.plot(train_features[:,1][_negative_index], train_features[:,2][_negative_index], \"ro\",label=\"negative(not plastic)\")\n",
    "\n",
    "# # plt.savefig(\"./Results/linear_clf_with_c_\"+str(C)+\".jpeg\")\n",
    "plt.show()"
   ]
  },
  {
   "cell_type": "code",
   "execution_count": null,
   "id": "f7f1355f",
   "metadata": {},
   "outputs": [],
   "source": []
  },
  {
   "cell_type": "code",
   "execution_count": null,
   "id": "42c4eb5b",
   "metadata": {},
   "outputs": [],
   "source": []
  },
  {
   "cell_type": "markdown",
   "id": "5b6b179b",
   "metadata": {},
   "source": [
    "## ------------------------------------ QUESTION 2-B ------------------------------------"
   ]
  },
  {
   "cell_type": "code",
   "execution_count": 173,
   "id": "474053d2",
   "metadata": {},
   "outputs": [
    {
     "name": "stdout",
     "output_type": "stream",
     "text": [
      "For C = 1 -----\n",
      "Training Accuracy: 54.9%\n",
      "Testing Accuracy: 66.67%\n",
      "\n",
      "For C = 5 -----\n",
      "Training Accuracy: 69.61%\n",
      "Testing Accuracy: 50.0%\n",
      "\n",
      "For C = 10 -----\n",
      "Training Accuracy: 70.59%\n",
      "Testing Accuracy: 61.11%\n",
      "\n",
      "For C = 20 -----\n",
      "Training Accuracy: 87.25%\n",
      "Testing Accuracy: 66.67%\n",
      "\n",
      "For C = 50 -----\n",
      "Training Accuracy: 96.08%\n",
      "Testing Accuracy: 100.0%\n",
      "\n",
      "For C = 100 -----\n",
      "Training Accuracy: 96.08%\n",
      "Testing Accuracy: 100.0%\n",
      "\n"
     ]
    }
   ],
   "source": [
    "perf_comp = {'model':[],'c':[],'acc_train':[],'acc_test':[]}\n",
    "\n",
    "perf_comp = model_svm_iters(train_features, \n",
    "                            test_features, \n",
    "                            train_labels_edit, \n",
    "                            test_labels_edit, \n",
    "                            c_list=[1,5,10,20,50,100], \n",
    "                            kernal='rbf',\n",
    "                            gamma='scale',\n",
    "                            perf_comp=perf_comp)"
   ]
  },
  {
   "cell_type": "code",
   "execution_count": 175,
   "id": "c20144e5",
   "metadata": {},
   "outputs": [
    {
     "data": {
      "text/plain": [
       "([54.90196078431373,\n",
       "  69.6078431372549,\n",
       "  70.58823529411765,\n",
       "  87.25490196078431,\n",
       "  96.07843137254902,\n",
       "  96.07843137254902],\n",
       " [66.66666666666666,\n",
       "  50.0,\n",
       "  61.111111111111114,\n",
       "  66.66666666666666,\n",
       "  100.0,\n",
       "  100.0])"
      ]
     },
     "execution_count": 175,
     "metadata": {},
     "output_type": "execute_result"
    }
   ],
   "source": [
    "perf_comp['acc_train'], perf_comp['acc_test']"
   ]
  },
  {
   "cell_type": "code",
   "execution_count": 176,
   "id": "42755fd0",
   "metadata": {},
   "outputs": [],
   "source": [
    "## choose the best model\n",
    "clf = perf_comp['model'][4]"
   ]
  },
  {
   "cell_type": "code",
   "execution_count": 177,
   "id": "5c5583ef",
   "metadata": {},
   "outputs": [
    {
     "ename": "AttributeError",
     "evalue": "coef_ is only available when using a linear kernel",
     "output_type": "error",
     "traceback": [
      "\u001b[0;31m---------------------------------------------------------------------------\u001b[0m",
      "\u001b[0;31mAttributeError\u001b[0m                            Traceback (most recent call last)",
      "Input \u001b[0;32mIn [177]\u001b[0m, in \u001b[0;36m<cell line: 8>\u001b[0;34m()\u001b[0m\n\u001b[1;32m      5\u001b[0m plt\u001b[38;5;241m.\u001b[39msubplot(\u001b[38;5;241m131\u001b[39m)\n\u001b[1;32m      6\u001b[0m plt\u001b[38;5;241m.\u001b[39mtitle(\u001b[38;5;124m'\u001b[39m\u001b[38;5;124mHeight vs Diameter\u001b[39m\u001b[38;5;124m'\u001b[39m)\n\u001b[0;32m----> 8\u001b[0m w \u001b[38;5;241m=\u001b[39m \u001b[43mclf\u001b[49m\u001b[38;5;241;43m.\u001b[39;49m\u001b[43mcoef_\u001b[49m[\u001b[38;5;241m0\u001b[39m]\n\u001b[1;32m      9\u001b[0m a \u001b[38;5;241m=\u001b[39m \u001b[38;5;241m-\u001b[39mw[\u001b[38;5;241m0\u001b[39m]\u001b[38;5;241m/\u001b[39mw[\u001b[38;5;241m1\u001b[39m]\n\u001b[1;32m     10\u001b[0m xx \u001b[38;5;241m=\u001b[39m np\u001b[38;5;241m.\u001b[39marray([train_features[:,\u001b[38;5;241m0\u001b[39m]\u001b[38;5;241m.\u001b[39mmin(),train_features[:,\u001b[38;5;241m0\u001b[39m]\u001b[38;5;241m.\u001b[39mmax()])\n",
      "File \u001b[0;32m~/opt/anaconda3/lib/python3.9/site-packages/sklearn/svm/_base.py:637\u001b[0m, in \u001b[0;36mBaseLibSVM.coef_\u001b[0;34m(self)\u001b[0m\n\u001b[1;32m    630\u001b[0m \u001b[38;5;124;03m\"\"\"Weights assigned to the features when `kernel=\"linear\"`.\u001b[39;00m\n\u001b[1;32m    631\u001b[0m \n\u001b[1;32m    632\u001b[0m \u001b[38;5;124;03mReturns\u001b[39;00m\n\u001b[1;32m    633\u001b[0m \u001b[38;5;124;03m-------\u001b[39;00m\n\u001b[1;32m    634\u001b[0m \u001b[38;5;124;03mndarray of shape (n_features, n_classes)\u001b[39;00m\n\u001b[1;32m    635\u001b[0m \u001b[38;5;124;03m\"\"\"\u001b[39;00m\n\u001b[1;32m    636\u001b[0m \u001b[38;5;28;01mif\u001b[39;00m \u001b[38;5;28mself\u001b[39m\u001b[38;5;241m.\u001b[39mkernel \u001b[38;5;241m!=\u001b[39m \u001b[38;5;124m\"\u001b[39m\u001b[38;5;124mlinear\u001b[39m\u001b[38;5;124m\"\u001b[39m:\n\u001b[0;32m--> 637\u001b[0m     \u001b[38;5;28;01mraise\u001b[39;00m \u001b[38;5;167;01mAttributeError\u001b[39;00m(\u001b[38;5;124m\"\u001b[39m\u001b[38;5;124mcoef_ is only available when using a linear kernel\u001b[39m\u001b[38;5;124m\"\u001b[39m)\n\u001b[1;32m    639\u001b[0m coef \u001b[38;5;241m=\u001b[39m \u001b[38;5;28mself\u001b[39m\u001b[38;5;241m.\u001b[39m_get_coef()\n\u001b[1;32m    641\u001b[0m \u001b[38;5;66;03m# coef_ being a read-only property, it's better to mark the value as\u001b[39;00m\n\u001b[1;32m    642\u001b[0m \u001b[38;5;66;03m# immutable to avoid hiding potential bugs for the unsuspecting user.\u001b[39;00m\n",
      "\u001b[0;31mAttributeError\u001b[0m: coef_ is only available when using a linear kernel"
     ]
    },
    {
     "data": {
      "image/png": "[encoded data removed]",
      "text/plain": [
       "<Figure size 1080x432 with 1 Axes>"
      ]
     },
     "metadata": {
      "needs_background": "light"
     },
     "output_type": "display_data"
    }
   ],
   "source": [
    "# Plotting 2D projections of data and decision boundary\n",
    "plt.figure(figsize=(15,6))\n",
    "plt.suptitle(\"Linear SVM decision boundary\")\n",
    "\n",
    "plt.subplot(131)\n",
    "plt.title('Height vs Diameter')\n",
    "\n",
    "w = clf.coef_[0]\n",
    "a = -w[0]/w[1]\n",
    "xx = np.array([train_features[:,0].min(),train_features[:,0].max()])\n",
    "yy = a*xx - (clf.intercept_[0])/w[1]\n",
    "plt.plot(xx,yy,\"b-\")\n",
    "# Plot data points\n",
    "plt.plot(train_features[:,0][is_plastic], train_features[:,1][is_plastic], \"go\",label=\"positive(plastic)\")\n",
    "plt.plot(train_features[:,0][_negative_index], train_features[:,1][_negative_index], \"ro\",label=\"negative(not plastic)\")\n",
    "\n",
    "\n",
    "plt.subplot(132)\n",
    "plt.title('Height vs Weight')\n",
    "\n",
    "w = clf.coef_[0]\n",
    "a = -w[0]/w[2]\n",
    "xx = np.array([train_features[:,0].min(),train_features[:,0].max()])\n",
    "yy = a*xx - (clf.intercept_[0])/w[2]\n",
    "plt.plot(xx,yy,\"b-\")\n",
    "\n",
    "# Plot data points\n",
    "plt.plot(train_features[:,0][is_plastic], train_features[:,2][is_plastic], \"go\",label=\"positive(plastic)\")\n",
    "plt.plot(train_features[:,0][_negative_index], train_features[:,2][_negative_index], \"ro\",label=\"negative(not plastic)\")\n",
    "\n",
    "\n",
    "plt.subplot(133)\n",
    "plt.title('Diameter vs Weight')\n",
    "\n",
    "w = clf.coef_[0]\n",
    "a = -w[1]/w[2]\n",
    "xx = np.array([train_features[:,1].min(),train_features[:,1].max()])\n",
    "yy = a*xx - (clf.intercept_[0])/w[2]\n",
    "plt.plot(xx,yy,\"b-\")\n",
    "\n",
    "# Plot data points\n",
    "plt.plot(train_features[:,1][is_plastic], train_features[:,2][is_plastic], \"go\",label=\"positive(plastic)\")\n",
    "plt.plot(train_features[:,1][_negative_index], train_features[:,2][_negative_index], \"ro\",label=\"negative(not plastic)\")\n",
    "\n",
    "# # plt.savefig(\"./Results/linear_clf_with_c_\"+str(C)+\".jpeg\")\n",
    "plt.show()"
   ]
  },
  {
   "cell_type": "markdown",
   "id": "36975601",
   "metadata": {},
   "source": [
    "### OBSERVATION - \n",
    "- As expected and observed earleir, while increasing the regularization weight value of C we see an increase in the model accuracy.\n",
    "\n",
    "- I have experimented by varying the C value to __1, 5, 10, 20, 50, and 100.__\n",
    "\n",
    "- After a little while, the accuracy stops increasing with increasing value of C.\n",
    "- In this example - the __saturation point is at C = 50.__\n",
    "- We can clearly see that for C = 100; the model performance is not affected.\n",
    "\n",
    "- Also, the model does not appear to be overfitting as the training and testing accuracies are consistent."
   ]
  },
  {
   "cell_type": "code",
   "execution_count": null,
   "id": "fa8831a5",
   "metadata": {},
   "outputs": [],
   "source": []
  },
  {
   "cell_type": "markdown",
   "id": "292bde6a",
   "metadata": {},
   "source": [
    "## ------------------------------------ QUESTION 3-B ------------------------------------"
   ]
  },
  {
   "cell_type": "code",
   "execution_count": 69,
   "id": "625a4da5",
   "metadata": {},
   "outputs": [],
   "source": [
    "import numpy as np\n",
    "\n",
    "def entropy(y):\n",
    "    \"\"\"\n",
    "    Calculates the entropy of a label array.\n",
    "    \"\"\"\n",
    "    _, counts = np.unique(y, return_counts=True)\n",
    "    probabilities = counts / len(y)\n",
    "    return -np.sum(probabilities * np.log2(probabilities))\n",
    "\n",
    "def information_gain(X, y, feature_index, threshold):\n",
    "    \"\"\"\n",
    "    Calculates the information gain of a split on a given feature and threshold.\n",
    "    \"\"\"\n",
    "    left_mask = X[:, feature_index] <= threshold\n",
    "    right_mask = X[:, feature_index] > threshold\n",
    "    left_y, right_y = y[left_mask], y[right_mask]\n",
    "    left_entropy, right_entropy = entropy(left_y), entropy(right_y)\n",
    "    left_size, right_size = len(left_y), len(right_y)\n",
    "    total_entropy = (left_size / len(y)) * left_entropy + (right_size / len(y)) * right_entropy\n",
    "    return entropy(y) - total_entropy\n",
    "\n",
    "def find_best_split(X, y):\n",
    "    \"\"\"\n",
    "    Finds the best feature and threshold to split the data.\n",
    "    \"\"\"\n",
    "    best_feature_index, best_threshold, best_info_gain = None, None, -1\n",
    "    for feature_index in range(X.shape[1]):\n",
    "        unique_values = np.unique(X[:, feature_index])\n",
    "        thresholds = (unique_values[:-1] + unique_values[1:]) / 2\n",
    "        for threshold in thresholds:\n",
    "            info_gain = information_gain(X, y, feature_index, threshold)\n",
    "            if info_gain > best_info_gain:\n",
    "                best_feature_index, best_threshold, best_info_gain = feature_index, threshold, info_gain\n",
    "    return best_feature_index, best_threshold\n",
    "\n",
    "def build_tree(X, y, depth=0, max_depth=None):\n",
    "    \"\"\"\n",
    "    Builds a decision tree recursively.\n",
    "    \"\"\"\n",
    "    if depth == max_depth or len(np.unique(y)) == 1:\n",
    "        return np.bincount(y).argmax()\n",
    "    feature_index, threshold = find_best_split(X, y)\n",
    "    left_mask = X[:, feature_index] <= threshold\n",
    "    right_mask = X[:, feature_index] > threshold\n",
    "    left_subtree = build_tree(X[left_mask], y[left_mask], depth+1, max_depth)\n",
    "    right_subtree = build_tree(X[right_mask], y[right_mask], depth+1, max_depth)\n",
    "    return (feature_index, threshold, left_subtree, right_subtree)\n",
    "    \n",
    "def predict(tree, example):\n",
    "    \"\"\"Predicts the labels of an array of single data point using a decision tree.\"\"\"\n",
    "    if type(tree) == tuple:\n",
    "        attribute, threshold, left_subtree, right_subtree = tree\n",
    "        if example[attribute] <= threshold:\n",
    "            return predict(left_subtree, example)\n",
    "        else:\n",
    "            return predict(right_subtree, example)\n",
    "    else:\n",
    "        return tree\n",
    "\n",
    "def predict_all(tree, X):\n",
    "    \"\"\"Predicts the labels of an array of data points using a decision tree.\"\"\"\n",
    "    y_pred = []\n",
    "    for example in X:\n",
    "        y_pred.append(predict(tree, example))\n",
    "    return y_pred"
   ]
  },
  {
   "cell_type": "markdown",
   "id": "b34c9b17",
   "metadata": {},
   "source": [
    "## ------------------------------------ QUESTION 3-C ------------------------------------"
   ]
  },
  {
   "cell_type": "code",
   "execution_count": 76,
   "id": "b6af84ac",
   "metadata": {},
   "outputs": [],
   "source": [
    "def labels_str_to_int(labels):\n",
    "    \"\"\"\n",
    "    convert string labels to integer to pass to the decision tree classifier\n",
    "    \n",
    "    Parameters\n",
    "    ----------\n",
    "    labels - numpy array of strings\n",
    "    \n",
    "    Returns\n",
    "    -------\n",
    "    labels_int - numpy array of integers\n",
    "    \"\"\"\n",
    "    labels_int = []\n",
    "    for i in labels:\n",
    "        if i=='Plastic':\n",
    "            labels_int.append(0)\n",
    "        elif i=='Ceramic':\n",
    "            labels_int.append(1)\n",
    "        elif i=='Metal':\n",
    "            labels_int.append(2)\n",
    "        \n",
    "    return np.array(labels_int)"
   ]
  },
  {
   "cell_type": "code",
   "execution_count": 82,
   "id": "9593a6ab",
   "metadata": {},
   "outputs": [],
   "source": [
    "train_labels_int = labels_str_to_int(train_labels)\n",
    "test_labels_int = labels_str_to_int(test_labels)"
   ]
  },
  {
   "cell_type": "code",
   "execution_count": 91,
   "id": "ec552543",
   "metadata": {},
   "outputs": [],
   "source": [
    "perf_comp_dt = {'model':[],'max_depth':[],'acc_train':[],'acc_test':[]}\n",
    "\n",
    "\"\"\"\n",
    "Iterating the max_depth through 1 to 8 as required in the problem\n",
    "Later, we can compare the model performance based on various depth levels\n",
    "to see which depth level is best performing for the given dataset\n",
    "and if the model is overfitting as we increase the depth\n",
    "\"\"\"\n",
    "\n",
    "for max_depth in range(1,9):\n",
    "    dec_tree = build_tree(train_features, train_labels_int, max_depth=max_depth)\n",
    "\n",
    "    pred_train = predict_all(dec_tree, train_features)\n",
    "    acc_train = 100*np.mean(pred_train == train_labels_int)\n",
    "    \n",
    "    pred_test = predict_all(dec_tree, test_features)\n",
    "    acc_test = 100*np.mean(pred_test == test_labels_int)\n",
    "    \n",
    "    perf_comp_dt['model'].append(dec_tree)\n",
    "    perf_comp_dt['max_depth'].append(max_depth)\n",
    "    perf_comp_dt['acc_train'].append(acc_train)\n",
    "    perf_comp_dt['acc_test'].append(acc_test)"
   ]
  },
  {
   "cell_type": "code",
   "execution_count": 98,
   "id": "fd232006",
   "metadata": {},
   "outputs": [
    {
     "name": "stdout",
     "output_type": "stream",
     "text": [
      "For Max Depth = 1, training accuracy = 72.55, testing accuracy = 55.56\n",
      "For Max Depth = 2, training accuracy = 82.35, testing accuracy = 77.78\n",
      "For Max Depth = 3, training accuracy = 88.24, testing accuracy = 77.78\n",
      "For Max Depth = 4, training accuracy = 88.24, testing accuracy = 77.78\n",
      "For Max Depth = 5, training accuracy = 95.1, testing accuracy = 77.78\n",
      "For Max Depth = 6, training accuracy = 98.04, testing accuracy = 88.89\n",
      "For Max Depth = 7, training accuracy = 100.0, testing accuracy = 94.44\n",
      "For Max Depth = 8, training accuracy = 100.0, testing accuracy = 94.44\n"
     ]
    }
   ],
   "source": [
    "for i in zip(perf_comp_dt['acc_train'], perf_comp_dt['acc_test'], perf_comp_dt['max_depth']):\n",
    "    print(f'For Max Depth = {i[2]}, training accuracy = {round(i[0],2)}, testing accuracy = {round(i[1],2)}')"
   ]
  },
  {
   "cell_type": "markdown",
   "id": "e0d6492c",
   "metadata": {},
   "source": [
    "### ------------ CONCLUSION ------------\n",
    "\n",
    "- As expected, while increasing the max depth, the training as well as testing accuracies increase.\n",
    "- After some time, at max depth level 6, the increase in training accuracy and testing accuracy is relatively slower.\n",
    "- We can also observe that for max depths 2,3,4,5 the testing accuracies are consistent.\n",
    "- This can mean that the features at these depths are not learning meaningful information for testing data.\n",
    "- Finally, the model seems to learn well at max_depth of 6 and 7 and does not appear to be overfitting as the training and testing accuracies are consistent with each other."
   ]
  },
  {
   "cell_type": "code",
   "execution_count": null,
   "id": "48ab90fc",
   "metadata": {},
   "outputs": [],
   "source": []
  },
  {
   "cell_type": "code",
   "execution_count": null,
   "id": "c92abcdc",
   "metadata": {},
   "outputs": [],
   "source": []
  }
 ],
 "metadata": {
  "kernelspec": {
   "display_name": "Python 3 (ipykernel)",
   "language": "python",
   "name": "python3"
  },
  "language_info": {
   "codemirror_mode": {
    "name": "ipython",
    "version": 3
   },
   "file_extension": ".py",
   "mimetype": "text/x-python",
   "name": "python",
   "nbconvert_exporter": "python",
   "pygments_lexer": "ipython3",
   "version": "3.9.12"
  }
 },
 "nbformat": 4,
 "nbformat_minor": 5
}
